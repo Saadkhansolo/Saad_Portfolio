{
 "cells": [
  {
   "cell_type": "code",
   "execution_count": 3,
   "metadata": {},
   "outputs": [],
   "source": [
    "# Importing the libraries\n",
    "import numpy as np\n",
    "import matplotlib.pyplot as plt\n",
    "import pandas as pd\n",
    "from sklearn.ensemble import ExtraTreesClassifier\n",
    "from sklearn.feature_selection import SelectFromModel\n",
    "from scipy.stats import gaussian_kde\n",
    "\n",
    "import psutil\n",
    "import time\n",
    "import os "
   ]
  },
  {
   "cell_type": "code",
   "execution_count": 4,
   "metadata": {},
   "outputs": [
    {
     "name": "stdout",
     "output_type": "stream",
     "text": [
      "131371008\n"
     ]
    }
   ],
   "source": [
    "process = psutil.Process(os.getpid())\n",
    "print(process.memory_info().rss)\n",
    "\n",
    "\n",
    "def plot_som(som, data, target=None) :\n",
    "    plt.figure(figsize=(16, 12))\n",
    "    bone()\n",
    "    pcolor(som.distance_map().T)\n",
    "    colorbar()\n",
    "    markers = ['o', 's', 'D', '+', 'v', 'p', '*', \"x\"]\n",
    "    colors = ['r', 'g', 'b', 'y', 'pink', 'orange', 'purple', \"grey\"]\n",
    "    if target is not None:\n",
    "        for cnt, xx in enumerate(data):\n",
    "            w = som.winner(xx)\n",
    "            plot(w[0]+.5,w[1]+.5,markers[target[cnt]], markerfacecolor='None',\n",
    "            markeredgecolor=colors[target[cnt]], markersize=12, markeredgewidth=2)\n",
    "        axis([0,som.weights.shape[0],0,som.weights.shape[1]]) #THISS\n",
    "        show()\n",
    "    else:\n",
    "        for cnt, xx in enumerate(data):\n",
    "            w = som.winner(xx)\n",
    "            plot(w[0]+.5,w[1]+.5,markers[0],markerfacecolor='None',\n",
    "            markeredgecolor=colors[0],markersize=12,markeredgewidth=2)\n",
    "        show()\n",
    "        "
   ]
  },
  {
   "cell_type": "code",
   "execution_count": 5,
   "metadata": {},
   "outputs": [],
   "source": [
    "# Importing the dataset\n",
    "#df = pd.read_csv('KDDTrain+_20Percent.csv')\n",
    "df = pd.read_csv('KDDTrain+.csv', header=None)\n",
    "dft = pd.read_csv('KDDtest.csv', header=None)\n",
    "full = pd.concat([df, dft])\n"
   ]
  },
  {
   "cell_type": "code",
   "execution_count": 4,
   "metadata": {},
   "outputs": [],
   "source": [
    "# The CSV file has no column heads, so add them\n",
    "\n",
    "full.columns = [\n",
    "    'duration', 'protocol_type', 'service', 'flag', 'src_bytes', 'dst_bytes',\n",
    "    'land', 'wrong_fragment', 'urgent', 'hot', 'num_failed_logins', 'logged_in',\n",
    "    'num_compromised', 'root_shell', 'su_attempted', 'num_root', 'num_file_creations',\n",
    "    'num_shells', 'num_access_files', 'num_outbound_cmds', 'is_host_login',\n",
    "    'is_guest_login', 'count', 'srv_count', 'serror_rate', 'srv_serror_rate',\n",
    "    'rerror_rate', 'srv_rerror_rate', 'same_srv_rate', 'diff_srv_rate',\n",
    "    'srv_diff_host_rate', 'dst_host_count', 'dst_host_srv_count', 'dst_host_same_srv_rate',\n",
    "    'dst_host_diff_srv_rate', 'dst_host_same_src_port_rate', 'dst_host_srv_diff_host_rate',\n",
    "    'dst_host_serror_rate', 'dst_host_srv_serror_rate', 'dst_host_rerror_rate',\n",
    "    'dst_host_srv_rerror_rate', 'outcome', 'score']\n",
    "\n",
    "\n",
    "full.outcome=full['outcome'].replace({ \n",
    "             'normal' : 0, \n",
    "             'neptune' : 3 ,\n",
    "             'back': 3, #should be 3\n",
    "             'land': 3, \n",
    "             'pod': 3,\n",
    "             'smurf': 3,  \n",
    "             'teardrop': 3,\n",
    "             'mailbomb': 3, \n",
    "             'apache2': 3, \n",
    "             'processtable': 3, \n",
    "             'udpstorm': 3, \n",
    "             'worm': 3, \n",
    "             'ipsweep' : 1, \n",
    "             'nmap' : 1, \n",
    "             'portsweep' : 1, \n",
    "             'satan' : 1, \n",
    "             'mscan' : 1, \n",
    "             'saint' : 1, \n",
    "             'ftp_write': 2, \n",
    "             'guess_passwd': 2, \n",
    "             'imap': 2, \n",
    "             'multihop': 2,\n",
    "             'phf': 2,\n",
    "             'spy': 2,\n",
    "             'warezclient': 2,\n",
    "             'warezmaster': 2,\n",
    "             'sendmail': 2, \n",
    "             'named': 2, \n",
    "             'snmpgetattack': 2,\n",
    "             'snmpguess': 2,\n",
    "             'xlock': 2,\n",
    "             'xsnoop': 2,\n",
    "             'httptunnel': 2,\n",
    "             'buffer_overflow': 4,\n",
    "             'loadmodule': 4,\n",
    "             'perl': 4,\n",
    "             'rootkit': 4,\n",
    "             'ps': 4,\n",
    "             'sqlattack': 4,\n",
    "             'xterm': 4}).astype(int)\n",
    "\n",
    "del full['score']\n"
   ]
  },
  {
   "cell_type": "code",
   "execution_count": 10,
   "metadata": {},
   "outputs": [],
   "source": [
    "\n",
    "# New dataframe with dummy variables for categorical features. Features size from 42 to 120.\n",
    "full2 = pd.get_dummies(full,drop_first = True)\n",
    "\n",
    "\n",
    "df=full2[0:df.shape[0]] # NSL-KDD Training dataset that will eventually contain just the training features (take out class later).\n",
    "dfy=full2['outcome'][0:df.shape[0]] # NSL-KDD Training dataset that just includes the the class labels \n",
    "dft=full2[df.shape[0]:] #NSL-KDD Test dataset that includes features and class column that will be seperated later\n",
    "dfty=full2['outcome'][df.shape[0]:] #NSL-KDD test data that only has class column\n"
   ]
  },
  {
   "cell_type": "code",
   "execution_count": 12,
   "metadata": {},
   "outputs": [],
   "source": [
    "target_benign = df[df['outcome'] == 0].iloc[:, 38] #This is only the class series for NSL-KDD training dataset \n",
    "target = df['outcome']  #This class series will be used later for feature selection\n",
    "\n",
    "#\n",
    "dft_target_benign = dft[dft['outcome'] == 0].iloc[:, 38] # Creates a vector of zeros indicating benign traffic \n",
    "dft_target_probe = dft[dft['outcome'] == 1].iloc[:, 38] # Creates a vector of ones for class label\n",
    "dft_target_r2l = dft[dft['outcome'] == 2].iloc[:, 38] # Creates a vector of twos for class label\n",
    "dft_target_dos = dft[dft['outcome'] == 3].iloc[:, 38] # Creates a vector of threes for class label\n",
    "dft_target_u2r = dft[dft['outcome'] == 4].iloc[:, 38] # Creates a vector of fours for class label\n",
    "dft_target = dft['outcome'] #Just the series of the class column of NSL-KDD test dataset\n",
    "\n",
    "data_benign = df[df['outcome'] == 0].drop(['outcome'], axis =1) #kddtrain+ features vector \n",
    "\n",
    "data = df.drop(['outcome'], axis =1) #The training feature set will be used for feature selection \n",
    "\n",
    "\n",
    "dft_data_benign = dft[dft['outcome'] == 0].drop(['outcome'], axis =1) \n",
    "dft_data_probe = dft[dft['outcome'] == 1].drop(['outcome'], axis =1) \n",
    "dft_data_r2l = dft[dft['outcome'] == 2].drop(['outcome'], axis =1) \n",
    "dft_data_dos = dft[dft['outcome'] == 3].drop(['outcome'], axis =1) \n",
    "dft_data_u2r = dft[dft['outcome'] == 4].drop(['outcome'], axis =1) \n",
    "\n",
    "dft_data = dft.drop(['outcome'], axis =1) #KDDTest datatset independent features \n"
   ]
  },
  {
   "cell_type": "code",
   "execution_count": 14,
   "metadata": {},
   "outputs": [],
   "source": [
    "# Feature Scaling\n",
    "from sklearn.preprocessing import MinMaxScaler\n",
    "\n",
    "sc = MinMaxScaler(feature_range = (0, 1))\n",
    "\n",
    "data = sc.fit_transform(data) \n",
    "\n",
    "dft_data = sc.fit_transform(dft_data) \n",
    "data_benign = sc.fit_transform(data_benign) \n",
    "dft_data_benign = sc.fit_transform(dft_data_benign)\n",
    "dft_data_probe = sc.fit_transform(dft_data_probe) \n",
    "dft_data_r2l = sc.fit_transform(dft_data_r2l) \n",
    "dft_data_dos = sc.fit_transform(dft_data_dos) \n",
    "dft_data_u2r = sc.fit_transform(dft_data_u2r) "
   ]
  },
  {
   "cell_type": "code",
   "execution_count": 26,
   "metadata": {},
   "outputs": [],
   "source": [
    "#feature selection aka dimention reduction\n",
    "clf = ExtraTreesClassifier()\n",
    "clf.fit(data, target)\n",
    "sfm = SelectFromModel(clf, prefit=True)\n",
    "\n",
    "data_benign_new = sfm.transform(data_benign) \n",
    "dft_data_benign_new = sfm.transform(dft_data_benign) \n",
    "dft_data_probe_new = sfm.transform(dft_data_probe) \n",
    "dft_data_r2l_new = sfm.transform(dft_data_r2l) \n",
    "dft_data_dos_new = sfm.transform(dft_data_dos) \n",
    "dft_data_u2r_new = sfm.transform(dft_data_u2r)\n",
    "data_new = sfm.transform(data) #this is our feature vectors for KDDtrain+\n",
    "dft_data_new = sfm.transform(dft_data) #this is features vectors for KDDtest+ aka evaluation\n",
    "\n"
   ]
  },
  {
   "cell_type": "code",
   "execution_count": 16,
   "metadata": {},
   "outputs": [
    {
     "name": "stdout",
     "output_type": "stream",
     "text": [
      "{'learning_rate': 4.196091095955324, 'sigma': 9.694979779379835, 'x': 34.97618770333929}                               \n",
      "2.142600028649261                                                                                                      \n",
      "{'learning_rate': 0.5481411507530136, 'sigma': 6.403716026486632, 'x': 49.95796065408332}                              \n",
      "2.1629530474814778                                                                                                     \n",
      "{'learning_rate': 3.922373853127948, 'sigma': 8.834261002535344, 'x': 20.94982477445681}                               \n",
      "2.2321375386501705                                                                                                     \n",
      "{'learning_rate': 1.4578203383963264, 'sigma': 9.190983502687997, 'x': 20.318506623455523}                             \n",
      "2.197821164147188                                                                                                      \n",
      "{'learning_rate': 2.8382165488752857, 'sigma': 9.33647379127576, 'x': 43.63222477605037}                               \n",
      "2.1598992891577855                                                                                                     \n",
      "{'learning_rate': 0.3273051059423877, 'sigma': 5.4509621344924035, 'x': 41.33949410687367}                             \n",
      "2.1528375216084057                                                                                                     \n",
      "{'learning_rate': 4.622201187516249, 'sigma': 6.451082478502789, 'x': 24.25726673450001}                               \n",
      "2.181673244529995                                                                                                      \n",
      "{'learning_rate': 3.5874359111729994, 'sigma': 5.424553129065702, 'x': 33.36112949218383}                              \n",
      "2.19298334164713                                                                                                       \n",
      "{'learning_rate': 0.3215699226304435, 'sigma': 9.570552305261515, 'x': 36.666915600307064}                             \n",
      "2.178698830361915                                                                                                      \n",
      "{'learning_rate': 3.2609550693237153, 'sigma': 6.055762470875257, 'x': 49.43408904931002}                              \n",
      "2.1534470588371546                                                                                                     \n",
      "{'learning_rate': 0.22220444499489134, 'sigma': 5.729774896526447, 'x': 23.072033263338728}                            \n",
      "2.172582826945595                                                                                                      \n",
      "{'learning_rate': 0.9190481334111955, 'sigma': 5.193445207249937, 'x': 42.06916767137731}                              \n",
      "2.1043824982388273                                                                                                     \n",
      "{'learning_rate': 4.04764460944605, 'sigma': 7.011720656746881, 'x': 20.29841312747546}                                \n",
      "2.193981859297102                                                                                                      \n",
      "{'learning_rate': 3.1810039957619796, 'sigma': 9.660295807445149, 'x': 34.247157613559544}                             \n",
      "2.1611105445859855                                                                                                     \n",
      "{'learning_rate': 4.556697574931865, 'sigma': 9.114750018326852, 'x': 41.379707409894976}                              \n",
      "2.1935815506085747                                                                                                     \n",
      "{'learning_rate': 4.891929379110195, 'sigma': 8.030944373515107, 'x': 39.384149022094135}                              \n",
      "2.1440604450824763                                                                                                     \n",
      "{'learning_rate': 1.6900426924414436, 'sigma': 9.355243623500773, 'x': 34.62793031880225}                              \n",
      "2.1621060898751416                                                                                                     \n",
      "{'learning_rate': 0.9828686054349675, 'sigma': 9.878135310470107, 'x': 35.19998225413681}                              \n",
      "2.142566067625996                                                                                                      \n",
      "{'learning_rate': 2.238240511918289, 'sigma': 5.3863161603808525, 'x': 45.461927565222425}                             \n",
      "2.1758256037844217                                                                                                     \n",
      "{'learning_rate': 3.5115173396762867, 'sigma': 5.913563404715351, 'x': 28.82741082249113}                              \n",
      "2.1867445252020783                                                                                                     \n",
      "{'learning_rate': 1.0249140069834017, 'sigma': 7.974588232287516, 'x': 29.89339570754508}                              \n",
      "2.186196776263879                                                                                                      \n",
      "{'learning_rate': 0.9580794380049094, 'sigma': 8.467662396162225, 'x': 46.68990976785737}                              \n",
      "2.130629250870489                                                                                                      \n",
      "{'learning_rate': 2.1464744336765147, 'sigma': 8.51452433798435, 'x': 46.855307545843075}                              \n",
      "2.1304817544879424                                                                                                     \n",
      "{'learning_rate': 2.0967632753262526, 'sigma': 7.019137859429921, 'x': 47.69542848288036}                              \n",
      "2.1368424702139377                                                                                                     \n",
      "{'learning_rate': 1.6339217971095858, 'sigma': 7.547655326409158, 'x': 43.30818755509876}                              \n",
      "2.0968338819989665                                                                                                     \n",
      "{'learning_rate': 1.5768151460239022, 'sigma': 7.391792358277502, 'x': 38.84124794797281}                              \n",
      "2.1869900606228714                                                                                                     \n",
      "{'learning_rate': 2.7086935232179723, 'sigma': 7.630995695657061, 'x': 43.78943830995163}                              \n",
      "2.1743784107585906                                                                                                     \n",
      "{'learning_rate': 1.2703215033428554, 'sigma': 6.511926724255874, 'x': 41.95895571307752}                              \n",
      "2.155875786703813                                                                                                      \n",
      "{'learning_rate': 0.698852706332829, 'sigma': 5.001340799810223, 'x': 37.93128919299686}                               \n",
      "2.1068991755076594                                                                                                     \n",
      "{'learning_rate': 1.78694717727724, 'sigma': 7.1214700907499076, 'x': 30.612611295181512}                              \n",
      "2.214434077085107                                                                                                      \n",
      "{'learning_rate': 2.408236909930292, 'sigma': 7.80474422499367, 'x': 49.81950938964557}                                \n",
      "2.151481138391746                                                                                                      \n",
      "{'learning_rate': 0.6021911028399631, 'sigma': 6.66639578828816, 'x': 45.09868312896906}                               \n",
      "2.1802867653148925                                                                                                     \n",
      "{'learning_rate': 1.8823330219442544, 'sigma': 5.026272359177563, 'x': 40.41095949049322}                              \n",
      "2.1700061846814                                                                                                        \n",
      "{'learning_rate': 1.270303933636947, 'sigma': 8.36998713542474, 'x': 42.562702466576056}                               \n",
      "2.164250769376196                                                                                                      \n",
      "{'learning_rate': 1.333997455965075, 'sigma': 7.279815162583494, 'x': 36.98443579009732}                               \n",
      "2.186360362198383                                                                                                      \n",
      "{'learning_rate': 0.09306831293121498, 'sigma': 6.155132995482481, 'x': 48.2168573293765}                              \n",
      "2.162763237528795                                                                                                      \n",
      "{'learning_rate': 2.8099921711053106, 'sigma': 6.758191876773075, 'x': 43.99186324343274}                              \n",
      "2.1748766586535964                                                                                                     \n",
      "{'learning_rate': 0.7419378593633712, 'sigma': 8.855375111322724, 'x': 32.68020583695166}                              \n",
      "2.2022338652082216                                                                                                     \n",
      "{'learning_rate': 0.0532930931506197, 'sigma': 8.129592483700433, 'x': 27.525754353500083}                             \n",
      "2.2143705176908712                                                                                                     \n",
      "{'learning_rate': 2.530278635111766, 'sigma': 7.710015457381978, 'x': 45.24594028201431}                               \n",
      "2.1730116025498205                                                                                                     \n",
      "{'learning_rate': 0.4367013959536816, 'sigma': 5.635152982787793, 'x': 40.27899908456274}                              \n",
      "2.1722811825792125                                                                                                     \n",
      "{'learning_rate': 1.9476749830949474, 'sigma': 6.241260378089844, 'x': 36.401375620412914}                             \n",
      "2.2168037886663434                                                                                                     \n",
      "{'learning_rate': 3.080267201003715, 'sigma': 6.765016190502928, 'x': 32.64608037015562}                               \n",
      "2.1185673454704474                                                                                                     \n",
      "{'learning_rate': 1.5451995867575352, 'sigma': 7.444380367782294, 'x': 25.877409155755114}                             \n",
      "2.2261890280274197                                                                                                     \n",
      "{'learning_rate': 1.1415311796442917, 'sigma': 8.740202890678358, 'x': 42.98487328090774}                              \n",
      "2.1469327199441066                                                                                                     \n",
      "{'learning_rate': 0.8096155345688317, 'sigma': 5.223810192453612, 'x': 49.12619702193315}                              \n",
      "2.0919494236879133                                                                                                     \n",
      "{'learning_rate': 0.22667522250312233, 'sigma': 6.424758225729916, 'x': 49.669228291169894}                            \n",
      "2.180181230485468                                                                                                      \n",
      "{'learning_rate': 4.33522376390525, 'sigma': 8.21675874752135, 'x': 48.031601338295665}                                \n",
      "2.182653986968024                                                                                                      \n",
      "{'learning_rate': 3.625094868778233, 'sigma': 5.881939180039956, 'x': 48.7736277322535}                                \n",
      "2.1440522319244995                                                                                                     \n",
      "{'learning_rate': 0.8192678922982951, 'sigma': 7.226826613328513, 'x': 46.11465616664292}                              \n",
      "2.139236886744421                                                                                                      \n",
      "{'learning_rate': 1.4353925998625505, 'sigma': 9.017121840545482, 'x': 21.941832008745564}                             \n",
      "2.248398606406688                                                                                                      \n",
      "{'learning_rate': 0.5430940014224153, 'sigma': 5.309818711755435, 'x': 44.388630931579826}                             \n",
      "2.1557566063317695                                                                                                     \n",
      "{'learning_rate': 2.475234489136705, 'sigma': 6.902986954639538, 'x': 41.03303933562379}                               \n",
      "2.177539874587576                                                                                                      \n",
      "{'learning_rate': 2.3042052024894684, 'sigma': 9.472964751501372, 'x': 39.49689178719915}                              \n",
      "2.1711302307746116                                                                                                     \n",
      "{'learning_rate': 2.045423983728509, 'sigma': 9.891238811960019, 'x': 47.12691363929939}                               \n",
      "2.1610672141740705                                                                                                     \n",
      "{'learning_rate': 1.0867062573469068, 'sigma': 7.885868757285442, 'x': 35.919580127041336}                             \n",
      "2.171034731541902                                                                                                      \n",
      "{'learning_rate': 3.044406858323877, 'sigma': 5.666090949128342, 'x': 49.21897705431517}                               \n",
      "2.147524025742565                                                                                                      \n",
      "{'learning_rate': 1.6991208381115115, 'sigma': 8.740716150738871, 'x': 37.88502460357107}                              \n",
      "2.1556966720755155                                                                                                     \n",
      "{'learning_rate': 4.987465969417961, 'sigma': 7.552655424012729, 'x': 45.941286389368706}                              \n",
      "2.13917711929198                                                                                                       \n",
      "{'learning_rate': 3.748857330146398, 'sigma': 6.28744814779855, 'x': 49.973312707378525}                               \n",
      "2.107573873905793                                                                                                      \n",
      "{'learning_rate': 3.3024317840668402, 'sigma': 6.021508191978336, 'x': 43.162874500125454}                             \n",
      "2.187047060262834                                                                                                      \n",
      "{'learning_rate': 0.38738455547629785, 'sigma': 5.133470950965906, 'x': 34.06230925804003}                             \n",
      "2.163301582032894                                                                                                      \n",
      "{'learning_rate': 0.8526261174271224, 'sigma': 6.595672214169417, 'x': 41.81922810055352}                              \n",
      "2.2033657469146717                                                                                                     \n",
      "{'learning_rate': 2.6667850710129892, 'sigma': 8.5704769571715, 'x': 31.311269245840286}                               \n",
      "2.1319362002846067                                                                                                     \n",
      "{'learning_rate': 1.151627442377873, 'sigma': 8.268971348699, 'x': 38.51722872922215}                                  \n",
      "2.147615236882192                                                                                                      \n",
      "{'learning_rate': 1.4454769429967764, 'sigma': 5.1646393115582665, 'x': 39.77074252884883}                             \n",
      "2.1819076231121897                                                                                                     \n",
      "{'learning_rate': 0.5560458700356165, 'sigma': 5.45589273129643, 'x': 44.357732736098356}                              \n",
      "2.168714433347655                                                                                                      \n",
      "{'learning_rate': 0.21393914741825926, 'sigma': 5.579060380751815, 'x': 47.28382504909292}                             \n",
      "2.14553373322083                                                                                                       \n"
     ]
    },
    {
     "name": "stdout",
     "output_type": "stream",
     "text": [
      "{'learning_rate': 0.9265581038475663, 'sigma': 5.7922630895473874, 'x': 40.93066507834126}                             \n",
      "2.136556666235744                                                                                                      \n",
      "{'learning_rate': 1.7997329763989862, 'sigma': 6.05459306870578, 'x': 42.29435119005636}                               \n",
      "2.1943524170281066                                                                                                     \n",
      "{'learning_rate': 1.589572869763873, 'sigma': 5.290602276888994, 'x': 37.60293719255312}                               \n",
      "2.136026728811242                                                                                                      \n",
      "{'learning_rate': 2.3017338603934956, 'sigma': 7.298340761632523, 'x': 46.23986196776784}                              \n",
      "2.189531763248305                                                                                                      \n",
      "{'learning_rate': 0.7043448590169866, 'sigma': 6.938530128531227, 'x': 44.69630818045409}                              \n",
      "2.143336368246992                                                                                                      \n",
      "{'learning_rate': 1.283831067240923, 'sigma': 7.0825510951243515, 'x': 35.61336302723117}                              \n",
      "2.158186679615598                                                                                                      \n",
      "{'learning_rate': 1.962532221946777, 'sigma': 5.498064113164815, 'x': 43.54324645444111}                               \n",
      "2.1664033375638696                                                                                                     \n",
      "{'learning_rate': 2.143674352240526, 'sigma': 8.068628465346231, 'x': 48.594290716547526}                              \n",
      "2.139295340266197                                                                                                      \n",
      "{'learning_rate': 0.14040036696839797, 'sigma': 7.725056160370244, 'x': 45.53095033442199}                             \n",
      "2.167358819150586                                                                                                      \n",
      "{'learning_rate': 1.0092476858442514, 'sigma': 6.332420699276074, 'x': 38.849443661881935}                             \n",
      "2.182659957555937                                                                                                      \n",
      "{'learning_rate': 1.1798725720579673, 'sigma': 6.8248080409548075, 'x': 37.09314964112804}                             \n",
      "2.157971259301176                                                                                                      \n",
      "{'learning_rate': 1.3838582912876736, 'sigma': 9.196588870876525, 'x': 41.63182642512173}                              \n",
      "2.1631859470713177                                                                                                     \n",
      "{'learning_rate': 0.4037742693984537, 'sigma': 6.556493166674828, 'x': 47.57357888320185}                              \n",
      "2.164899388268118                                                                                                      \n",
      "{'learning_rate': 1.5348611843740767, 'sigma': 5.834347717636165, 'x': 40.29306340925272}                              \n",
      "2.1594678258175075                                                                                                     \n",
      "{'learning_rate': 1.7601728757856223, 'sigma': 7.528236409563579, 'x': 42.62208698021252}                              \n",
      "2.169233542790261                                                                                                      \n",
      "{'learning_rate': 0.8611460613573223, 'sigma': 9.74706580076888, 'x': 49.113610351841366}                              \n",
      "2.1513450580470184                                                                                                     \n",
      "{'learning_rate': 0.6240206448340163, 'sigma': 5.080779621573036, 'x': 46.48332486372304}                              \n",
      "2.182432985540108                                                                                                      \n",
      "{'learning_rate': 1.906268339872481, 'sigma': 5.945755663778305, 'x': 28.186089366040072}                              \n",
      "2.2081833628648377                                                                                                     \n",
      "{'learning_rate': 2.9595623345190214, 'sigma': 6.180841851121305, 'x': 48.09606887826578}                              \n",
      "2.1666227170387264                                                                                                     \n",
      "{'learning_rate': 1.2554606538414061, 'sigma': 7.908159433040117, 'x': 24.27391165897498}                              \n",
      "2.20206396156432                                                                                                       \n",
      "{'learning_rate': 1.6051939668545618, 'sigma': 5.284756658709373, 'x': 33.652745764308186}                             \n",
      "2.15629854436916                                                                                                       \n",
      "{'learning_rate': 0.4931473610340129, 'sigma': 7.205519473355222, 'x': 44.855418686036735}                             \n",
      "2.1514344898537052                                                                                                     \n",
      "{'learning_rate': 0.23128032709390012, 'sigma': 7.6327302592994695, 'x': 34.6988337236907}                             \n",
      "2.1700726892619953                                                                                                     \n",
      "{'learning_rate': 2.622704193527898, 'sigma': 6.439842395075192, 'x': 43.51394795895753}                               \n",
      "2.1234155724028865                                                                                                     \n",
      "{'learning_rate': 0.29403260335205317, 'sigma': 7.3683147271610885, 'x': 36.19503386956448}                            \n",
      "2.137158699253783                                                                                                      \n",
      "{'learning_rate': 0.8028180638003984, 'sigma': 6.682001489049447, 'x': 49.96644574456188}                              \n",
      "2.15070893001028                                                                                                       \n",
      "{'learning_rate': 2.228488873682058, 'sigma': 8.503131887975416, 'x': 32.534336972876325}                              \n",
      "2.1630869171827003                                                                                                     \n",
      "{'learning_rate': 2.0428426342748556, 'sigma': 5.718405797618306, 'x': 45.739095183427025}                             \n",
      "2.1504340466966894                                                                                                     \n",
      "{'learning_rate': 3.393362408891583, 'sigma': 8.349816608968226, 'x': 46.89155528015507}                               \n",
      "2.1114852543243576                                                                                                     \n",
      "{'learning_rate': 1.0616659656882659, 'sigma': 8.965592712504575, 'x': 41.06866750722806}                              \n",
      "2.157903522004257                                                                                                      \n",
      "{'learning_rate': 2.8470334873486403, 'sigma': 5.2059375043464335, 'x': 44.05124981727936}                             \n",
      "2.1723266374645234                                                                                                     \n",
      "{'learning_rate': 0.6571815762918605, 'sigma': 8.15753104318441, 'x': 38.447306899453544}                              \n",
      "2.196003593765556                                                                                                      \n",
      "{'learning_rate': 2.404522171878855, 'sigma': 5.006102372771038, 'x': 39.30303436567054}                               \n",
      "2.1719751968316423                                                                                                     \n",
      "{'learning_rate': 0.9231031987720757, 'sigma': 5.533405492118936, 'x': 42.41578769095959}                              \n",
      "2.1441331607609744                                                                                                     \n",
      "{'learning_rate': 1.4887693182620478, 'sigma': 6.972181665372582, 'x': 35.11094622732788}                              \n",
      "2.1388850767048733                                                                                                     \n",
      "{'learning_rate': 0.0649135447393484, 'sigma': 5.388539220591541, 'x': 30.436849395283403}                             \n",
      "2.192378971472824                                                                                                      \n",
      "{'learning_rate': 1.7132143472111423, 'sigma': 7.0729305155943285, 'x': 43.061346767366736}                            \n",
      "2.189496147757006                                                                                                      \n",
      "{'learning_rate': 1.1083305801047976, 'sigma': 8.624993177040352, 'x': 32.00625149331556}                              \n",
      "2.167772714821402                                                                                                      \n",
      "{'learning_rate': 4.0277367727473115, 'sigma': 6.142834178805943, 'x': 39.820168166636336}                             \n",
      "2.208914062171222                                                                                                      \n",
      "{'learning_rate': 0.7542190992627305, 'sigma': 7.780024294359991, 'x': 37.09079519485184}                              \n",
      "2.254874849014555                                                                                                      \n",
      "{'learning_rate': 1.3749949896811162, 'sigma': 6.87117143493381, 'x': 40.761586252100805}                              \n",
      "2.1806211853694206                                                                                                     \n",
      "{'learning_rate': 1.210443673243606, 'sigma': 5.973161826653088, 'x': 48.80176436758058}                               \n",
      "2.0856255715635736                                                                                                     \n",
      "{'learning_rate': 1.82340823026597, 'sigma': 7.951556740396667, 'x': 48.56080593464684}                                \n",
      "2.171090171914734                                                                                                      \n",
      "{'learning_rate': 1.655183951559278, 'sigma': 7.196738529171105, 'x': 49.20730167742247}                               \n",
      "2.141955484942984                                                                                                      \n",
      "{'learning_rate': 1.233933230734428, 'sigma': 6.3230076593110605, 'x': 47.96715574512879}                              \n",
      "2.1650058717570135                                                                                                     \n",
      "{'learning_rate': 1.9994641592159077, 'sigma': 7.456363442388164, 'x': 45.37059502669968}                              \n",
      "2.1823213370084793                                                                                                     \n",
      "{'learning_rate': 4.464134527121127, 'sigma': 6.729041634317175, 'x': 49.99616358281304}                               \n",
      "2.140695782089173                                                                                                      \n",
      "{'learning_rate': 2.5469667839908623, 'sigma': 6.6030965435924855, 'x': 26.26195766935544}                             \n",
      "2.209698550649804                                                                                                      \n",
      "{'learning_rate': 2.2174172613295617, 'sigma': 5.992965251095707, 'x': 47.270117353076444}                             \n",
      "2.1788938491458967                                                                                                     \n",
      "{'learning_rate': 0.4955082165720386, 'sigma': 5.6202880290471775, 'x': 44.99525233854608}                             \n",
      "2.1686549212085207                                                                                                     \n",
      "{'learning_rate': 2.348114771791585, 'sigma': 5.759509928991001, 'x': 46.10464078368847}                               \n",
      "2.163497561964579                                                                                                      \n",
      "{'learning_rate': 1.8642189022217415, 'sigma': 9.373026544358343, 'x': 20.96450559856099}                              \n",
      "2.208318852999132                                                                                                      \n",
      "{'learning_rate': 0.35884180797084425, 'sigma': 8.3754975619668, 'x': 49.492494357308686}                              \n",
      "2.171142300088369                                                                                                      \n",
      "{'learning_rate': 0.9894395812021324, 'sigma': 6.479789457749138, 'x': 46.84141827079736}                              \n",
      "2.166344307408887                                                                                                      \n",
      "{'learning_rate': 4.772903263960072, 'sigma': 6.138032369374085, 'x': 48.81896289867085}                               \n",
      "2.1286941841151132                                                                                                     \n",
      "{'learning_rate': 2.742415826844228, 'sigma': 5.883324763281166, 'x': 44.429783055253196}                              \n",
      "2.163275200540728                                                                                                      \n",
      "{'learning_rate': 1.4388714423834208, 'sigma': 7.623095820890345, 'x': 41.75962939395127}                              \n",
      "2.1792890859299185                                                                                                     \n",
      "{'learning_rate': 3.802371568526812, 'sigma': 5.373793589346968, 'x': 46.565032931953276}                              \n",
      "2.1802412922970174                                                                                                     \n",
      "{'learning_rate': 1.338297823616605, 'sigma': 8.011577874077146, 'x': 47.70137065693326}                               \n",
      "2.181233780465041                                                                                                      \n",
      "{'learning_rate': 3.2098744738768206, 'sigma': 6.391762997535022, 'x': 43.61632114131393}                              \n",
      "2.1710774704635294                                                                                                     \n",
      "{'learning_rate': 2.158312613824996, 'sigma': 7.834776984675763, 'x': 49.888362725612346}                              \n",
      "2.1397207019656035                                                                                                     \n",
      "{'learning_rate': 0.17270005595573557, 'sigma': 7.290139304170142, 'x': 42.94135814285766}                             \n",
      "2.1056365540327033                                                                                                     \n",
      "{'learning_rate': 0.6510852653717991, 'sigma': 5.0109035056334985, 'x': 48.38752535946172}                             \n",
      "2.1408333309372622                                                                                                     \n",
      "{'learning_rate': 1.1990193004173577, 'sigma': 6.234328630952877, 'x': 24.06849575936784}                              \n",
      "2.206345490716526                                                                                                      \n",
      "{'learning_rate': 2.4834282908891727, 'sigma': 8.83675437360984, 'x': 29.275349118043465}                              \n",
      "2.173365091486728                                                                                                      \n",
      "{'learning_rate': 2.9443521169151405, 'sigma': 8.727973693916113, 'x': 45.47683495592444}                              \n",
      "2.156840823856934                                                                                                      \n",
      "{'learning_rate': 1.6634617315889044, 'sigma': 9.107568991577832, 'x': 47.42769815068207}                              \n",
      "2.151986017360454                                                                                                      \n",
      "{'learning_rate': 0.5734802981808302, 'sigma': 5.19920659312456, 'x': 40.062223618324396}                              \n",
      "2.1845374224439733                                                                                                     \n"
     ]
    },
    {
     "name": "stdout",
     "output_type": "stream",
     "text": [
      "{'learning_rate': 0.8593740172561737, 'sigma': 8.25525712588078, 'x': 42.13481356368291}                               \n",
      "2.142182775500272                                                                                                      \n",
      "{'learning_rate': 1.5676912306442514, 'sigma': 6.803611017142935, 'x': 38.183327135719445}                             \n",
      "2.104785072023711                                                                                                      \n",
      "{'learning_rate': 0.31361482004716135, 'sigma': 6.973896802015153, 'x': 37.51303532803077}                             \n",
      "2.192356782936154                                                                                                      \n",
      "{'learning_rate': 2.0675945668810716, 'sigma': 5.485895277919669, 'x': 39.207198267441655}                             \n",
      "2.1900622135958594                                                                                                     \n",
      "{'learning_rate': 1.0699131575201613, 'sigma': 7.352086685648816, 'x': 49.33313376400705}                              \n",
      "2.159752832212181                                                                                                      \n",
      "{'learning_rate': 0.7565267804188632, 'sigma': 9.63049316822923, 'x': 44.403693690107445}                              \n",
      "2.158366882064667                                                                                                      \n",
      "{'learning_rate': 0.4386563492860207, 'sigma': 7.147067265154433, 'x': 41.41620277718247}                              \n",
      "2.127516037853851                                                                                                      \n",
      "{'learning_rate': 3.4784341993135315, 'sigma': 8.096410536463182, 'x': 46.10786757507709}                              \n",
      "2.1760727788517142                                                                                                     \n",
      "{'learning_rate': 1.7278737208845938, 'sigma': 7.526655956844397, 'x': 33.323118499610445}                             \n",
      "2.1683462540821883                                                                                                     \n",
      "{'learning_rate': 0.05354438613231216, 'sigma': 5.2827523995115975, 'x': 40.43790335813944}                            \n",
      "2.178621561709443                                                                                                      \n",
      "{'learning_rate': 0.9358967440780672, 'sigma': 5.108821599944936, 'x': 44.98991041592472}                              \n",
      "2.148785766329374                                                                                                      \n",
      "{'learning_rate': 1.4896144076267546, 'sigma': 5.648030490769763, 'x': 35.75015304132082}                              \n",
      "2.186067261978489                                                                                                      \n",
      "{'learning_rate': 1.1529509334749743, 'sigma': 5.811308131507985, 'x': 42.786111679654674}                             \n",
      "2.1858434523842685                                                                                                     \n",
      "{'learning_rate': 1.3426503424215346, 'sigma': 6.034219580190691, 'x': 47.99359984860569}                              \n",
      "2.149644689266962                                                                                                      \n",
      "{'learning_rate': 0.7016198574296781, 'sigma': 5.0634924743684175, 'x': 36.827817883080144}                            \n",
      "2.1854238573586446                                                                                                     \n",
      "{'learning_rate': 1.9031186329781355, 'sigma': 5.548361302568459, 'x': 43.86769804896461}                              \n",
      "2.166463147265799                                                                                                      \n",
      "{'learning_rate': 1.0319987266942527, 'sigma': 5.377804480670359, 'x': 38.934183084841194}                             \n",
      "2.209495179845986                                                                                                      \n",
      "{'learning_rate': 1.2870364698538108, 'sigma': 5.224749814331636, 'x': 34.330206270624}                                \n",
      "2.1603168136985773                                                                                                     \n",
      "{'learning_rate': 0.858084348752503, 'sigma': 6.09236653424549, 'x': 46.756962296523255}                               \n",
      "2.1515088336006243                                                                                                     \n",
      "{'learning_rate': 0.5322943989866067, 'sigma': 5.714993734569098, 'x': 45.68796294414225}                              \n",
      "2.1527562517291243                                                                                                     \n",
      "{'learning_rate': 1.4148028554812018, 'sigma': 5.956742363996836, 'x': 43.42149987224369}                              \n",
      "2.1878640945180363                                                                                                     \n",
      "{'learning_rate': 0.23037897366731874, 'sigma': 6.599321452299801, 'x': 40.96145950622684}                             \n",
      "2.099124557285784                                                                                                      \n",
      "{'learning_rate': 0.20053631874125766, 'sigma': 6.585240775048401, 'x': 41.23026064872592}                             \n",
      "2.184406813520219                                                                                                      \n",
      "{'learning_rate': 0.2850148205059435, 'sigma': 6.413709355209617, 'x': 48.80753316686521}                              \n",
      "2.16724769329811                                                                                                       \n",
      "{'learning_rate': 0.3932835391708376, 'sigma': 6.329280670054206, 'x': 42.089647531585555}                             \n",
      "2.151873755866623                                                                                                      \n",
      "{'learning_rate': 0.05087538929992763, 'sigma': 7.078856160877234, 'x': 49.976526881025485}                            \n",
      "2.159236484376512                                                                                                      \n",
      "{'learning_rate': 0.7893834799565291, 'sigma': 6.643841375222168, 'x': 36.34806872419502}                              \n",
      "2.1761072365084386                                                                                                     \n",
      "{'learning_rate': 0.966486477102504, 'sigma': 6.515286007915374, 'x': 40.69708454612823}                               \n",
      "2.168080569671294                                                                                                      \n",
      "{'learning_rate': 1.7988313254547643, 'sigma': 7.694235684138808, 'x': 44.03633591208424}                              \n",
      "2.1393566749240636                                                                                                     \n",
      "{'learning_rate': 0.4773261124402284, 'sigma': 6.729058724858718, 'x': 31.726874034075227}                             \n",
      "2.188584662621696                                                                                                      \n",
      "{'learning_rate': 0.601802509154338, 'sigma': 6.905622774720197, 'x': 37.71744194591237}                               \n",
      "2.1633890300768557                                                                                                     \n",
      "{'learning_rate': 0.11539323789327072, 'sigma': 5.859027071761502, 'x': 39.64024776479399}                             \n",
      "2.1558531338927343                                                                                                     \n",
      "{'learning_rate': 1.2005804900331407, 'sigma': 7.443952513278068, 'x': 35.412460117919856}                             \n",
      "2.140514154162246                                                                                                      \n",
      "{'learning_rate': 1.6499859769531102, 'sigma': 6.316718029879338, 'x': 47.21098315733751}                              \n",
      "2.1052900428664585                                                                                                     \n",
      "{'learning_rate': 1.996236371878414, 'sigma': 6.827898950947562, 'x': 44.63138943824282}                               \n",
      "2.173473036577362                                                                                                      \n",
      "{'learning_rate': 1.5321055807306438, 'sigma': 6.216034636211809, 'x': 46.397748130052165}                             \n",
      "2.108739646668773                                                                                                      \n",
      "{'learning_rate': 2.344941691526388, 'sigma': 7.292240907475822, 'x': 38.350154542667}                                 \n",
      "2.178785361364133                                                                                                      \n",
      "{'learning_rate': 2.5982784715130545, 'sigma': 6.081167666721049, 'x': 42.79463503923233}                              \n",
      "2.1904586659919185                                                                                                     \n",
      "{'learning_rate': 1.0699530806701238, 'sigma': 7.616574995688243, 'x': 48.2832741361175}                               \n",
      "2.1646461032104547                                                                                                     \n",
      "{'learning_rate': 0.3247447523254663, 'sigma': 7.017955578560115, 'x': 45.28309723324114}                              \n",
      "2.163945815099358                                                                                                      \n",
      "{'learning_rate': 0.7510319137540308, 'sigma': 5.913602348584575, 'x': 47.61578768393144}                              \n",
      "2.149143085883883                                                                                                      \n",
      "{'learning_rate': 0.6507407574343295, 'sigma': 7.8874975507886, 'x': 41.68278442461295}                                \n",
      "2.1957180958892284                                                                                                     \n",
      "{'learning_rate': 2.1094886436280245, 'sigma': 6.496937204113019, 'x': 33.14038147946321}                              \n",
      "2.15347061850618                                                                                                       \n",
      "{'learning_rate': 0.907139769342747, 'sigma': 5.744651638000643, 'x': 49.19444958963504}                               \n",
      "2.178722155240186                                                                                                      \n",
      "{'learning_rate': 1.1970367772955257, 'sigma': 5.457199562067835, 'x': 43.37874089126356}                              \n",
      "2.1662249267096065                                                                                                     \n",
      "{'learning_rate': 1.3176957700143697, 'sigma': 6.6724090988173685, 'x': 44.176594901112274}                            \n",
      "2.1812826267756997                                                                                                     \n",
      "{'learning_rate': 2.7823727695860248, 'sigma': 7.192331943124448, 'x': 40.09782551812676}                              \n",
      "2.130817518131217                                                                                                      \n",
      "{'learning_rate': 0.14870059814321834, 'sigma': 5.580918267800527, 'x': 45.6922966494849}                              \n",
      "2.143548046944699                                                                                                      \n",
      "{'learning_rate': 2.190723830988683, 'sigma': 8.383128776212077, 'x': 42.51617438438227}                               \n",
      "2.1883545074686177                                                                                                     \n",
      "{'learning_rate': 1.4515610262504022, 'sigma': 6.154497607005523, 'x': 49.93812745111715}                              \n",
      "2.1097241169062353                                                                                                     \n",
      "{'learning_rate': 2.4435935704525016, 'sigma': 6.22280245695583, 'x': 46.83390968065391}                               \n",
      "2.1585124006207423                                                                                                     \n",
      "{'learning_rate': 0.41725775988082914, 'sigma': 7.741267942761884, 'x': 48.57164412523812}                             \n",
      "2.1544606503580632                                                                                                     \n",
      "{'learning_rate': 1.8694949019053562, 'sigma': 6.910889321216488, 'x': 41.18307538905652}                              \n",
      "2.140259476874671                                                                                                      \n",
      "{'learning_rate': 1.1164767298861467, 'sigma': 7.115440738346021, 'x': 26.930933992796763}                             \n",
      "2.209739229927036                                                                                                      \n",
      "{'learning_rate': 1.7664493035973299, 'sigma': 5.3059193609817825, 'x': 38.795313536013296}                            \n",
      "2.191815575760501                                                                                                      \n",
      "{'learning_rate': 0.5291102968677988, 'sigma': 6.007558570600976, 'x': 34.850189139420735}                             \n",
      "2.140844400378668                                                                                                      \n",
      "{'learning_rate': 0.9882762780327955, 'sigma': 7.369665654118457, 'x': 44.779852147390976}                             \n",
      "2.17908479209262                                                                                                       \n",
      "{'learning_rate': 4.237385532711118, 'sigma': 6.782467297453004, 'x': 46.124921126051284}                              \n",
      "2.1554076587231448                                                                                                     \n",
      "{'learning_rate': 1.6318733256940585, 'sigma': 8.625271832748927, 'x': 30.875280875716367}                             \n",
      "2.1965595816983097                                                                                                     \n",
      "{'learning_rate': 3.071243196464255, 'sigma': 7.982090169875266, 'x': 33.81071912692256}                               \n",
      "2.1637059995410963                                                                                                     \n",
      "{'learning_rate': 0.2580428620636471, 'sigma': 5.654054833049459, 'x': 42.04698946190614}                              \n",
      "2.1582893077993703                                                                                                     \n",
      "{'learning_rate': 0.7968233775281245, 'sigma': 6.387256200243326, 'x': 49.55320446791464}                              \n",
      "2.13232146852449                                                                                                       \n",
      "{'learning_rate': 0.052106999183717584, 'sigma': 7.495159228736944, 'x': 47.93497809456999}                            \n",
      "2.1224314954177945                                                                                                     \n",
      "{'learning_rate': 1.5205195932678162, 'sigma': 6.564646534249415, 'x': 37.573340357706314}                             \n",
      "2.1646088111776702                                                                                                     \n",
      "{'learning_rate': 1.9361413813480706, 'sigma': 5.7945988006915945, 'x': 40.67330324895298}                             \n",
      "2.1312175334846954                                                                                                     \n",
      "{'learning_rate': 0.614678020550748, 'sigma': 8.221922810475311, 'x': 29.53659724693317}                               \n",
      "2.2097467493303737                                                                                                     \n",
      "{'learning_rate': 1.2663015049782356, 'sigma': 5.152985269928973, 'x': 39.307118774285655}                             \n",
      "2.1730884213670274                                                                                                     \n",
      "{'learning_rate': 1.4014297885699267, 'sigma': 5.418576929582008, 'x': 43.74095777391671}                              \n",
      "2.1714158109219586                                                                                                     \n"
     ]
    },
    {
     "name": "stdout",
     "output_type": "stream",
     "text": [
      "{'learning_rate': 2.90614132550996, 'sigma': 7.010465679842002, 'x': 36.75416917327841}                                \n",
      "2.16850561459664                                                                                                       \n",
      "{'learning_rate': 0.7097232543491245, 'sigma': 5.011058121166183, 'x': 47.298745259348735}                             \n",
      "2.182971128228604                                                                                                      \n",
      "{'learning_rate': 1.0135085183792323, 'sigma': 7.248805545311279, 'x': 45.12363583113592}                              \n",
      "2.147101431368878                                                                                                      \n",
      "{'learning_rate': 0.8752484887929937, 'sigma': 7.594304862144965, 'x': 46.35043805398052}                              \n",
      "2.1547941311255925                                                                                                     \n",
      "{'learning_rate': 3.322328719617889, 'sigma': 5.896995907957249, 'x': 43.297394645342045}                              \n",
      "2.1583959998684246                                                                                                     \n",
      "{'learning_rate': 2.2672049921765254, 'sigma': 5.563891209737109, 'x': 40.045565207667046}                             \n",
      "2.189350737774776                                                                                                      \n",
      "{'learning_rate': 0.473876266801059, 'sigma': 8.101355499225207, 'x': 49.98119523568243}                               \n",
      "2.139371281080279                                                                                                      \n",
      "{'learning_rate': 0.3643729789775544, 'sigma': 6.448719088904084, 'x': 49.02339989392512}                              \n",
      "2.135678138413186                                                                                                      \n",
      "{'learning_rate': 1.1422481936973292, 'sigma': 6.6463406403585665, 'x': 38.23856501902519}                             \n",
      "2.1460651268790114                                                                                                     \n",
      "{'learning_rate': 2.691753017413103, 'sigma': 6.262417826732134, 'x': 35.92364860555403}                               \n",
      "2.1890120557814696                                                                                                     \n",
      "{'learning_rate': 1.5941264847939491, 'sigma': 6.04753032284721, 'x': 44.47115741039636}                               \n",
      "2.173506068163697                                                                                                      \n",
      "{'learning_rate': 0.18555122046772887, 'sigma': 6.835771113886801, 'x': 48.24542001031446}                             \n",
      "2.1758739233231763                                                                                                     \n",
      "{'learning_rate': 2.013911155093007, 'sigma': 7.436784634145345, 'x': 20.092651872703684}                              \n",
      "2.2528700126562002                                                                                                     \n",
      "{'learning_rate': 1.7020460428994741, 'sigma': 7.8121050736408675, 'x': 28.123217294845716}                            \n",
      "2.218698142379452                                                                                                      \n",
      "{'learning_rate': 1.276648553058351, 'sigma': 5.681454464297365, 'x': 21.86611081373828}                               \n",
      "2.1823113997182295                                                                                                     \n",
      "{'learning_rate': 0.5612466477209889, 'sigma': 9.996611315422921, 'x': 42.372675024116354}                             \n",
      "2.1489459281716194                                                                                                     \n",
      "{'learning_rate': 0.8586268271355475, 'sigma': 5.348075504426306, 'x': 45.66611543765258}                              \n",
      "2.118789395671828                                                                                                      \n",
      "{'learning_rate': 1.8224551481537075, 'sigma': 5.498653320912087, 'x': 47.05591998672958}                              \n",
      "2.170251411467134                                                                                                      \n",
      "{'learning_rate': 2.105193362821036, 'sigma': 9.258493915971314, 'x': 41.22744749103608}                               \n",
      "2.1728077733467246                                                                                                     \n",
      "{'learning_rate': 1.3940866279473472, 'sigma': 7.1099398233198245, 'x': 41.628741169084535}                            \n",
      "2.1559047423403292                                                                                                     \n",
      "{'learning_rate': 1.0612642730434954, 'sigma': 8.930211475186617, 'x': 32.42046733409562}                              \n",
      "2.1430484569800656                                                                                                     \n",
      "{'learning_rate': 0.2982866103221786, 'sigma': 6.1263378814321054, 'x': 47.75726615246859}                             \n",
      "2.159129224890701                                                                                                      \n",
      "{'learning_rate': 3.6505741648261436, 'sigma': 6.349230457817745, 'x': 48.931492436706584}                             \n",
      "2.131952570865572                                                                                                      \n",
      "{'learning_rate': 2.552470083851803, 'sigma': 8.448054222536548, 'x': 43.272437715463866}                              \n",
      "2.159520968000276                                                                                                      \n",
      "{'learning_rate': 4.757558726638402, 'sigma': 6.51037696317539, 'x': 44.19985444712045}                                \n",
      "2.203450286825182                                                                                                      \n",
      "{'learning_rate': 2.371876485993927, 'sigma': 5.834500314996253, 'x': 37.34178345580766}                               \n",
      "2.154689877476368                                                                                                      \n",
      "{'learning_rate': 0.9549433432236081, 'sigma': 5.000703939602551, 'x': 46.58829630828596}                              \n",
      "2.1743346880580514                                                                                                     \n",
      "{'learning_rate': 0.6842766564668851, 'sigma': 5.195080641385882, 'x': 39.60851284810661}                              \n",
      "2.1638667643114537                                                                                                     \n",
      "{'learning_rate': 0.09841445052790077, 'sigma': 6.7712159154404015, 'x': 45.07347391540152}                            \n",
      "2.1543631394274936                                                                                                     \n",
      "{'learning_rate': 1.5100025589009411, 'sigma': 7.668857947315949, 'x': 42.79799446438812}                              \n",
      "2.1381242487540213                                                                                                     \n",
      "{'learning_rate': 1.166581331279574, 'sigma': 5.990258839362762, 'x': 40.64587967972791}                               \n",
      "2.193709263451601                                                                                                      \n",
      "{'learning_rate': 3.142561581358186, 'sigma': 7.219449409314693, 'x': 36.425664890916295}                              \n",
      "2.1787173624328426                                                                                                     \n",
      "{'learning_rate': 0.37804364864409323, 'sigma': 7.942171995823951, 'x': 34.47192263638882}                             \n",
      "2.154240772337447                                                                                                      \n",
      "{'learning_rate': 1.7557469432780557, 'sigma': 6.248638826265686, 'x': 45.820476629502195}                             \n",
      "2.1754436639966888                                                                                                     \n",
      "{'learning_rate': 0.7884366415657837, 'sigma': 6.932277628018618, 'x': 38.93284080547533}                              \n",
      "2.194123531350235                                                                                                      \n",
      "{'learning_rate': 1.341544661111262, 'sigma': 9.521573822553487, 'x': 49.46044381945371}                               \n",
      "2.0481993601741175                                                                                                     \n",
      "{'learning_rate': 1.9117285599036544, 'sigma': 9.120640980098237, 'x': 48.71665784322425}                              \n",
      "2.101485384546196                                                                                                      \n",
      "{'learning_rate': 1.6093099249919807, 'sigma': 9.52367278227377, 'x': 49.252905928123326}                              \n",
      "2.146332329947762                                                                                                      \n",
      "{'learning_rate': 2.238256509910138, 'sigma': 9.783547124429713, 'x': 24.92196067703185}                               \n",
      "2.223170924569735                                                                                                      \n",
      "{'learning_rate': 1.3779913900874097, 'sigma': 9.652335219618008, 'x': 49.460374035548284}                             \n",
      "2.157471257576327                                                                                                      \n",
      "{'learning_rate': 2.074282075138982, 'sigma': 8.852821086141045, 'x': 48.36294122859292}                               \n",
      "2.1640104337094517                                                                                                     \n",
      "{'learning_rate': 1.2558830613854906, 'sigma': 9.875066905221157, 'x': 47.29549751281475}                              \n",
      "2.159733054840696                                                                                                      \n",
      "{'learning_rate': 1.463074590353063, 'sigma': 9.398149338902627, 'x': 49.67483668681234}                               \n",
      "2.1191971119269337                                                                                                     \n",
      "{'learning_rate': 1.9578798701856166, 'sigma': 8.732532938918876, 'x': 47.741706422562565}                             \n",
      "2.1668871337598112                                                                                                     \n",
      "{'learning_rate': 1.6591020982995008, 'sigma': 8.526384217526962, 'x': 46.5406110014847}                               \n",
      "2.138291248675445                                                                                                      \n",
      "{'learning_rate': 2.445638050763762, 'sigma': 9.97024824732221, 'x': 30.11780700878834}                                \n",
      "2.2449087040905984                                                                                                     \n",
      "{'learning_rate': 1.0985486253473944, 'sigma': 9.050760626860214, 'x': 49.707573593299955}                             \n",
      "2.1742578340270544                                                                                                     \n",
      "{'learning_rate': 1.8543979106770676, 'sigma': 9.317842711693128, 'x': 48.04591074228578}                              \n",
      "2.168912453245225                                                                                                      \n",
      "{'learning_rate': 1.2989435645533436, 'sigma': 8.61598343333469, 'x': 22.85661699034382}                               \n",
      "2.2126320859262054                                                                                                     \n",
      "{'learning_rate': 2.6511341793729093, 'sigma': 9.459339369609962, 'x': 46.06116268231428}                              \n",
      "2.1842996544688544                                                                                                     \n",
      "{'learning_rate': 2.294099714010655, 'sigma': 9.873511128447303, 'x': 48.563733644540335}                              \n",
      "2.172515953027837                                                                                                      \n",
      "{'learning_rate': 1.550600346042833, 'sigma': 8.315590837657822, 'x': 46.96135181134696}                               \n",
      "2.161528546914453                                                                                                      \n",
      "{'learning_rate': 0.9520529242330761, 'sigma': 8.16419766500787, 'x': 45.08160715763237}                               \n",
      "2.160838008663636                                                                                                      \n",
      "{'learning_rate': 0.6220327084289934, 'sigma': 5.2599808711622, 'x': 44.325148374820515}                               \n",
      "2.1465465868136637                                                                                                     \n",
      "{'learning_rate': 0.8281001555670394, 'sigma': 5.108217992154755, 'x': 47.61316058435149}                              \n",
      "2.1101315598571047                                                                                                     \n",
      "{'learning_rate': 0.5000578057288319, 'sigma': 5.7182836213669255, 'x': 43.96301103209691}                             \n",
      "2.184897854028414                                                                                                      \n",
      "{'learning_rate': 0.6877879698184579, 'sigma': 5.41304269475258, 'x': 45.61300759109543}                               \n",
      "2.205359242426454                                                                                                      \n",
      "{'learning_rate': 1.0242718107546547, 'sigma': 5.885495113159636, 'x': 42.54784739418395}                              \n",
      "2.170801892483055                                                                                                      \n",
      "{'learning_rate': 0.20486976369323462, 'sigma': 5.587503936095711, 'x': 43.68416127777763}                             \n",
      "2.143557486973364                                                                                                      \n",
      "{'learning_rate': 0.42393723571682085, 'sigma': 6.144248967825189, 'x': 49.06143500224586}                             \n",
      "2.118440220834437                                                                                                      \n",
      "{'learning_rate': 0.9084781703437458, 'sigma': 5.752574269019013, 'x': 35.42546839257189}                              \n",
      "2.162285118330926                                                                                                      \n",
      "{'learning_rate': 1.1634523714286245, 'sigma': 6.699377573835352, 'x': 49.892720169383956}                             \n",
      "2.1284038082515715                                                                                                     \n",
      "{'learning_rate': 1.7335091875623467, 'sigma': 5.947248321508492, 'x': 44.75672357160028}                              \n",
      "2.1616990217635923                                                                                                     \n",
      "{'learning_rate': 1.3577827325759075, 'sigma': 6.587445463577551, 'x': 41.82942107945493}                              \n",
      "2.200921746165356                                                                                                      \n",
      "{'learning_rate': 0.05496879877645103, 'sigma': 9.214986731356046, 'x': 46.260844055900215}                            \n",
      "2.187706633868888                                                                                                      \n",
      "{'learning_rate': 0.558742481913952, 'sigma': 5.490216190349151, 'x': 49.98181588213245}                               \n",
      "2.142675353606165                                                                                                      \n",
      "{'learning_rate': 0.7528127765153966, 'sigma': 6.379727353805986, 'x': 38.015139331580976}                             \n",
      "2.1638285158445227                                                                                                     \n",
      "{'learning_rate': 1.2271499502521486, 'sigma': 6.037057893031873, 'x': 41.057923756681056}                             \n",
      "2.1152216049580117                                                                                                     \n"
     ]
    },
    {
     "name": "stdout",
     "output_type": "stream",
     "text": [
      "{'learning_rate': 0.2633031397438813, 'sigma': 5.330341642977284, 'x': 46.86494679904878}                              \n",
      "2.1676885237235166                                                                                                     \n",
      "{'learning_rate': 1.08037433504072, 'sigma': 5.124078876646802, 'x': 42.92877404534373}                                \n",
      "2.130270857080977                                                                                                      \n",
      "{'learning_rate': 1.466424316030961, 'sigma': 9.576288736173606, 'x': 40.3228480104162}                                \n",
      "2.146447884752736                                                                                                      \n",
      "{'learning_rate': 0.8783500802996501, 'sigma': 6.233100352329476, 'x': 48.1303736150128}                               \n",
      "2.1711997475081146                                                                                                     \n",
      "{'learning_rate': 2.155513691931899, 'sigma': 6.445064048509474, 'x': 47.13140566154465}                               \n",
      "2.15590164753809                                                                                                       \n",
      "{'learning_rate': 0.6347394687307119, 'sigma': 5.6253072310721555, 'x': 45.523029235456626}                            \n",
      "2.1721035156964494                                                                                                     \n",
      "{'learning_rate': 1.6050117481640311, 'sigma': 7.022863391885777, 'x': 48.72976131242335}                              \n",
      "2.1241944208997503                                                                                                     \n",
      "{'learning_rate': 0.45213041461877335, 'sigma': 7.361094469275589, 'x': 31.29482898796198}                             \n",
      "2.1945472820400567                                                                                                     \n",
      "{'learning_rate': 0.961793324609516, 'sigma': 5.82584035879785, 'x': 49.97897896227519}                                \n",
      "2.1560931243290162                                                                                                     \n",
      "{'learning_rate': 1.3282551874640052, 'sigma': 9.771313503482391, 'x': 33.01342879369222}                              \n",
      "2.1657254665203762                                                                                                     \n",
      "{'learning_rate': 0.3544016790871073, 'sigma': 6.31769609309877, 'x': 42.25679158307458}                               \n",
      "2.1577008160475857                                                                                                     \n",
      "{'learning_rate': 3.93451934251101, 'sigma': 5.012384813056938, 'x': 39.5694414970447}                                 \n",
      "2.1955172131005622                                                                                                     \n",
      "{'learning_rate': 0.7505253166485023, 'sigma': 6.104709145004903, 'x': 45.02035078137979}                              \n",
      "2.195443089766948                                                                                                      \n",
      "{'learning_rate': 1.7842280413114668, 'sigma': 5.243897067021119, 'x': 43.44135545020817}                              \n",
      "2.1164883779517183                                                                                                     \n",
      "{'learning_rate': 2.007059768408406, 'sigma': 7.544378291508772, 'x': 47.64231861243151}                               \n",
      "2.1493685830751654                                                                                                     \n",
      "{'learning_rate': 1.213058723402776, 'sigma': 6.554611548825935, 'x': 46.373346213968645}                              \n",
      "2.145292898143007                                                                                                      \n",
      "{'learning_rate': 0.12257179495539781, 'sigma': 7.825045720658974, 'x': 49.399210919737016}                            \n",
      "2.113665804157362                                                                                                      \n",
      "{'learning_rate': 1.4501268619247165, 'sigma': 6.904270145310363, 'x': 38.46963389794534}                              \n",
      "2.1997926962063308                                                                                                     \n",
      "{'learning_rate': 1.1038384802113703, 'sigma': 5.411319221022538, 'x': 44.487824033627405}                             \n",
      "2.1446279472883525                                                                                                     \n",
      "{'learning_rate': 0.8151292580617615, 'sigma': 5.941042208114167, 'x': 48.44118850770392}                              \n",
      "2.1537718043293617                                                                                                     \n",
      "{'learning_rate': 0.5626130067507542, 'sigma': 8.035451469133182, 'x': 37.06329782382513}                              \n",
      "2.1934542214682256                                                                                                     \n",
      "{'learning_rate': 1.52670435623687, 'sigma': 6.712096200088913, 'x': 41.47648462541394}                                \n",
      "2.1672337583259536                                                                                                     \n",
      "{'learning_rate': 1.7069993692762626, 'sigma': 5.665679056570054, 'x': 45.61407151640099}                              \n",
      "2.174004938566071                                                                                                      \n",
      "{'learning_rate': 0.9769917649437945, 'sigma': 8.677624019734475, 'x': 43.71316613176962}                              \n",
      "2.1508681814399715                                                                                                     \n",
      "{'learning_rate': 1.349513535278818, 'sigma': 5.811584194344411, 'x': 40.07071954948075}                               \n",
      "2.1441877075681366                                                                                                     \n",
      "{'learning_rate': 1.88739264260695, 'sigma': 7.133782822361383, 'x': 47.1891267658699}                                 \n",
      "2.187474351816495                                                                                                      \n",
      "{'learning_rate': 0.0502990101795846, 'sigma': 8.95608976118676, 'x': 34.06798939148793}                               \n",
      "2.2386728940967573                                                                                                     \n",
      "{'learning_rate': 0.6904833663183875, 'sigma': 8.431842778334627, 'x': 49.09919773579492}                              \n",
      "2.1477054869408936                                                                                                     \n",
      "{'learning_rate': 2.8251466434762533, 'sigma': 5.533564087713508, 'x': 46.00305631506352}                              \n",
      "2.1786017868060945                                                                                                     \n",
      "{'learning_rate': 0.26650572781485693, 'sigma': 6.828833759123059, 'x': 39.06460362263885}                             \n",
      "2.112992334541501                                                                                                      \n",
      "{'learning_rate': 1.1769330986588167, 'sigma': 6.204796590650911, 'x': 43.172291849294325}                             \n",
      "2.1635862374733237                                                                                                     \n",
      "{'learning_rate': 0.4634954863092589, 'sigma': 6.473393078966838, 'x': 42.25738597638245}                              \n",
      "2.0958805394485047                                                                                                     \n",
      "{'learning_rate': 0.4691641931162267, 'sigma': 5.283056051374763, 'x': 48.011498510933855}                             \n",
      "2.151211339847584                                                                                                      \n",
      "{'learning_rate': 1.594241637768232, 'sigma': 6.476580356475693, 'x': 46.7299868244181}                                \n",
      "2.1645541187017927                                                                                                     \n",
      "{'learning_rate': 1.0440476274897683, 'sigma': 5.0434986165889, 'x': 49.961590800225125}                               \n",
      "2.17249992289142                                                                                                       \n",
      "{'learning_rate': 0.8578582203616558, 'sigma': 9.129834573918266, 'x': 44.93831939927267}                              \n",
      "2.090633674884982                                                                                                      \n",
      "{'learning_rate': 0.8479845844240237, 'sigma': 9.432267973094984, 'x': 47.494424928506824}                             \n",
      "2.1613469064494915                                                                                                     \n",
      "{'learning_rate': 0.3607114867061373, 'sigma': 9.746612540672803, 'x': 44.82444645784026}                              \n",
      "2.1740152133585564                                                                                                     \n",
      "{'learning_rate': 4.5090000966545425, 'sigma': 9.977420084586857, 'x': 48.59268109516396}                              \n",
      "2.1145731398827188                                                                                                     \n",
      "{'learning_rate': 0.5742663492806533, 'sigma': 9.180272713457063, 'x': 28.62955205824792}                              \n",
      "2.1347475756241714                                                                                                     \n",
      "{'learning_rate': 0.17184627867172209, 'sigma': 9.075376135310593, 'x': 49.43515127097043}                             \n",
      "2.154794003307822                                                                                                      \n",
      "{'learning_rate': 0.6658578527129295, 'sigma': 9.279167202212905, 'x': 46.34089359031304}                              \n",
      "2.1561040941182017                                                                                                     \n",
      "{'learning_rate': 0.44147758145315563, 'sigma': 9.526836271700413, 'x': 45.412612745914466}                            \n",
      "2.135695373741517                                                                                                      \n",
      "{'learning_rate': 0.7435221718942162, 'sigma': 9.641800266305177, 'x': 44.11548193223194}                              \n",
      "2.150990496354376                                                                                                      \n",
      "{'learning_rate': 0.896259010027671, 'sigma': 8.801880120766759, 'x': 47.65065232384467}                               \n",
      "2.1384983393645536                                                                                                     \n",
      "{'learning_rate': 0.5671410767486933, 'sigma': 9.832728946780996, 'x': 48.90053405502135}                              \n",
      "2.159752789422783                                                                                                      \n",
      "{'learning_rate': 1.0098556856139538, 'sigma': 8.875111114742896, 'x': 48.114174023298986}                             \n",
      "2.150897897826687                                                                                                      \n",
      "{'learning_rate': 0.2809480353535456, 'sigma': 9.730596212667301, 'x': 46.839486870872214}                             \n",
      "2.1523483968811834                                                                                                     \n",
      "{'learning_rate': 0.13936151053336454, 'sigma': 9.394612781085923, 'x': 49.97659971286113}                             \n",
      "2.1186956078277372                                                                                                     \n",
      "{'learning_rate': 1.103557658254033, 'sigma': 9.998842144441682, 'x': 45.90941882673939}                               \n",
      "2.1747956077853976                                                                                                     \n",
      "{'learning_rate': 1.2603919120903455, 'sigma': 9.173096540760532, 'x': 45.15351543293292}                              \n",
      "2.158844829605729                                                                                                      \n",
      "{'learning_rate': 0.36045690848057155, 'sigma': 8.560017170142611, 'x': 42.51007830573457}                             \n",
      "2.091058408162817                                                                                                      \n",
      "{'learning_rate': 0.8179568971031095, 'sigma': 8.527269913942567, 'x': 49.96688955254713}                              \n",
      "2.1292137439900767                                                                                                     \n",
      "{'learning_rate': 0.342515359352089, 'sigma': 9.060096691398941, 'x': 26.052876076561155}                              \n",
      "2.1610258899893227                                                                                                     \n",
      "{'learning_rate': 3.521142531414979, 'sigma': 8.95262337935695, 'x': 49.06581914341461}                                \n",
      "2.114642433151961                                                                                                      \n",
      "{'learning_rate': 0.6590747625518788, 'sigma': 9.310615088280013, 'x': 44.19002522343808}                              \n",
      "2.069473490627532                                                                                                      \n",
      "{'learning_rate': 0.18566431894224533, 'sigma': 8.800235004211684, 'x': 42.74740047396395}                             \n",
      "2.1824150973465066                                                                                                     \n",
      "{'learning_rate': 0.6185274530791078, 'sigma': 9.50905830467083, 'x': 41.67417526782246}                               \n",
      "2.1593145016315383                                                                                                     \n",
      "{'learning_rate': 4.117857646867055, 'sigma': 9.597641819672631, 'x': 40.71067409818974}                               \n",
      "2.1645603139292486                                                                                                     \n",
      "{'learning_rate': 0.9482636420627844, 'sigma': 9.262728813980793, 'x': 44.040553806759284}                             \n",
      "2.152969538107381                                                                                                      \n",
      "{'learning_rate': 0.7433808172028894, 'sigma': 9.332498237410775, 'x': 43.14140321754621}                              \n",
      "2.147359774381383                                                                                                      \n",
      "{'learning_rate': 0.487634783376633, 'sigma': 9.005268589182272, 'x': 44.69642182612117}                               \n",
      "2.175499987757928                                                                                                      \n",
      "{'learning_rate': 0.06848964630115029, 'sigma': 8.682075598374682, 'x': 41.78802376450875}                             \n",
      "2.190261701933809                                                                                                      \n",
      "{'learning_rate': 1.4371596222319678, 'sigma': 8.231861606112812, 'x': 43.527694760180054}                             \n",
      "2.1452484196972743                                                                                                     \n",
      "{'learning_rate': 0.05475421496127875, 'sigma': 8.576147796481923, 'x': 42.22140657103778}                             \n",
      "2.2036465062025625                                                                                                     \n",
      "{'learning_rate': 1.1688925118673088, 'sigma': 8.88060118210928, 'x': 44.27741053729746}                               \n",
      "2.185167160992003                                                                                                      \n",
      "{'learning_rate': 0.35137347646617684, 'sigma': 8.338727375374718, 'x': 39.84144263097383}                             \n",
      "2.194381296141343                                                                                                      \n",
      "{'learning_rate': 0.23550342881234343, 'sigma': 9.360456571547719, 'x': 46.00809573851903}                             \n",
      "2.0817778142499765                                                                                                     \n"
     ]
    },
    {
     "name": "stdout",
     "output_type": "stream",
     "text": [
      "{'learning_rate': 0.22497990465999407, 'sigma': 9.70767733206737, 'x': 47.20904402564278}                              \n",
      "2.1400137507547625                                                                                                     \n",
      "{'learning_rate': 1.2969230909720764, 'sigma': 9.941590099747422, 'x': 46.18948470302249}                              \n",
      "2.184038556718774                                                                                                      \n",
      "{'learning_rate': 0.8949139519929497, 'sigma': 9.385537012246624, 'x': 25.28894322400641}                              \n",
      "2.193079294158262                                                                                                      \n",
      "{'learning_rate': 0.5407311197796583, 'sigma': 9.474226701041372, 'x': 26.751001241137335}                             \n",
      "2.2148241285239534                                                                                                     \n",
      "{'learning_rate': 0.6503557196380889, 'sigma': 9.144943000294484, 'x': 48.291872053936885}                             \n",
      "2.131190660932363                                                                                                      \n",
      "{'learning_rate': 1.039943265824418, 'sigma': 9.854117220356727, 'x': 45.57010789836138}                               \n",
      "2.1298346941436663                                                                                                     \n",
      "{'learning_rate': 0.7350075885753187, 'sigma': 9.645599930253416, 'x': 46.45220182161779}                              \n",
      "2.1451997541593                                                                                                        \n",
      "{'learning_rate': 1.376954881812467, 'sigma': 9.325436562391749, 'x': 45.01551577750101}                               \n",
      "2.1689534237972907                                                                                                     \n",
      "{'learning_rate': 1.243612098423623, 'sigma': 9.091852078955798, 'x': 47.546398488358}                                 \n",
      "2.158187378469059                                                                                                      \n",
      "{'learning_rate': 3.0205041107252577, 'sigma': 9.215020175838296, 'x': 47.08685215322172}                              \n",
      "2.1783830606294514                                                                                                     \n",
      "{'learning_rate': 4.949995498168189, 'sigma': 9.560119804521037, 'x': 44.60457399220557}                               \n",
      "2.1483803599941727                                                                                                     \n",
      "{'learning_rate': 3.808571621277906, 'sigma': 8.78370339092794, 'x': 45.677934663685306}                               \n",
      "2.170884902247674                                                                                                      \n",
      "{'learning_rate': 0.8215359663501958, 'sigma': 8.947115006081138, 'x': 48.296651619748566}                             \n",
      "2.13674858337106                                                                                                       \n",
      "{'learning_rate': 0.059430827822821275, 'sigma': 9.794640341512583, 'x': 43.68561417459334}                            \n",
      "2.0934965337625266                                                                                                     \n",
      "{'learning_rate': 1.5275634171851102, 'sigma': 9.877030476059968, 'x': 49.991978089043236}                             \n",
      "2.139551238689576                                                                                                      \n",
      "{'learning_rate': 0.4421165082624654, 'sigma': 9.431020292289045, 'x': 46.69630586936354}                              \n",
      "2.145855250771902                                                                                                      \n",
      "{'learning_rate': 0.23919976948777544, 'sigma': 9.9994956591165, 'x': 49.20984677312247}                               \n",
      "2.172564378930762                                                                                                      \n",
      "{'learning_rate': 1.1317389687591182, 'sigma': 9.633522357405178, 'x': 41.221570712328266}                             \n",
      "2.1342910375799033                                                                                                     \n",
      "{'learning_rate': 1.666370076075581, 'sigma': 9.028564108564046, 'x': 20.86278833441171}                               \n",
      "2.220964181899701                                                                                                      \n",
      "{'learning_rate': 1.82487092558252, 'sigma': 8.70883935096152, 'x': 47.584638696325506}                                \n",
      "2.1389377202844133                                                                                                     \n",
      "{'learning_rate': 2.164393635925279, 'sigma': 9.290934302434353, 'x': 42.99290778172283}                               \n",
      "2.153612843426599                                                                                                      \n",
      "{'learning_rate': 0.9188290664224377, 'sigma': 9.549241346217908, 'x': 48.61872153734304}                              \n",
      "2.137498976905626                                                                                                      \n",
      "{'learning_rate': 4.406042499399177, 'sigma': 8.479325712504144, 'x': 45.09499441122924}                               \n",
      "2.192832319696882                                                                                                      \n",
      "{'learning_rate': 0.6715495413732369, 'sigma': 9.186111537235083, 'x': 45.930573650691244}                             \n",
      "2.1457622151075206                                                                                                     \n",
      "{'learning_rate': 1.9851517248812698, 'sigma': 9.709502010438916, 'x': 44.16257040509279}                              \n",
      "2.1571794796740735                                                                                                     \n",
      "{'learning_rate': 1.0155128129385331, 'sigma': 9.45267052331209, 'x': 49.531096082314676}                              \n",
      "2.1667674579650047                                                                                                     \n",
      "{'learning_rate': 0.5674444743487232, 'sigma': 8.946328417469637, 'x': 40.59223369445607}                              \n",
      "2.1932945860215325                                                                                                     \n",
      "{'learning_rate': 3.2961625376368002, 'sigma': 9.337653195567245, 'x': 47.78349517610893}                              \n",
      "2.1579939533263355                                                                                                     \n",
      "{'learning_rate': 4.708545833428456, 'sigma': 9.903868744355053, 'x': 46.84891485349675}                               \n",
      "2.139586587768508                                                                                                      \n",
      "{'learning_rate': 0.28911865577661944, 'sigma': 8.406906020951839, 'x': 46.372480360612826}                            \n",
      "2.147449096845891                                                                                                      \n",
      "{'learning_rate': 0.15946660413721547, 'sigma': 8.848538362031185, 'x': 48.70619830917352}                             \n",
      "2.131113816610525                                                                                                      \n",
      "{'learning_rate': 1.42543804369717, 'sigma': 8.142796586251599, 'x': 43.57398358636083}                                \n",
      "2.1338121818694216                                                                                                     \n",
      "{'learning_rate': 2.3452665214458284, 'sigma': 9.138731427886531, 'x': 45.490681807404734}                             \n",
      "2.1452464316540243                                                                                                     \n",
      "{'learning_rate': 1.1664633455758662, 'sigma': 8.739522120747882, 'x': 37.86569227582692}                              \n",
      "2.1760561081957572                                                                                                     \n",
      "{'learning_rate': 1.7564447416745363, 'sigma': 9.777241703998145, 'x': 44.653379355488646}                             \n",
      "2.1021275967636748                                                                                                     \n",
      "{'learning_rate': 0.776590787731009, 'sigma': 8.298222246958066, 'x': 27.645417156338304}                              \n",
      "2.169915943830882                                                                                                      \n",
      "{'learning_rate': 0.47424089012876836, 'sigma': 9.03002198533631, 'x': 41.82303350283747}                              \n",
      "2.1431696495801567                                                                                                     \n",
      "{'learning_rate': 1.3166856084418244, 'sigma': 9.54532933064237, 'x': 47.98811339620948}                               \n",
      "2.146648636521153                                                                                                      \n",
      "{'learning_rate': 0.05831574331409273, 'sigma': 8.63925643445881, 'x': 43.06003057303606}                              \n",
      "2.1588907980642973                                                                                                     \n",
      "{'learning_rate': 2.0743728695014196, 'sigma': 9.258609855497552, 'x': 49.45733679329986}                              \n",
      "2.112638080026072                                                                                                      \n",
      "{'learning_rate': 2.4630016236554755, 'sigma': 9.628800946485159, 'x': 32.1248415660444}                               \n",
      "2.2064404049187782                                                                                                     \n",
      "{'learning_rate': 0.9167246205003644, 'sigma': 9.389865710423905, 'x': 23.453316075462308}                             \n",
      "2.239442136380347                                                                                                      \n",
      "{'learning_rate': 1.0554251454227783, 'sigma': 9.960399965463168, 'x': 39.27951925776492}                              \n",
      "2.099147578392098                                                                                                      \n",
      "{'learning_rate': 1.5598052647199607, 'sigma': 8.893739502800816, 'x': 49.943901372443804}                             \n",
      "2.1537753863655773                                                                                                     \n",
      "{'learning_rate': 0.6317511520416901, 'sigma': 9.999839401794222, 'x': 47.14510210077112}                              \n",
      "2.183801316863517                                                                                                      \n",
      "{'learning_rate': 0.3453160171550271, 'sigma': 9.689191609497026, 'x': 42.51377950803551}                              \n",
      "2.1223112576532297                                                                                                     \n",
      "{'learning_rate': 0.8438684613188286, 'sigma': 9.06082628100065, 'x': 36.209928638780696}                              \n",
      "2.183685711067041                                                                                                      \n",
      "{'learning_rate': 2.5654199831190594, 'sigma': 9.817809689511845, 'x': 34.87614212846274}                              \n",
      "2.1888669097035542                                                                                                     \n",
      "{'learning_rate': 1.2153930249006986, 'sigma': 8.60512320029967, 'x': 43.98611298419347}                               \n",
      "2.161780851877118                                                                                                      \n",
      "{'learning_rate': 0.5258599083044486, 'sigma': 8.060010528902716, 'x': 45.39771398850646}                              \n",
      "2.1365190708272808                                                                                                     \n",
      "{'learning_rate': 1.6709918141936886, 'sigma': 9.247838233051958, 'x': 46.251072943057}                                \n",
      "2.178101154686338                                                                                                      \n",
      "{'learning_rate': 0.7273164893076849, 'sigma': 8.748109315376722, 'x': 41.38899422051017}                              \n",
      "2.154256709574919                                                                                                      \n",
      "{'learning_rate': 0.13962702776757446, 'sigma': 9.45362524998646, 'x': 48.66853948412799}                              \n",
      "2.1171767099754137                                                                                                     \n",
      "{'learning_rate': 1.371992240859915, 'sigma': 7.9003923669933345, 'x': 40.45003333912725}                              \n",
      "2.188778631072162                                                                                                      \n",
      "{'learning_rate': 1.9179814053768842, 'sigma': 8.44497925746863, 'x': 44.74652567924308}                               \n",
      "2.144386302366541                                                                                                      \n",
      "{'learning_rate': 0.4033565747540827, 'sigma': 8.255454874581872, 'x': 47.411734778368356}                             \n",
      "2.122849811036035                                                                                                      \n",
      "{'learning_rate': 1.451122913432748, 'sigma': 9.539565252922658, 'x': 38.585017067865664}                              \n",
      "2.1549868540694352                                                                                                     \n",
      "{'learning_rate': 1.0100968047772363, 'sigma': 9.350223503275114, 'x': 45.934451341537}                                \n",
      "2.1374916657286445                                                                                                     \n",
      "{'learning_rate': 1.1103521476843998, 'sigma': 8.819080378307715, 'x': 49.21371919428975}                              \n",
      "2.1349141668604488                                                                                                     \n",
      "{'learning_rate': 0.23399187503406266, 'sigma': 9.15129928918234, 'x': 46.59220898244674}                              \n",
      "2.177326403816592                                                                                                      \n",
      "{'learning_rate': 2.249168479853236, 'sigma': 9.72383078408467, 'x': 43.31037286924716}                                \n",
      "2.192312516451831                                                                                                      \n",
      "{'learning_rate': 0.38149908954552975, 'sigma': 8.984418826450767, 'x': 42.4012184148906}                              \n",
      "2.1552225398109566                                                                                                     \n",
      "{'learning_rate': 0.6136662610769654, 'sigma': 9.145521465542481, 'x': 44.016159769506366}                             \n",
      "2.1977251175046915                                                                                                     \n",
      "{'learning_rate': 0.29883449822308317, 'sigma': 8.579759273764545, 'x': 42.445435211497504}                            \n",
      "2.1419885668734464                                                                                                     \n",
      "{'learning_rate': 0.5099413267477229, 'sigma': 8.877097600168911, 'x': 44.741177004642694}                             \n",
      "2.150395307502111                                                                                                      \n",
      "{'learning_rate': 0.8162057514131527, 'sigma': 9.301243445900678, 'x': 39.90976569622136}                              \n",
      "2.136352800708033                                                                                                      \n",
      "{'learning_rate': 0.17163841244360617, 'sigma': 9.062463529064301, 'x': 45.1949730030772}                              \n",
      "2.118829614752684                                                                                                      \n",
      "{'learning_rate': 0.7278667854647286, 'sigma': 8.532387494792086, 'x': 41.01205380925245}                              \n",
      "2.150701909503523                                                                                                      \n"
     ]
    },
    {
     "name": "stdout",
     "output_type": "stream",
     "text": [
      "{'learning_rate': 0.9400097981850661, 'sigma': 9.229959600188451, 'x': 48.04839821005483}                              \n",
      "2.1813802860352696                                                                                                     \n",
      "{'learning_rate': 0.056642394439834765, 'sigma': 9.484559125577658, 'x': 41.98504140889048}                            \n",
      "2.156943946472721                                                                                                      \n",
      "{'learning_rate': 0.43524175947053906, 'sigma': 8.370725361887082, 'x': 45.92307005309438}                             \n",
      "2.1490573530778003                                                                                                     \n",
      "{'learning_rate': 0.6471716396312792, 'sigma': 8.675714564994507, 'x': 42.988873010292075}                             \n",
      "2.162258905218061                                                                                                      \n",
      "{'learning_rate': 0.34836154424412086, 'sigma': 9.014669323343147, 'x': 44.43254913145233}                             \n",
      "2.181220154210461                                                                                                      \n",
      "{'learning_rate': 0.22958425330703847, 'sigma': 9.381151082821745, 'x': 46.93437790220517}                             \n",
      "2.1544122161013934                                                                                                     \n",
      "{'learning_rate': 0.5511456144742019, 'sigma': 9.573939867523858, 'x': 43.44628802257156}                              \n",
      "2.173313285387783                                                                                                      \n",
      "{'learning_rate': 0.8375225326250864, 'sigma': 8.921964591044352, 'x': 47.9947963644549}                               \n",
      "2.1594451485759643                                                                                                     \n",
      "{'learning_rate': 0.06462023141858919, 'sigma': 9.855423276432559, 'x': 43.930459805674246}                            \n",
      "2.1630986672203183                                                                                                     \n",
      "{'learning_rate': 0.694270544048758, 'sigma': 7.740303620711273, 'x': 49.98641604577966}                               \n",
      "2.1394115849706092                                                                                                     \n",
      "{'learning_rate': 1.009868890804888, 'sigma': 9.661805926789803, 'x': 46.65596604842027}                               \n",
      "2.190608077340247                                                                                                      \n",
      "{'learning_rate': 1.2140546199605775, 'sigma': 8.195383830683506, 'x': 45.18221898332931}                              \n",
      "2.1556585761718017                                                                                                     \n",
      "{'learning_rate': 0.4440974923977564, 'sigma': 9.167824200422283, 'x': 45.84441855808497}                              \n",
      "2.172044450227598                                                                                                      \n",
      "{'learning_rate': 0.9159671910133641, 'sigma': 8.795100945734415, 'x': 41.57439589410091}                              \n",
      "2.153646261133504                                                                                                      \n",
      "{'learning_rate': 0.30306571168411556, 'sigma': 9.307201237510837, 'x': 47.250313383187695}                            \n",
      "2.113966424065651                                                                                                      \n",
      "{'learning_rate': 1.1101618983636539, 'sigma': 8.470777587878851, 'x': 48.478361145969174}                             \n",
      "2.188893309906304                                                                                                      \n",
      "{'learning_rate': 0.14381996710974765, 'sigma': 9.423822662488167, 'x': 42.9489587979469}                              \n",
      "2.1353026749329134                                                                                                     \n",
      "{'learning_rate': 0.5645076254670699, 'sigma': 8.68087653856422, 'x': 44.40812304635037}                               \n",
      "2.162698429644058                                                                                                      \n",
      "{'learning_rate': 0.7800759566753763, 'sigma': 9.12971990387118, 'x': 40.427026566746214}                              \n",
      "2.204221595153783                                                                                                      \n",
      "{'learning_rate': 1.3360711512489511, 'sigma': 9.794542984253646, 'x': 42.55583595159334}                              \n",
      "2.143094961948046                                                                                                      \n",
      "{'learning_rate': 0.3964919892981693, 'sigma': 9.924431478354272, 'x': 47.61861777833678}                              \n",
      "2.159119329932762                                                                                                      \n",
      "{'learning_rate': 0.6597736692901022, 'sigma': 9.595320948444964, 'x': 49.14464881314001}                              \n",
      "2.146035050578809                                                                                                      \n",
      "{'learning_rate': 1.2522898420875725, 'sigma': 8.946320928953375, 'x': 39.312978791503774}                             \n",
      "2.0858428971919603                                                                                                     \n",
      "{'learning_rate': 1.5094037387417398, 'sigma': 9.461380479374919, 'x': 38.97828711365328}                              \n",
      "2.1268665840151386                                                                                                     \n",
      "{'learning_rate': 1.6130374137466554, 'sigma': 8.931201370924684, 'x': 37.15290931604392}                              \n",
      "2.1673915151800225                                                                                                     \n",
      "{'learning_rate': 1.7643766660767786, 'sigma': 9.714906710293645, 'x': 35.51541880540764}                              \n",
      "2.144240709893727                                                                                                      \n",
      "{'learning_rate': 1.2770839941987104, 'sigma': 9.242770808985945, 'x': 37.64245071478281}                              \n",
      "2.131567546889893                                                                                                      \n",
      "{'learning_rate': 1.4493823360153302, 'sigma': 9.002994404036913, 'x': 39.68640791135336}                              \n",
      "2.1900755312469826                                                                                                     \n",
      "{'learning_rate': 1.8973643008138186, 'sigma': 9.362015113819025, 'x': 38.37798827722597}                              \n",
      "2.216489450950603                                                                                                      \n",
      "{'learning_rate': 1.2534287310210168, 'sigma': 9.52656577009748, 'x': 37.94411442685252}                               \n",
      "2.177894818036087                                                                                                      \n",
      "{'learning_rate': 1.0721927376570048, 'sigma': 8.77079194292941, 'x': 33.72435553851221}                               \n",
      "2.2018056069841974                                                                                                     \n",
      "{'learning_rate': 1.182607582699259, 'sigma': 9.096814654337852, 'x': 36.64477318144248}                               \n",
      "2.0870463300792146                                                                                                     \n",
      "{'learning_rate': 1.6682671565663716, 'sigma': 9.91426667888724, 'x': 36.76731918687843}                               \n",
      "2.1719388891983247                                                                                                     \n",
      "{'learning_rate': 2.019087744002898, 'sigma': 9.65340622339068, 'x': 31.51829649199615}                                \n",
      "2.147617677791979                                                                                                      \n",
      "{'learning_rate': 1.5623374021214889, 'sigma': 9.068264188838883, 'x': 34.59272209765187}                              \n",
      "2.1809457504328353                                                                                                     \n",
      "{'learning_rate': 1.8130906727420153, 'sigma': 9.240681066692375, 'x': 31.516657078414894}                             \n",
      "2.173386079043125                                                                                                      \n",
      "{'learning_rate': 1.4623937178783004, 'sigma': 8.876226258497592, 'x': 32.85213746495547}                              \n",
      "2.202607077154183                                                                                                      \n",
      "{'learning_rate': 2.7362935970638897, 'sigma': 9.97413140384672, 'x': 36.29093264091338}                               \n",
      "2.155388999419467                                                                                                      \n",
      "{'learning_rate': 1.3833528875555914, 'sigma': 7.95758386741275, 'x': 36.189735075089324}                              \n",
      "2.1678517361785126                                                                                                     \n",
      "{'learning_rate': 1.1897589795092842, 'sigma': 9.443850311510337, 'x': 33.34284821266563}                              \n",
      "2.1506836433354675                                                                                                     \n",
      "{'learning_rate': 1.6927812534403999, 'sigma': 9.74474710178168, 'x': 35.733129510849786}                              \n",
      "2.1454181542021926                                                                                                     \n",
      "{'learning_rate': 2.103665602124756, 'sigma': 8.309668658657342, 'x': 34.955961717272665}                              \n",
      "2.158716628436491                                                                                                      \n",
      "{'learning_rate': 1.3342612368772082, 'sigma': 8.600638656137674, 'x': 34.23154008810069}                              \n",
      "2.1534818742989446                                                                                                     \n",
      "{'learning_rate': 1.5881808301441012, 'sigma': 8.093706291011461, 'x': 29.524662576969643}                             \n",
      "2.2055659133365086                                                                                                     \n",
      "{'learning_rate': 1.8475470198961932, 'sigma': 9.595237205553316, 'x': 32.70038143027519}                              \n",
      "2.13665629263121                                                                                                       \n",
      "{'learning_rate': 1.1185532374745581, 'sigma': 9.821816646316837, 'x': 37.07608981280284}                              \n",
      "2.1705497651990244                                                                                                     \n",
      "{'learning_rate': 2.1936148952222148, 'sigma': 8.722682914920311, 'x': 38.67410364002767}                              \n",
      "2.167089221907505                                                                                                      \n",
      "{'learning_rate': 1.5049978956806989, 'sigma': 8.993653259177547, 'x': 30.480405991053992}                             \n",
      "2.2096007755785574                                                                                                     \n",
      "{'learning_rate': 0.9888737116281798, 'sigma': 9.307679566020177, 'x': 35.314578968324376}                             \n",
      "2.1388197818626087                                                                                                     \n",
      "{'learning_rate': 3.1585312140500004, 'sigma': 9.991226808178865, 'x': 36.5722668760374}                               \n",
      "2.1584587085630793                                                                                                     \n",
      "{'learning_rate': 1.2160868380447627, 'sigma': 8.833872946692148, 'x': 35.78392803512145}                              \n",
      "2.183286471474462                                                                                                      \n",
      "{'learning_rate': 1.9741830817290262, 'sigma': 8.414116266285532, 'x': 37.82825891109628}                              \n",
      "2.1758597020766475                                                                                                     \n",
      "{'learning_rate': 1.7542914648353878, 'sigma': 9.49843516947521, 'x': 34.01879580533246}                               \n",
      "2.170811517904211                                                                                                      \n",
      "{'learning_rate': 1.2983566346029078, 'sigma': 9.211525480016817, 'x': 39.56667378982212}                              \n",
      "2.180794229499193                                                                                                      \n",
      "{'learning_rate': 0.9014960405258008, 'sigma': 9.06568475032326, 'x': 37.782528970967356}                              \n",
      "2.132224020301595                                                                                                      \n",
      "{'learning_rate': 1.028215256118565, 'sigma': 9.360830494461377, 'x': 38.92514453169431}                               \n",
      "2.1646214440441667                                                                                                     \n",
      "{'learning_rate': 1.1271381290517708, 'sigma': 8.48069526115666, 'x': 37.02416265288803}                               \n",
      "2.1891722665663202                                                                                                     \n",
      "{'learning_rate': 1.653516775063039, 'sigma': 9.135299971886639, 'x': 33.43075080163531}                               \n",
      "2.252147459820732                                                                                                      \n",
      "{'learning_rate': 1.3945031356273496, 'sigma': 9.657771180586458, 'x': 31.97107505386121}                              \n",
      "2.2087441388492017                                                                                                     \n",
      "{'learning_rate': 2.898967025459213, 'sigma': 8.650137468496464, 'x': 34.542494464679784}                              \n",
      "2.149368142433842                                                                                                      \n",
      "{'learning_rate': 0.7653265220513865, 'sigma': 8.952356311746966, 'x': 40.288284755398074}                             \n",
      "2.157557725835244                                                                                                      \n",
      "{'learning_rate': 1.5278768244020218, 'sigma': 9.806414505741733, 'x': 35.07421379448956}                              \n",
      "2.210123720187392                                                                                                      \n",
      "{'learning_rate': 2.3746974926559856, 'sigma': 9.526418335704712, 'x': 39.081629646366466}                             \n",
      "2.1628776606765685                                                                                                     \n",
      "{'learning_rate': 1.1807381287422585, 'sigma': 8.191091485984266, 'x': 37.37646906256178}                              \n",
      "2.128181229327774                                                                                                      \n",
      "{'learning_rate': 0.9586251454024965, 'sigma': 8.819765006087412, 'x': 38.37639992791803}                              \n",
      "2.1575186192447835                                                                                                     \n",
      "{'learning_rate': 1.29952704044526, 'sigma': 9.886438604621478, 'x': 36.644546755745296}                               \n",
      "2.1602959667357267                                                                                                     \n",
      "{'learning_rate': 1.8684816274730407, 'sigma': 9.178566035631672, 'x': 40.91487544242907}                              \n",
      "2.1708622161235995                                                                                                     \n",
      "{'learning_rate': 0.8812184081645741, 'sigma': 9.355072648007347, 'x': 39.62205952970085}                              \n",
      "2.1598739590684577                                                                                                     \n"
     ]
    },
    {
     "name": "stdout",
     "output_type": "stream",
     "text": [
      "{'learning_rate': 1.4347252222321705, 'sigma': 9.674288128691868, 'x': 35.83236093446115}                              \n",
      "2.197262754450567                                                                                                      \n",
      "{'learning_rate': 1.0665550514254378, 'sigma': 7.860103953711047, 'x': 41.09958827316025}                              \n",
      "2.17005763242603                                                                                                       \n",
      "{'learning_rate': 2.060846449660797, 'sigma': 9.45410499104832, 'x': 40.26955614650692}                                \n",
      "2.1686845627028113                                                                                                     \n",
      "{'learning_rate': 2.264678453664798, 'sigma': 9.255281475725702, 'x': 31.032598691251952}                              \n",
      "2.161858084720355                                                                                                      \n",
      "{'learning_rate': 1.7601670332446442, 'sigma': 8.887112267863818, 'x': 37.37687521293541}                              \n",
      "2.1780684672431287                                                                                                     \n",
      "{'learning_rate': 0.6886582762161917, 'sigma': 7.658986889904044, 'x': 39.18139297511042}                              \n",
      "2.1426641589505424                                                                                                     \n",
      "{'learning_rate': 2.520821566022932, 'sigma': 8.577265300271748, 'x': 34.1313216951396}                                \n",
      "2.1730035644863697                                                                                                     \n",
      "{'learning_rate': 0.7980150519437005, 'sigma': 9.075529222347992, 'x': 38.19287562553404}                              \n",
      "2.1562491556141854                                                                                                     \n",
      "{'learning_rate': 0.5376135792758273, 'sigma': 8.373390024704685, 'x': 32.422167653737915}                             \n",
      "2.1856447796202074                                                                                                     \n",
      "{'learning_rate': 3.4449312180554292, 'sigma': 9.593449152030429, 'x': 35.20016689499223}                              \n",
      "2.2046530518044047                                                                                                     \n",
      "{'learning_rate': 1.622836505625932, 'sigma': 9.750022443625204, 'x': 36.541361772273824}                              \n",
      "2.2103238752778727                                                                                                     \n",
      "{'learning_rate': 1.9417965491539366, 'sigma': 8.032278229010661, 'x': 28.504096412659596}                             \n",
      "2.2172894471310256                                                                                                     \n",
      "{'learning_rate': 1.2297115984416958, 'sigma': 8.730145625421931, 'x': 41.70146369064045}                              \n",
      "2.1490719270517142                                                                                                     \n",
      "{'learning_rate': 1.3829164684054922, 'sigma': 9.410606010091957, 'x': 33.20608966244028}                              \n",
      "2.1760551425017125                                                                                                     \n",
      "{'learning_rate': 1.0855917918286044, 'sigma': 9.978849563081658, 'x': 40.9067579175638}                               \n",
      "2.1614237184825633                                                                                                     \n",
      "{'learning_rate': 0.9315583388901979, 'sigma': 8.973062505781499, 'x': 39.87373934951211}                              \n",
      "2.1715518857183853                                                                                                     \n",
      "{'learning_rate': 1.0003175375676554, 'sigma': 8.270451530313906, 'x': 49.991728250470736}                             \n",
      "2.130936148755024                                                                                                      \n",
      "{'learning_rate': 1.569711481414298, 'sigma': 9.541495698016211, 'x': 38.24562446988486}                               \n",
      "2.1104555714282327                                                                                                     \n",
      "{'learning_rate': 0.7292747595486053, 'sigma': 9.258636785643278, 'x': 35.94127454741456}                              \n",
      "2.2068395611057823                                                                                                     \n",
      "{'learning_rate': 0.5805843718364401, 'sigma': 9.8331789820746, 'x': 48.496088566193826}                               \n",
      "2.099545481074009                                                                                                      \n",
      "{'learning_rate': 1.143341488707815, 'sigma': 7.432296218981609, 'x': 33.911566434680715}                              \n",
      "2.1940214470108312                                                                                                     \n",
      "{'learning_rate': 1.2840348254616387, 'sigma': 8.520188138620794, 'x': 49.422719799884135}                             \n",
      "2.148325709467592                                                                                                      \n",
      "{'learning_rate': 1.4772773121571043, 'sigma': 9.125501874093576, 'x': 29.014083297554695}                             \n",
      "2.219458345783548                                                                                                      \n",
      "{'learning_rate': 2.141364032718183, 'sigma': 8.739201606904318, 'x': 41.71304534972567}                               \n",
      "2.1404990036681766                                                                                                     \n",
      "{'learning_rate': 1.6866540463269537, 'sigma': 9.000660139466246, 'x': 46.38290840192895}                              \n",
      "2.137410543686278                                                                                                      \n",
      "{'learning_rate': 0.8614948571756248, 'sigma': 8.889239561380208, 'x': 47.932882054379824}                             \n",
      "2.0353487293363663                                                                                                     \n",
      "{'learning_rate': 0.48135360093331836, 'sigma': 7.767153095918908, 'x': 47.83521435521291}                             \n",
      "2.1423906405634803                                                                                                     \n",
      "{'learning_rate': 0.23069722235449314, 'sigma': 8.653096594714343, 'x': 49.08062230937912}                             \n",
      "2.164540821820742                                                                                                      \n",
      "{'learning_rate': 0.054046577661004847, 'sigma': 8.147375289219898, 'x': 46.860444151687744}                           \n",
      "2.1128379048117165                                                                                                     \n",
      "{'learning_rate': 0.8462843879370774, 'sigma': 8.851406669001001, 'x': 48.69972664561686}                              \n",
      "2.1581355355232676                                                                                                     \n",
      "{'learning_rate': 0.6062096069474903, 'sigma': 8.435848779400999, 'x': 49.906026143150335}                             \n",
      "2.1734012986279185                                                                                                     \n",
      "{'learning_rate': 0.41831493863373526, 'sigma': 7.248294452268325, 'x': 47.38145020139612}                             \n",
      "2.126999033547176                                                                                                      \n",
      "{'learning_rate': 0.660833135677322, 'sigma': 8.519519495148067, 'x': 45.41171936359139}                               \n",
      "2.1554241554444875                                                                                                     \n",
      "{'learning_rate': 0.7743333373034273, 'sigma': 8.000224187118553, 'x': 48.0701189412309}                               \n",
      "2.1556501541495825                                                                                                     \n",
      "{'learning_rate': 0.14856202323588574, 'sigma': 7.581591691086004, 'x': 49.54537701115182}                             \n",
      "2.0994184937038596                                                                                                     \n",
      "{'learning_rate': 0.5090656841281586, 'sigma': 9.356342992840982, 'x': 46.04825110319965}                              \n",
      "2.1582359216768303                                                                                                     \n",
      "{'learning_rate': 0.29463367770349125, 'sigma': 8.3258791634094, 'x': 43.754329688360066}                              \n",
      "2.1614365903292034                                                                                                     \n",
      "{'learning_rate': 0.9756645556770298, 'sigma': 9.458421032367188, 'x': 48.86020273691446}                              \n",
      "2.1839920528469783                                                                                                     \n",
      "{'learning_rate': 0.8457426860310793, 'sigma': 9.245546680932241, 'x': 46.84579607573792}                              \n",
      "2.1849472608374296                                                                                                     \n",
      "{'learning_rate': 0.7119712046542963, 'sigma': 8.921211916176128, 'x': 49.945677901650754}                             \n",
      "2.1196932589582                                                                                                        \n",
      "{'learning_rate': 4.219917271593408, 'sigma': 9.717002424677293, 'x': 48.23673266366034}                               \n",
      "2.1189639405839578                                                                                                     \n",
      "{'learning_rate': 3.63911002783424, 'sigma': 9.60944683515895, 'x': 47.391773275013975}                                \n",
      "2.1554128529151995                                                                                                     \n",
      "{'learning_rate': 0.305790728538127, 'sigma': 9.994839166573001, 'x': 45.620978426232554}                              \n",
      "2.1533007690273025                                                                                                     \n",
      "{'learning_rate': 1.0236196361465022, 'sigma': 8.702077670031217, 'x': 44.49975514163576}                              \n",
      "2.114336802360006                                                                                                      \n",
      "{'learning_rate': 0.6323825259370537, 'sigma': 8.808477025589044, 'x': 46.41782378549972}                              \n",
      "2.0996194224028075                                                                                                     \n",
      "{'learning_rate': 0.9049293562084799, 'sigma': 9.18832812867017, 'x': 45.17382785867764}                               \n",
      "2.1458315493797895                                                                                                     \n",
      "{'learning_rate': 0.42480460119110197, 'sigma': 9.311185290674, 'x': 49.983382789081396}                               \n",
      "2.1909155402983167                                                                                                     \n",
      "{'learning_rate': 4.635238821680021, 'sigma': 9.051470188616033, 'x': 43.36211441814334}                               \n",
      "2.1108106727649845                                                                                                     \n",
      "{'learning_rate': 0.05236399005688486, 'sigma': 9.85138577166131, 'x': 49.1886550041564}                               \n",
      "2.1441400697804                                                                                                        \n",
      "{'learning_rate': 1.3611760635336583, 'sigma': 8.606087305591174, 'x': 47.35731668355292}                              \n",
      "2.1541936876701273                                                                                                     \n",
      "{'learning_rate': 0.5187511344588032, 'sigma': 9.493241092060002, 'x': 48.11513158081057}                              \n",
      "2.1209786991482487                                                                                                     \n",
      "{'learning_rate': 1.110034324077636, 'sigma': 8.919106446333037, 'x': 45.96521104090152}                               \n",
      "2.0492504759598655                                                                                                     \n",
      "{'learning_rate': 0.8048436900814147, 'sigma': 8.779430306342405, 'x': 46.080979057995506}                             \n",
      "2.1380874431491317                                                                                                     \n",
      "{'learning_rate': 0.23325340072095513, 'sigma': 7.326027425270476, 'x': 48.508536489304895}                            \n",
      "2.136015109785013                                                                                                      \n",
      "{'learning_rate': 0.1391106146639537, 'sigma': 9.695530619653683, 'x': 47.77882741192639}                              \n",
      "2.1373503411605346                                                                                                     \n",
      "{'learning_rate': 0.3515381605238356, 'sigma': 8.217558461108425, 'x': 45.783925516927866}                             \n",
      "2.19952229472011                                                                                                       \n",
      "{'learning_rate': 1.086240040154959, 'sigma': 7.899188505507725, 'x': 46.7901406252817}                                \n",
      "2.155018472612075                                                                                                      \n",
      "{'learning_rate': 0.955881655552316, 'sigma': 9.39261645639372, 'x': 49.09383600101022}                                \n",
      "2.141238770655641                                                                                                      \n",
      "{'learning_rate': 0.6560209082712071, 'sigma': 7.490337229608701, 'x': 44.7892274398349}                               \n",
      "2.1345863741561515                                                                                                     \n",
      "{'learning_rate': 0.5369444733905947, 'sigma': 9.583323177785967, 'x': 47.120302544036456}                             \n",
      "2.146848668165861                                                                                                      \n",
      "{'learning_rate': 2.639092303007872, 'sigma': 9.162524641492997, 'x': 49.9679620939175}                                \n",
      "2.1490796550670135                                                                                                     \n",
      "{'learning_rate': 0.7809693444996143, 'sigma': 9.903096578929764, 'x': 44.08763874446615}                              \n",
      "2.1429167514934253                                                                                                     \n",
      "{'learning_rate': 1.1139185467601687, 'sigma': 9.997965414564357, 'x': 48.49138600697991}                              \n",
      "2.1801640117757994                                                                                                     \n",
      "{'learning_rate': 0.9005669458757026, 'sigma': 8.372388160369049, 'x': 46.37267679626448}                              \n",
      "2.151272286791727                                                                                                      \n",
      "{'learning_rate': 0.054599203846399436, 'sigma': 8.520641407379992, 'x': 49.365698292147506}                           \n",
      "2.1496080462996376                                                                                                     \n",
      "{'learning_rate': 0.42620875157859617, 'sigma': 8.88327515703197, 'x': 47.77805317109409}                              \n",
      "2.13825913993617                                                                                                       \n",
      "{'learning_rate': 4.031053084472569, 'sigma': 9.027707763017883, 'x': 45.308727530585344}                              \n",
      "2.162522458949184                                                                                                      \n",
      "{'learning_rate': 1.5194050826433607, 'sigma': 9.32143384500704, 'x': 49.969821206205225}                              \n",
      "2.138552834190078                                                                                                      \n"
     ]
    },
    {
     "name": "stdout",
     "output_type": "stream",
     "text": [
      "{'learning_rate': 3.019024500766634, 'sigma': 9.764028988299609, 'x': 48.68649156359631}                               \n",
      "2.130115099908417                                                                                                      \n",
      "{'learning_rate': 1.191282635468693, 'sigma': 8.624811277906156, 'x': 47.09783113520156}                               \n",
      "2.171093859135655                                                                                                      \n",
      "{'learning_rate': 0.6312015526870652, 'sigma': 9.493734719404998, 'x': 46.358663853414726}                             \n",
      "2.154871775461102                                                                                                      \n",
      "{'learning_rate': 1.3340973229359643, 'sigma': 8.13353007644542, 'x': 44.3742201675034}                                \n",
      "2.1721067951502704                                                                                                     \n",
      "{'learning_rate': 0.2634301473400078, 'sigma': 9.188932257380669, 'x': 45.78849541586777}                              \n",
      "2.1017566074840417                                                                                                     \n",
      "{'learning_rate': 1.4226497980322923, 'sigma': 8.729074735870155, 'x': 49.44460268347276}                              \n",
      "2.16673530910832                                                                                                       \n",
      "{'learning_rate': 1.8193968021974087, 'sigma': 7.797242022725635, 'x': 47.88466875553188}                              \n",
      "2.178475772016162                                                                                                      \n",
      "{'learning_rate': 3.872439621806359, 'sigma': 9.086885988549042, 'x': 43.65411808423385}                               \n",
      "2.1470201450241917                                                                                                     \n",
      "{'learning_rate': 0.7198988044353511, 'sigma': 8.27905303883341, 'x': 45.10226084296706}                               \n",
      "2.1642524269281247                                                                                                     \n",
      "{'learning_rate': 4.837121148812658, 'sigma': 9.642027638267018, 'x': 48.800999627387334}                              \n",
      "2.123905388859054                                                                                                      \n",
      "{'learning_rate': 1.0565912366821242, 'sigma': 7.034237404345554, 'x': 47.29742397161779}                              \n",
      "2.1130628159261007                                                                                                     \n",
      "{'learning_rate': 0.5076694830313944, 'sigma': 8.963643564703128, 'x': 42.7767021761347}                               \n",
      "2.1735790070887506                                                                                                     \n",
      "{'learning_rate': 0.8546082793141254, 'sigma': 9.396041052209261, 'x': 46.72899850777709}                              \n",
      "2.1494584192942656                                                                                                     \n",
      "{'learning_rate': 0.16567191929663994, 'sigma': 8.430911403805581, 'x': 48.29430437699719}                             \n",
      "2.1411098988049018                                                                                                     \n",
      "{'learning_rate': 0.37334019879786395, 'sigma': 8.056398089515138, 'x': 45.77520795793585}                             \n",
      "2.1326840190012932                                                                                                     \n",
      "{'learning_rate': 1.265635287149862, 'sigma': 8.864442007261093, 'x': 22.769573992351205}                              \n",
      "2.233834614939522                                                                                                      \n",
      "{'learning_rate': 1.01211144347051, 'sigma': 9.779178227625344, 'x': 49.45896494877861}                                \n",
      "2.122159607723023                                                                                                      \n",
      "{'learning_rate': 1.5833840745528807, 'sigma': 9.881145489617923, 'x': 44.78287382114579}                              \n",
      "2.1276015179602075                                                                                                     \n",
      "{'learning_rate': 0.7445392774210144, 'sigma': 9.30552691827255, 'x': 47.61382451367937}                               \n",
      "2.1855184994968653                                                                                                     \n",
      "{'learning_rate': 1.1580648456098384, 'sigma': 9.2474511324487, 'x': 49.9251838955441}                                 \n",
      "2.0980499528029184                                                                                                     \n",
      "{'learning_rate': 0.5829867433786489, 'sigma': 7.667955248760889, 'x': 46.32095240988}                                 \n",
      "2.1351648220141457                                                                                                     \n",
      "{'learning_rate': 2.0196663983346896, 'sigma': 9.5465133546957, 'x': 43.23164672301545}                                \n",
      "2.1381999403174445                                                                                                     \n",
      "{'learning_rate': 1.675739200925788, 'sigma': 8.66178650426622, 'x': 48.885857529503326}                               \n",
      "2.148465704746995                                                                                                      \n",
      "{'learning_rate': 0.9216939498307493, 'sigma': 9.096959901062075, 'x': 43.78735718814887}                              \n",
      "2.153386005255014                                                                                                      \n",
      "{'learning_rate': 1.459746835351386, 'sigma': 9.450674498627343, 'x': 44.355114188951326}                              \n",
      "2.155006466005162                                                                                                      \n",
      "{'learning_rate': 2.3845995031919456, 'sigma': 8.780979412585879, 'x': 42.111108578984606}                             \n",
      "2.1770608927301014                                                                                                     \n",
      "{'learning_rate': 0.3213722683927334, 'sigma': 7.956083057144073, 'x': 25.28311636301192}                              \n",
      "2.1989825742310085                                                                                                     \n",
      "{'learning_rate': 0.45733606712959574, 'sigma': 9.683906046307234, 'x': 46.837278374132254}                            \n",
      "2.1247962237867766                                                                                                     \n",
      "{'learning_rate': 0.812021235945764, 'sigma': 9.56888743353362, 'x': 45.49859986087544}                                \n",
      "2.181931798288685                                                                                                      \n",
      "{'learning_rate': 1.331369791286241, 'sigma': 8.490190478068222, 'x': 48.017486794117154}                              \n",
      "2.153345465827069                                                                                                      \n",
      "{'learning_rate': 0.19404684424844743, 'sigma': 8.937822531203905, 'x': 49.3142616197819}                              \n",
      "2.153779866705409                                                                                                      \n",
      "{'learning_rate': 1.916692236126092, 'sigma': 9.230902064247664, 'x': 49.97572563614827}                               \n",
      "2.1328139433322995                                                                                                     \n",
      "{'learning_rate': 1.7264176252558663, 'sigma': 9.99671541438785, 'x': 47.37146318400897}                               \n",
      "2.1199617288513553                                                                                                     \n",
      "{'learning_rate': 1.1952317966322836, 'sigma': 8.978056298711664, 'x': 42.78999825691334}                              \n",
      "2.1892417968766384                                                                                                     \n",
      "{'learning_rate': 1.2956023989814958, 'sigma': 8.900861330237332, 'x': 44.79058403791375}                              \n",
      "2.1505267119748375                                                                                                     \n",
      "{'learning_rate': 0.9783866853490383, 'sigma': 9.04941459278718, 'x': 42.34337186215587}                               \n",
      "2.1404011670472785                                                                                                     \n",
      "{'learning_rate': 1.1326857985489616, 'sigma': 9.157062672682123, 'x': 43.90587851980866}                              \n",
      "2.1599685070665875                                                                                                     \n",
      "{'learning_rate': 1.4614432556172567, 'sigma': 8.807172005282343, 'x': 46.0716869323361}                               \n",
      "2.1780280828801644                                                                                                     \n",
      "{'learning_rate': 1.2339953320431303, 'sigma': 9.37844928132593, 'x': 45.23948631097861}                               \n",
      "2.1715527444057448                                                                                                     \n",
      "{'learning_rate': 1.0928618776987793, 'sigma': 8.604289864896467, 'x': 41.36976818163448}                              \n",
      "2.164209550070187                                                                                                      \n",
      "{'learning_rate': 1.5602833167026522, 'sigma': 8.72133130056721, 'x': 43.129576918848684}                              \n",
      "2.132384411371484                                                                                                      \n",
      "{'learning_rate': 1.4021815736368959, 'sigma': 8.952705093027605, 'x': 46.632396002655284}                             \n",
      "2.1457230961868645                                                                                                     \n",
      "{'learning_rate': 0.903941524333931, 'sigma': 9.318079576332034, 'x': 44.345680690023194}                              \n",
      "2.0784728125321363                                                                                                     \n",
      "{'learning_rate': 0.8618169610734542, 'sigma': 9.438823161022233, 'x': 45.49533108929944}                              \n",
      "2.1543161377847784                                                                                                     \n",
      "{'learning_rate': 0.7290580779782614, 'sigma': 9.62360655210743, 'x': 44.36576010911974}                               \n",
      "2.1302159866806623                                                                                                     \n",
      "{'learning_rate': 0.601695668093015, 'sigma': 9.323731751554668, 'x': 48.279032298052016}                              \n",
      "2.166057110935571                                                                                                      \n",
      "{'learning_rate': 0.940799861270194, 'sigma': 9.190600186351954, 'x': 46.14713590126281}                               \n",
      "2.1649731585076792                                                                                                     \n",
      "{'learning_rate': 0.664365820609817, 'sigma': 9.518777403027745, 'x': 47.4293404853236}                                \n",
      "2.1709807595123216                                                                                                     \n",
      "{'learning_rate': 1.039368496387537, 'sigma': 9.107055346391492, 'x': 44.918912554406965}                              \n",
      "2.1331894248645535                                                                                                     \n",
      "{'learning_rate': 0.7785880914173327, 'sigma': 9.803951816237333, 'x': 43.70317161313428}                              \n",
      "2.165827475917935                                                                                                      \n",
      "{'learning_rate': 0.5219706788674032, 'sigma': 9.376776504426992, 'x': 46.975793729201236}                             \n",
      "2.1616114262144888                                                                                                     \n",
      "{'learning_rate': 0.8760935017576048, 'sigma': 9.685023226404653, 'x': 45.64638097830855}                              \n",
      "2.1678863623979505                                                                                                     \n",
      "{'learning_rate': 0.4113819897029964, 'sigma': 9.246873954251022, 'x': 48.60200657625804}                              \n",
      "2.179228548785252                                                                                                      \n",
      "{'learning_rate': 0.5987249362837995, 'sigma': 9.497400710176606, 'x': 48.05564278876303}                              \n",
      "2.139849859450072                                                                                                      \n",
      "{'learning_rate': 1.020478556407674, 'sigma': 9.751515073374634, 'x': 44.15010986433217}                               \n",
      "2.1737204586065344                                                                                                     \n",
      "{'learning_rate': 0.7825503731021003, 'sigma': 9.277483183075795, 'x': 46.57584712506342}                              \n",
      "2.126954587343851                                                                                                      \n",
      "{'learning_rate': 0.9531009916353124, 'sigma': 9.117047592953591, 'x': 44.816651522993375}                             \n",
      "2.1838175863081806                                                                                                     \n",
      "{'learning_rate': 0.6884945287981599, 'sigma': 9.021752394355854, 'x': 47.535020145844385}                             \n",
      "2.181187366065444                                                                                                      \n",
      "{'learning_rate': 0.29462173746379916, 'sigma': 9.870387924411826, 'x': 42.07736198447604}                             \n",
      "2.1531471564333304                                                                                                     \n",
      "{'learning_rate': 1.1453399290396096, 'sigma': 9.555322332133647, 'x': 43.14316927108171}                              \n",
      "2.1497255798649273                                                                                                     \n",
      "{'learning_rate': 0.5301869974070369, 'sigma': 9.406413421656383, 'x': 48.85548575578482}                              \n",
      "2.1488436363507732                                                                                                     \n",
      "{'learning_rate': 1.2648517660633425, 'sigma': 9.312923695234748, 'x': 45.784814363459276}                             \n",
      "2.1965781147914925                                                                                                     \n",
      "{'learning_rate': 0.8616244460056618, 'sigma': 9.655504184581908, 'x': 46.36026791929861}                              \n",
      "2.1705776145535816                                                                                                     \n",
      "{'learning_rate': 0.46018018074315414, 'sigma': 9.97849755790799, 'x': 49.401791748705755}                             \n",
      "2.1537030253796035                                                                                                     \n",
      "{'learning_rate': 0.1268796930634522, 'sigma': 8.821190868489632, 'x': 47.87654031459368}                              \n",
      "2.147051554671277                                                                                                      \n",
      "{'learning_rate': 1.3759566054566448, 'sigma': 9.218358740796075, 'x': 45.268970874468906}                             \n",
      "2.138787799213974                                                                                                      \n",
      "{'learning_rate': 1.046435550472038, 'sigma': 9.046874760207068, 'x': 44.132852023521046}                              \n",
      "2.1631449710871054                                                                                                     \n",
      "{'learning_rate': 0.7283509067234712, 'sigma': 9.485171340019173, 'x': 47.128807060871516}                             \n",
      "2.1081043237051835                                                                                                     \n"
     ]
    },
    {
     "name": "stdout",
     "output_type": "stream",
     "text": [
      "{'learning_rate': 0.38360552595752595, 'sigma': 9.796184798010371, 'x': 43.60429278987334}                             \n",
      "2.1665242489487344                                                                                                     \n",
      "{'learning_rate': 0.2511865279095786, 'sigma': 8.573380164777419, 'x': 49.99807426941439}                              \n",
      "2.166095425260896                                                                                                      \n",
      "{'learning_rate': 0.6444857760643773, 'sigma': 9.599324608841599, 'x': 42.61701964982158}                              \n",
      "2.133869728658767                                                                                                      \n",
      "{'learning_rate': 0.9330569215638718, 'sigma': 9.88046153679464, 'x': 48.47946650375118}                               \n",
      "2.1720780829259807                                                                                                     \n",
      "{'learning_rate': 0.5610150407604386, 'sigma': 8.84144506689455, 'x': 46.18593866719715}                               \n",
      "2.157685070128981                                                                                                      \n",
      "{'learning_rate': 1.1905680834044106, 'sigma': 9.196448219847415, 'x': 49.07103574913801}                              \n",
      "2.1774553814258404                                                                                                     \n",
      "{'learning_rate': 1.5311922442338433, 'sigma': 9.410733430449067, 'x': 45.00230531551837}                              \n",
      "2.1553300049953075                                                                                                     \n",
      "{'learning_rate': 1.0884984720164146, 'sigma': 9.706299233052812, 'x': 47.13034419582684}                              \n",
      "2.144533820460853                                                                                                      \n",
      "{'learning_rate': 1.3285518325419865, 'sigma': 8.907802058857653, 'x': 47.767944927687665}                             \n",
      "2.1372426466531946                                                                                                     \n",
      "{'learning_rate': 0.8027824194321023, 'sigma': 9.118308009817905, 'x': 49.999981898557124}                             \n",
      "2.151446562502004                                                                                                      \n",
      "{'learning_rate': 1.6529435308768674, 'sigma': 9.301810891940287, 'x': 44.33521273080693}                              \n",
      "2.145970023682816                                                                                                      \n",
      "{'learning_rate': 0.3358260294233395, 'sigma': 8.34062848055041, 'x': 41.94164756885093}                               \n",
      "2.1694949473450773                                                                                                     \n",
      "{'learning_rate': 0.06338109891796334, 'sigma': 8.649995690193968, 'x': 46.625189307715125}                            \n",
      "2.1705551227494535                                                                                                     \n",
      "{'learning_rate': 0.9639590477688007, 'sigma': 9.993404426960918, 'x': 45.506798131484565}                             \n",
      "2.1103151431656415                                                                                                     \n",
      "{'learning_rate': 1.8091127331621237, 'sigma': 9.038620928845047, 'x': 48.087713545163005}                             \n",
      "2.127839394795052                                                                                                      \n",
      "{'learning_rate': 0.6810417671503508, 'sigma': 8.74054150131319, 'x': 43.36098854478362}                               \n",
      "2.151628674430497                                                                                                      \n",
      "{'learning_rate': 1.234900001007369, 'sigma': 9.605203379554823, 'x': 49.50603745019667}                               \n",
      "2.1441661774631937                                                                                                     \n",
      "{'learning_rate': 0.47372428141266515, 'sigma': 9.467429476558387, 'x': 48.790779154020726}                            \n",
      "2.1231007953848287                                                                                                     \n",
      "{'learning_rate': 0.86710836448536, 'sigma': 9.348928068809824, 'x': 44.64496706150129}                                \n",
      "2.1651812700945197                                                                                                     \n",
      "{'learning_rate': 1.4714302124523777, 'sigma': 7.167166490496168, 'x': 45.85443504788999}                              \n",
      "2.1968191828262715                                                                                                     \n",
      "{'learning_rate': 0.22021539556178837, 'sigma': 8.952399920428096, 'x': 46.87984214553914}                             \n",
      "2.131078093519078                                                                                                      \n",
      "{'learning_rate': 1.0485517944590717, 'sigma': 9.754571773192488, 'x': 42.99712586015892}                              \n",
      "2.1715158377697876                                                                                                     \n",
      "{'learning_rate': 1.1381319553079705, 'sigma': 8.505215458194952, 'x': 41.18875062315851}                              \n",
      "2.157679527432518                                                                                                      \n",
      "{'learning_rate': 0.6224971194240794, 'sigma': 9.897812828997228, 'x': 24.411101771940967}                             \n",
      "2.1891497486846587                                                                                                     \n",
      "{'learning_rate': 3.363774634119247, 'sigma': 9.240262619878454, 'x': 47.49832194968879}                               \n",
      "2.155483515102184                                                                                                      \n",
      "{'learning_rate': 1.3168221711695323, 'sigma': 9.158881622032487, 'x': 48.336504326030855}                             \n",
      "2.167575429924959                                                                                                      \n",
      "{'learning_rate': 0.7769413538220821, 'sigma': 8.81019933610841, 'x': 46.13417746331839}                               \n",
      "2.1303568344613333                                                                                                     \n",
      "{'learning_rate': 0.40044957817841065, 'sigma': 9.584576112557489, 'x': 45.18739518661953}                             \n",
      "2.150516771084987                                                                                                      \n",
      "{'learning_rate': 1.003317359766823, 'sigma': 8.99462199566628, 'x': 43.86680264646398}                                \n",
      "2.182692802965824                                                                                                      \n",
      "{'learning_rate': 1.571673507840143, 'sigma': 8.226810584781976, 'x': 42.30029767753192}                               \n",
      "2.16676018331473                                                                                                       \n",
      "{'learning_rate': 1.3939902109942217, 'sigma': 8.428790242916964, 'x': 49.99418520337693}                              \n",
      "2.1735657893663327                                                                                                     \n",
      "{'learning_rate': 0.5352033514985721, 'sigma': 9.433489106900895, 'x': 49.01460240269131}                              \n",
      "2.1400932646944932                                                                                                     \n",
      "{'learning_rate': 0.07016154672140118, 'sigma': 8.707476033539997, 'x': 46.71808805614558}                             \n",
      "2.179310738763137                                                                                                      \n",
      "{'learning_rate': 0.7197466510080344, 'sigma': 9.358789431352061, 'x': 44.72001845220191}                              \n",
      "2.156294144339564                                                                                                      \n",
      "{'learning_rate': 0.8690996418835968, 'sigma': 9.510675811590827, 'x': 47.21193714224101}                              \n",
      "2.141147807691933                                                                                                      \n",
      "{'learning_rate': 1.7442593853337789, 'sigma': 9.098514399982248, 'x': 49.44317213996153}                              \n",
      "2.1355910584481994                                                                                                     \n",
      "{'learning_rate': 1.139073280522888, 'sigma': 9.726298538129189, 'x': 47.74609560840615}                               \n",
      "2.145003191253693                                                                                                      \n",
      "{'learning_rate': 0.30726188731832615, 'sigma': 9.993440870330152, 'x': 21.8979473319393}                              \n",
      "2.1566957293126894                                                                                                     \n",
      "{'learning_rate': 1.220088609448529, 'sigma': 8.876338653061037, 'x': 45.8266803227659}                                \n",
      "2.159771363730171                                                                                                      \n",
      "{'learning_rate': 0.6111882933393097, 'sigma': 8.5516898909914, 'x': 48.29060843317477}                                \n",
      "2.1601308277139024                                                                                                     \n",
      "{'learning_rate': 0.9448526748009571, 'sigma': 9.260398366501533, 'x': 43.50195363538255}                              \n",
      "2.1641752256343314                                                                                                     \n",
      "{'learning_rate': 0.17685522878082882, 'sigma': 9.137942597863262, 'x': 49.98521017110705}                             \n",
      "2.1537520023047687                                                                                                     \n",
      "{'learning_rate': 0.4822068717713477, 'sigma': 9.660859803588368, 'x': 27.081252863908656}                             \n",
      "2.207824353007776                                                                                                      \n",
      "{'learning_rate': 1.48957536318567, 'sigma': 9.818112910986429, 'x': 42.65675504485385}                                \n",
      "2.129116190322076                                                                                                      \n",
      "{'learning_rate': 0.05085506230451231, 'sigma': 9.001148869879948, 'x': 46.29211187309404}                             \n",
      "2.123163516373119                                                                                                      \n",
      "{'learning_rate': 0.8400079363740431, 'sigma': 8.65594425789352, 'x': 44.29252188965441}                               \n",
      "2.146222039516244                                                                                                      \n",
      "{'learning_rate': 1.6375821753009128, 'sigma': 6.971367747092014, 'x': 41.78432155713917}                              \n",
      "2.1917430798183712                                                                                                     \n",
      "{'learning_rate': 1.3945621326813746, 'sigma': 9.506489161336296, 'x': 40.56550640134373}                              \n",
      "2.1745115581433256                                                                                                     \n",
      "{'learning_rate': 1.0901425710042436, 'sigma': 9.299911941671379, 'x': 45.33542782336325}                              \n",
      "2.1703487649458233                                                                                                     \n",
      "{'learning_rate': 0.6736968051236232, 'sigma': 8.140055005166444, 'x': 47.65249007140995}                              \n",
      "2.106020057885499                                                                                                      \n",
      "{'learning_rate': 1.2688585220963984, 'sigma': 9.917827128473794, 'x': 48.81323565214018}                              \n",
      "2.1836782081461728                                                                                                     \n",
      "{'learning_rate': 0.7505334426470407, 'sigma': 7.381722272553505, 'x': 47.22792702775834}                              \n",
      "2.1425238484628735                                                                                                     \n",
      "{'learning_rate': 4.323942076583618, 'sigma': 8.861076728451946, 'x': 46.684392390126774}                              \n",
      "2.168599200972369                                                                                                      \n",
      "{'learning_rate': 1.8911790486845972, 'sigma': 8.373403156733264, 'x': 49.99393435066316}                              \n",
      "2.1126381617243304                                                                                                     \n",
      "{'learning_rate': 0.4464837655870414, 'sigma': 9.383280213351375, 'x': 43.961294012610196}                             \n",
      "2.119735489449749                                                                                                      \n",
      "{'learning_rate': 0.9756368752377735, 'sigma': 6.848100868541227, 'x': 42.968367893167354}                             \n",
      "2.1525961136397265                                                                                                     \n",
      "{'learning_rate': 2.7799680509164473, 'sigma': 9.574628689025849, 'x': 44.74863113869589}                              \n",
      "2.18248280990775                                                                                                       \n",
      "{'learning_rate': 0.21998830526262725, 'sigma': 7.558382010451441, 'x': 49.37078649767129}                             \n",
      "2.187270570113699                                                                                                      \n",
      "{'learning_rate': 2.2385685600373866, 'sigma': 6.72582064257433, 'x': 48.180228653355705}                              \n",
      "2.140238011329743                                                                                                      \n",
      "{'learning_rate': 0.3630361285725447, 'sigma': 9.196871112296375, 'x': 45.58916687596294}                              \n",
      "2.117289483991889                                                                                                      \n",
      "{'learning_rate': 1.1989820392627528, 'sigma': 9.045414788298924, 'x': 41.492119410147254}                             \n",
      "2.158752709659306                                                                                                      \n",
      "{'learning_rate': 0.5940803438412336, 'sigma': 8.77631152082031, 'x': 46.2015205652171}                                \n",
      "2.128787474284664                                                                                                      \n",
      "{'learning_rate': 1.0217075097578254, 'sigma': 9.639185627135385, 'x': 48.70114787981451}                              \n",
      "2.156384754480723                                                                                                      \n",
      "{'learning_rate': 2.076516331050852, 'sigma': 9.730294196636798, 'x': 47.03483063606345}                               \n",
      "2.124741565880086                                                                                                      \n",
      "{'learning_rate': 0.8213519246883101, 'sigma': 9.421224187833193, 'x': 45.18089773251625}                              \n",
      "2.1821438037130894                                                                                                     \n",
      "{'learning_rate': 1.3388393427610628, 'sigma': 8.94521002257332, 'x': 43.315652537396474}                              \n",
      "2.11112162118007                                                                                                       \n",
      "{'learning_rate': 1.71115837913452, 'sigma': 9.862707746445592, 'x': 42.2773708836398}                                 \n",
      "2.1649533856292584                                                                                                     \n",
      "{'learning_rate': 3.729543625115892, 'sigma': 8.670730435785323, 'x': 45.934812772746874}                              \n",
      "2.1603765418076506                                                                                                     \n"
     ]
    },
    {
     "name": "stdout",
     "output_type": "stream",
     "text": [
      "{'learning_rate': 1.5166349458769568, 'sigma': 9.995865840778853, 'x': 47.88908875214615}                              \n",
      "2.169227336921387                                                                                                      \n",
      "{'learning_rate': 0.9075291107813277, 'sigma': 8.297539795053849, 'x': 44.411087045206585}                             \n",
      "2.1602763334576283                                                                                                     \n",
      "{'learning_rate': 1.1137438315282964, 'sigma': 9.14878912443179, 'x': 49.30777206573269}                               \n",
      "2.115275440874531                                                                                                      \n",
      "{'learning_rate': 1.8117028156165005, 'sigma': 8.486488143447636, 'x': 46.633848576149106}                             \n",
      "2.149197910109952                                                                                                      \n",
      "{'learning_rate': 0.13911132161635564, 'sigma': 9.266502009913046, 'x': 48.5705304009676}                              \n",
      "2.1609371288325976                                                                                                     \n",
      "{'learning_rate': 0.3196903629449438, 'sigma': 9.49567202071368, 'x': 40.97250923356054}                               \n",
      "2.1656402712906755                                                                                                     \n",
      "{'learning_rate': 0.5158368732714821, 'sigma': 9.343493568918918, 'x': 49.99237642138546}                              \n",
      "2.167319287758749                                                                                                      \n",
      "{'learning_rate': 0.7157130968054339, 'sigma': 8.590648062431773, 'x': 43.893634509784086}                             \n",
      "2.17734827429891                                                                                                       \n",
      "{'learning_rate': 1.5965131085338087, 'sigma': 8.881493032806668, 'x': 45.15394467256762}                              \n",
      "2.1445078204574215                                                                                                     \n",
      "{'learning_rate': 1.413205174970924, 'sigma': 9.064633817141372, 'x': 47.393480744505794}                              \n",
      "2.1815499387685278                                                                                                     \n",
      "{'learning_rate': 1.2697544539294934, 'sigma': 9.784729864508364, 'x': 48.181325767381516}                             \n",
      "2.157420571846033                                                                                                      \n",
      "{'learning_rate': 0.05294180018042863, 'sigma': 7.8706964972789875, 'x': 20.979479808862727}                           \n",
      "2.2362362148325707                                                                                                     \n",
      "{'learning_rate': 0.8231649689608489, 'sigma': 9.547119361849962, 'x': 46.046582224111}                                \n",
      "2.165428333633726                                                                                                      \n",
      "{'learning_rate': 0.5873032547822309, 'sigma': 8.766730338322052, 'x': 44.61742858239799}                              \n",
      "2.201291032311201                                                                                                      \n",
      "{'learning_rate': 1.033969437803961, 'sigma': 8.054996794659745, 'x': 42.54185332711446}                               \n",
      "2.139049882546071                                                                                                      \n",
      "{'learning_rate': 1.9599495790699328, 'sigma': 8.99690674538924, 'x': 48.88547804548424}                               \n",
      "2.1703453253919336                                                                                                     \n",
      "{'learning_rate': 0.39141929674953857, 'sigma': 9.680323761253764, 'x': 46.615897071478116}                            \n",
      "2.1221029517976673                                                                                                     \n",
      "{'learning_rate': 0.8976668452469793, 'sigma': 9.207847571707765, 'x': 43.50252538863227}                              \n",
      "2.121786555114866                                                                                                      \n",
      "{'learning_rate': 1.1698341792611173, 'sigma': 9.413009924206493, 'x': 40.2075594652151}                               \n",
      "2.173757333185203                                                                                                      \n",
      "{'learning_rate': 0.695395102655007, 'sigma': 9.3149916119105, 'x': 47.71976190624536}                                 \n",
      "2.1210056687056245                                                                                                     \n",
      "{'learning_rate': 0.2599803684165106, 'sigma': 9.10328974465014, 'x': 45.51882122245731}                               \n",
      "2.1187336803564363                                                                                                     \n",
      "{'learning_rate': 0.9741916453035712, 'sigma': 9.922109487535534, 'x': 49.48315265185922}                              \n",
      "2.167789741874237                                                                                                      \n",
      "{'learning_rate': 1.4766951407672215, 'sigma': 7.709005516511116, 'x': 29.847234929297596}                             \n",
      "2.1893657732100023                                                                                                     \n",
      "{'learning_rate': 0.5558377053676187, 'sigma': 7.088463547402452, 'x': 41.798068330023455}                             \n",
      "2.139455735689387                                                                                                      \n",
      "{'learning_rate': 0.4402717942587227, 'sigma': 8.442161511359988, 'x': 44.23836887980389}                              \n",
      "2.1512252340382596                                                                                                     \n",
      "{'learning_rate': 2.4735353567827203, 'sigma': 8.898526169472898, 'x': 47.16785461215736}                              \n",
      "2.1509186067097557                                                                                                     \n",
      "{'learning_rate': 0.7856130015022083, 'sigma': 9.621342121340655, 'x': 43.076972736265795}                             \n",
      "2.1606952809774618                                                                                                     \n",
      "{'learning_rate': 1.1092737398988648, 'sigma': 8.775154650364025, 'x': 46.35049088532913}                              \n",
      "2.1490907050994146                                                                                                     \n",
      "{'learning_rate': 1.3379338465480366, 'sigma': 9.802137943000938, 'x': 48.2033567112163}                               \n",
      "2.171827624482691                                                                                                      \n",
      "{'learning_rate': 1.2344573491653261, 'sigma': 9.995581101056942, 'x': 45.099129642744536}                             \n",
      "2.1445200585714836                                                                                                     \n",
      "{'learning_rate': 0.14416044261289307, 'sigma': 9.485166109354372, 'x': 49.446309969741314}                            \n",
      "2.166727943814935                                                                                                      \n",
      "{'learning_rate': 3.528079774467434, 'sigma': 6.293484021430703, 'x': 47.674057892962644}                              \n",
      "2.1389446322233234                                                                                                     \n",
      "{'learning_rate': 1.6583852012056957, 'sigma': 9.200780295888581, 'x': 45.7462453471949}                               \n",
      "2.158554707231644                                                                                                      \n",
      "{'learning_rate': 0.6634778246086278, 'sigma': 9.000420340170225, 'x': 48.8768763208734}                               \n",
      "2.173715996110852                                                                                                      \n",
      "{'learning_rate': 0.9179928534582923, 'sigma': 8.538282807102009, 'x': 43.86871460102265}                              \n",
      "2.1165125288430544                                                                                                     \n",
      "{'learning_rate': 0.05142145252931385, 'sigma': 9.325003379265159, 'x': 49.92881523235065}                             \n",
      "2.1386961722096753                                                                                                     \n",
      "{'learning_rate': 0.49893234320402713, 'sigma': 8.647823062089142, 'x': 46.85583290186682}                             \n",
      "2.157451112356296                                                                                                      \n",
      "{'learning_rate': 1.8159332133635575, 'sigma': 8.281270014743164, 'x': 42.746822072034895}                             \n",
      "2.146049645708508                                                                                                      \n",
      "{'learning_rate': 1.0950045529208232, 'sigma': 9.120756758718485, 'x': 41.371554880187894}                             \n",
      "2.1785660765131025                                                                                                     \n",
      "{'learning_rate': 0.24432453681043526, 'sigma': 7.267581096607597, 'x': 44.60748693089268}                             \n",
      "2.1319011275835136                                                                                                     \n",
      "{'learning_rate': 0.7818063369640631, 'sigma': 8.191821867084446, 'x': 48.40336586223983}                              \n",
      "2.1378314944227226                                                                                                     \n",
      "{'learning_rate': 1.5826342968694385, 'sigma': 6.605371499194438, 'x': 49.9632900032743}                               \n",
      "2.143282541188169                                                                                                      \n",
      "{'learning_rate': 3.1867067458354166, 'sigma': 9.566818217975035, 'x': 46.96330453736254}                              \n",
      "2.1482926533966094                                                                                                     \n",
      "{'learning_rate': 0.3568929988449987, 'sigma': 9.7044700119951, 'x': 46.14622777744969}                                \n",
      "2.1777110985622254                                                                                                     \n",
      "{'learning_rate': 1.4030664975061096, 'sigma': 7.986363593431234, 'x': 40.68954886842626}                              \n",
      "2.1964496743262996                                                                                                     \n",
      "{'learning_rate': 1.0299470906209554, 'sigma': 6.03193902670831, 'x': 45.50888080833209}                               \n",
      "2.1591975498277485                                                                                                     \n",
      "{'learning_rate': 0.6262582975345232, 'sigma': 8.823059556803818, 'x': 47.51374439454898}                              \n",
      "2.126755210351876                                                                                                      \n",
      "{'learning_rate': 1.204508746823217, 'sigma': 9.37096254934866, 'x': 42.13748568086108}                                \n",
      "2.1520758146032                                                                                                        \n",
      "{'learning_rate': 0.9054104807235683, 'sigma': 5.13548663367208, 'x': 43.43678983047674}                               \n",
      "2.152204433225994                                                                                                      \n",
      "{'learning_rate': 1.2993895319639999, 'sigma': 9.874624905839804, 'x': 27.74362019446176}                              \n",
      "2.207655981179058                                                                                                      \n",
      "{'learning_rate': 2.106209242653886, 'sigma': 8.931695492054649, 'x': 49.22205855229233}                               \n",
      "2.114750581983054                                                                                                      \n",
      "{'learning_rate': 0.7266060088330006, 'sigma': 9.472321460753221, 'x': 44.8494438676577}                               \n",
      "2.187623604217329                                                                                                      \n",
      "{'learning_rate': 0.4678107519196866, 'sigma': 9.645460592591748, 'x': 48.33799864100785}                              \n",
      "2.1589733845403942                                                                                                     \n",
      "{'learning_rate': 1.520807966109278, 'sigma': 9.25898333321731, 'x': 46.54528185069051}                                \n",
      "2.0570512301356136                                                                                                     \n",
      "{'learning_rate': 1.7767815864030796, 'sigma': 9.220843467960036, 'x': 44.36576265193046}                              \n",
      "2.1599230229973894                                                                                                     \n",
      "{'learning_rate': 2.5795479184866057, 'sigma': 9.072292469783173, 'x': 42.63793348311936}                              \n",
      "2.1316333480609337                                                                                                     \n",
      "{'learning_rate': 1.9476249439042057, 'sigma': 8.723587116532412, 'x': 43.61398495252306}                              \n",
      "2.1604119780412336                                                                                                     \n",
      "{'learning_rate': 2.031167962533811, 'sigma': 9.427869692273559, 'x': 41.48944604837277}                               \n",
      "2.1422418345937944                                                                                                     \n",
      "{'learning_rate': 1.589439493710525, 'sigma': 9.252574300380894, 'x': 45.73414744153098}                               \n",
      "2.168449080852098                                                                                                      \n",
      "{'learning_rate': 2.8563113646558316, 'sigma': 9.16712910372403, 'x': 45.214222038554496}                              \n",
      "2.1498854022203067                                                                                                     \n",
      "{'learning_rate': 1.7626171547111753, 'sigma': 9.563637750714195, 'x': 40.01286425926493}                              \n",
      "2.200678673584674                                                                                                      \n",
      "{'learning_rate': 1.8822807954139757, 'sigma': 9.772898220988232, 'x': 43.944843320056904}                             \n",
      "2.123014510144463                                                                                                      \n",
      "{'learning_rate': 1.4878430851953903, 'sigma': 9.034805134986282, 'x': 43.246288296100545}                             \n",
      "2.149407434171068                                                                                                      \n",
      "{'learning_rate': 2.3061391557219397, 'sigma': 8.940299082876296, 'x': 46.47140729532795}                              \n",
      "2.1491895090171518                                                                                                     \n",
      "{'learning_rate': 1.390858230332497, 'sigma': 9.998344344158983, 'x': 44.60371570860885}                               \n",
      "2.177238053537014                                                                                                      \n",
      "{'learning_rate': 2.22739421651336, 'sigma': 9.293791874813879, 'x': 46.119212340381}                                  \n",
      "2.1526150144979694                                                                                                     \n",
      "{'learning_rate': 1.6741390974666566, 'sigma': 8.860663467368655, 'x': 42.51592079359095}                              \n",
      "2.147698509650015                                                                                                      \n",
      "{'learning_rate': 2.1371953406072874, 'sigma': 9.432381017121724, 'x': 45.1688103016061}                               \n",
      "2.1912322521081236                                                                                                     \n"
     ]
    },
    {
     "name": "stdout",
     "output_type": "stream",
     "text": [
      "{'learning_rate': 1.1259083295404022, 'sigma': 8.578441405965997, 'x': 40.813928427624354}                             \n",
      "2.1757056138637396                                                                                                     \n",
      "{'learning_rate': 2.659887922638263, 'sigma': 8.706658948074747, 'x': 47.263468826126136}                              \n",
      "2.1554013971465964                                                                                                     \n",
      "{'learning_rate': 1.2402028209485885, 'sigma': 9.70068393463267, 'x': 42.03293353836298}                               \n",
      "2.158600942128548                                                                                                      \n",
      "{'learning_rate': 1.5349602403126725, 'sigma': 9.149580276366834, 'x': 44.08565232558149}                              \n",
      "2.166627589599276                                                                                                      \n",
      "{'learning_rate': 0.9760261853862293, 'sigma': 9.547382177560294, 'x': 46.618422521762334}                             \n",
      "2.1606845409324382                                                                                                     \n",
      "{'learning_rate': 0.7947332546177314, 'sigma': 9.31934743273174, 'x': 42.90971737716624}                               \n",
      "2.127521001946957                                                                                                      \n",
      "{'learning_rate': 2.383045896769852, 'sigma': 9.83927944116758, 'x': 47.61289637122215}                                \n",
      "2.1702989524510206                                                                                                     \n",
      "{'learning_rate': 1.3359593244305128, 'sigma': 8.390362499331163, 'x': 46.03326066398739}                              \n",
      "2.159697993033663                                                                                                      \n",
      "{'learning_rate': 1.0507790603774831, 'sigma': 9.059909321309368, 'x': 44.83543897077592}                              \n",
      "2.1674977903710273                                                                                                     \n",
      "{'learning_rate': 0.609482104582306, 'sigma': 9.623916354158675, 'x': 46.83313470867145}                               \n",
      "2.136181537602433                                                                                                      \n",
      "{'learning_rate': 1.1652009519499362, 'sigma': 8.8376773455349, 'x': 45.525790843962184}                               \n",
      "2.152996717894538                                                                                                      \n",
      "{'learning_rate': 0.30479571591588916, 'sigma': 8.968758839789624, 'x': 43.52429787402207}                             \n",
      "2.1274202000368083                                                                                                     \n",
      "{'learning_rate': 1.4381104981951192, 'sigma': 9.389648444088529, 'x': 41.29188279513025}                              \n",
      "2.1637869067005138                                                                                                     \n",
      "{'learning_rate': 0.8408825221622414, 'sigma': 9.900128176524657, 'x': 48.05525588684205}                              \n",
      "2.106887605073547                                                                                                      \n",
      "{'learning_rate': 1.6980643204069117, 'sigma': 9.198251539104621, 'x': 48.80427945329591}                              \n",
      "2.130475714566329                                                                                                      \n",
      "{'learning_rate': 3.00452747298972, 'sigma': 9.470194671227999, 'x': 47.18412888863928}                                \n",
      "2.204344860900304                                                                                                      \n",
      "{'learning_rate': 0.15415910006827782, 'sigma': 8.651722957940272, 'x': 44.2844619466501}                              \n",
      "2.1373063289486325                                                                                                     \n",
      "{'learning_rate': 0.5619738729790923, 'sigma': 9.757570121149659, 'x': 45.63095069880032}                              \n",
      "2.1602182622001043                                                                                                     \n",
      "{'learning_rate': 1.8909315339792712, 'sigma': 9.292444137832016, 'x': 46.354045172453034}                             \n",
      "2.1320339710325364                                                                                                     \n",
      "{'learning_rate': 0.9473143628884476, 'sigma': 8.773140279509567, 'x': 42.21525009446473}                              \n",
      "2.100026976908129                                                                                                      \n",
      "{'learning_rate': 0.6890264870713381, 'sigma': 8.51630507343659, 'x': 44.79917974310404}                               \n",
      "2.120618324018939                                                                                                      \n",
      "{'learning_rate': 0.40527689064539785, 'sigma': 9.092923201584664, 'x': 47.63576348110945}                             \n",
      "2.134358997030042                                                                                                      \n",
      "{'learning_rate': 1.3101783434694927, 'sigma': 9.538722422130801, 'x': 40.41197501180582}                              \n",
      "2.1686009704725877                                                                                                     \n",
      "{'learning_rate': 1.493178840458396, 'sigma': 8.969744607500484, 'x': 43.2434447118155}                                \n",
      "2.179024412768777                                                                                                      \n",
      "{'learning_rate': 0.8382732724098725, 'sigma': 9.353848667173333, 'x': 43.87058603340088}                              \n",
      "2.2132111778928745                                                                                                     \n",
      "{'learning_rate': 1.0393814889986377, 'sigma': 9.656436870160356, 'x': 48.157523653996456}                             \n",
      "2.146647003714972                                                                                                      \n",
      "{'learning_rate': 1.6143895004603677, 'sigma': 9.177070240392634, 'x': 46.90943420284654}                              \n",
      "2.130954402805655                                                                                                      \n",
      "{'learning_rate': 2.0163712613913587, 'sigma': 9.985917191454215, 'x': 49.40843387594831}                              \n",
      "2.1581345064477784                                                                                                     \n",
      "{'learning_rate': 1.1932599568897289, 'sigma': 8.919938380234175, 'x': 45.220268060821766}                             \n",
      "2.1784116969974923                                                                                                     \n",
      "{'learning_rate': 0.47199507241332506, 'sigma': 9.769205664680952, 'x': 41.94132387468421}                             \n",
      "2.162675997233373                                                                                                      \n",
      "{'learning_rate': 0.22928322363087672, 'sigma': 9.442839129826714, 'x': 39.72807941231939}                             \n",
      "2.1232330847746312                                                                                                     \n",
      "{'learning_rate': 0.7117039629486261, 'sigma': 9.241329220028941, 'x': 45.95465224411768}                              \n",
      "2.1263713314100774                                                                                                     \n",
      "{'learning_rate': 1.396861856233972, 'sigma': 8.808105308480723, 'x': 42.930594245938835}                              \n",
      "2.1614785054106407                                                                                                     \n",
      "{'learning_rate': 0.8976099906824315, 'sigma': 8.413514786126097, 'x': 48.77838784684921}                              \n",
      "2.1593603676884787                                                                                                     \n",
      "{'learning_rate': 0.3222167908678266, 'sigma': 9.046248800660239, 'x': 44.35717496734194}                              \n",
      "2.1643722844835853                                                                                                     \n",
      "{'learning_rate': 0.5572452835759055, 'sigma': 8.620614821342427, 'x': 47.44014598040553}                              \n",
      "2.1365189800334177                                                                                                     \n",
      "{'learning_rate': 0.05383402681141869, 'sigma': 9.893557701376015, 'x': 46.34646611245323}                             \n",
      "2.193233825471811                                                                                                      \n",
      "{'learning_rate': 1.2650068142634652, 'sigma': 9.352066132500312, 'x': 49.52587276097845}                              \n",
      "2.1228649163853053                                                                                                     \n",
      "{'learning_rate': 1.1064597733500583, 'sigma': 9.526544756798584, 'x': 49.98721010169927}                              \n",
      "2.155353530581104                                                                                                      \n",
      "{'learning_rate': 1.0107965444389564, 'sigma': 9.178650838721383, 'x': 48.487776338663295}                             \n",
      "2.1635545026245975                                                                                                     \n",
      "{'learning_rate': 1.1713008379966932, 'sigma': 9.301785164346642, 'x': 48.99351370345551}                              \n",
      "2.153737527573716                                                                                                      \n",
      "{'learning_rate': 1.2906576832407346, 'sigma': 9.604331252249223, 'x': 47.82772404870226}                              \n",
      "2.1780357025531694                                                                                                     \n",
      "{'learning_rate': 1.519702122674375, 'sigma': 9.087455611303586, 'x': 48.116039366541514}                              \n",
      "2.1399140289442466                                                                                                     \n",
      "{'learning_rate': 1.3999705445214894, 'sigma': 9.446321771627163, 'x': 46.851538321616474}                             \n",
      "2.1857987879874856                                                                                                     \n",
      "{'learning_rate': 0.9558543430376963, 'sigma': 9.020353462126945, 'x': 48.810660839109204}                             \n",
      "2.1682423672177027                                                                                                     \n",
      "{'learning_rate': 1.1133215621683707, 'sigma': 9.235520995544134, 'x': 49.46620704569935}                              \n",
      "2.173623767947077                                                                                                      \n",
      "{'learning_rate': 0.8394309811483225, 'sigma': 9.3902789385573, 'x': 47.41071653327703}                                \n",
      "2.1396297953583643                                                                                                     \n",
      "{'learning_rate': 1.7213540514493202, 'sigma': 8.880818345096687, 'x': 45.79834584355663}                              \n",
      "2.1736348933342957                                                                                                     \n",
      "{'learning_rate': 1.2426331278225742, 'sigma': 9.680541333176002, 'x': 49.908106885868335}                             \n",
      "2.1669577714941126                                                                                                     \n",
      "{'learning_rate': 1.6024352225808673, 'sigma': 9.552394559794102, 'x': 46.6626403776113}                               \n",
      "2.0978178356813104                                                                                                     \n",
      "{'learning_rate': 1.0228707998529838, 'sigma': 9.10772940191288, 'x': 47.882323608688104}                              \n",
      "2.1851258714033137                                                                                                     \n",
      "{'learning_rate': 1.3523196587225665, 'sigma': 9.23611185053706, 'x': 45.24595366466757}                               \n",
      "2.1696432548551066                                                                                                     \n",
      "{'learning_rate': 0.7548903205983637, 'sigma': 8.967578391829184, 'x': 46.016443946820125}                             \n",
      "2.110557558237028                                                                                                      \n",
      "{'learning_rate': 0.9066869587771396, 'sigma': 8.706532700740105, 'x': 48.53953547591536}                              \n",
      "2.1160424759379577                                                                                                     \n",
      "{'learning_rate': 1.467873946325876, 'sigma': 9.43479778210128, 'x': 47.15701690316798}                                \n",
      "2.164588123384704                                                                                                      \n",
      "{'learning_rate': 1.1575178276073248, 'sigma': 9.792870078849258, 'x': 49.15696836875698}                              \n",
      "2.147139985132978                                                                                                      \n",
      "{'learning_rate': 0.674312841818796, 'sigma': 9.116706422659506, 'x': 47.945413991273746}                              \n",
      "2.103357837137924                                                                                                      \n",
      "{'learning_rate': 1.0903996086279424, 'sigma': 9.34685980389215, 'x': 46.73831862075241}                               \n",
      "2.1440453808363538                                                                                                     \n",
      "{'learning_rate': 0.7895377122893488, 'sigma': 9.499574623591977, 'x': 44.94755894059042}                              \n",
      "2.144509238901336                                                                                                      \n",
      "{'learning_rate': 1.235712391578659, 'sigma': 5.7138863980170616, 'x': 45.620219861717636}                             \n",
      "2.1877686736403605                                                                                                     \n",
      "{'learning_rate': 0.9946499571258904, 'sigma': 7.465658261224079, 'x': 49.980099381931005}                             \n",
      "2.1854091140440595                                                                                                     \n",
      "{'learning_rate': 0.9137367869118576, 'sigma': 9.638828933795173, 'x': 48.42441255259581}                              \n",
      "2.172330944084726                                                                                                      \n",
      "{'learning_rate': 1.342672294345406, 'sigma': 8.860295504362425, 'x': 46.37585026617838}                               \n",
      "2.1680654183710417                                                                                                     \n",
      "{'learning_rate': 1.848761261540166, 'sigma': 6.140882595325152, 'x': 47.463463686510636}                              \n",
      "2.1508292012535017                                                                                                     \n",
      "{'learning_rate': 1.5529694978533288, 'sigma': 9.166360981002152, 'x': 48.996663113001325}                             \n",
      "2.1643867185965395                                                                                                     \n",
      "{'learning_rate': 0.6549716876605497, 'sigma': 9.280413734533104, 'x': 44.484533943628186}                             \n",
      "2.16223376104879                                                                                                       \n",
      "{'learning_rate': 1.7398999666797552, 'sigma': 6.390642144075697, 'x': 49.99774056562677}                              \n",
      "2.1301084867428424                                                                                                     \n",
      "{'learning_rate': 1.4381568847660375, 'sigma': 5.383528380000217, 'x': 47.09662693437772}                              \n",
      "2.1748058854468653                                                                                                     \n"
     ]
    },
    {
     "name": "stdout",
     "output_type": "stream",
     "text": [
      "{'learning_rate': 0.5393874886765787, 'sigma': 8.964773396951491, 'x': 23.530384962274802}                             \n",
      "2.2262799866554386                                                                                                     \n",
      "{'learning_rate': 1.0747079773394979, 'sigma': 8.719391739484031, 'x': 43.90647201002965}                              \n",
      "2.1581241891954934                                                                                                     \n",
      "{'learning_rate': 1.2460899815594824, 'sigma': 9.57680161083174, 'x': 45.24304732618262}                               \n",
      "2.1051624236182294                                                                                                     \n",
      "{'learning_rate': 0.8288558596554034, 'sigma': 9.71383791177278, 'x': 46.327233091486406}                              \n",
      "2.0966591477677308                                                                                                     \n",
      "{'learning_rate': 0.4036112400555198, 'sigma': 9.39298957727065, 'x': 47.916696290828654}                              \n",
      "2.186503590026265                                                                                                      \n",
      "{'learning_rate': 0.9875277943273838, 'sigma': 9.043382530291026, 'x': 45.65365318365545}                              \n",
      "2.1254436296547614                                                                                                     \n",
      "{'learning_rate': 1.6003043686977383, 'sigma': 6.923236962033107, 'x': 49.334151172023375}                             \n",
      "2.140851305644953                                                                                                      \n",
      "{'learning_rate': 0.7256347943464613, 'sigma': 8.549717703973045, 'x': 48.684086871066654}                             \n",
      "2.16533278467519                                                                                                       \n",
      "{'learning_rate': 1.1320238720958753, 'sigma': 9.291023692319499, 'x': 44.689391045554515}                             \n",
      "2.1326972918071476                                                                                                     \n",
      "{'learning_rate': 0.6221716201488797, 'sigma': 8.805079934166967, 'x': 49.987726776259336}                             \n",
      "2.1675539847859597                                                                                                     \n",
      "{'learning_rate': 0.891070310662792, 'sigma': 5.000979884615931, 'x': 46.92340862031853}                               \n",
      "2.172716448169746                                                                                                      \n",
      "{'learning_rate': 1.3745352055642088, 'sigma': 9.51134258466338, 'x': 47.57698011793325}                               \n",
      "2.14170769175018                                                                                                       \n",
      "{'learning_rate': 0.49489745980923056, 'sigma': 9.81503516551217, 'x': 46.07368230247785}                              \n",
      "2.1446429783385472                                                                                                     \n",
      "{'learning_rate': 1.4810540486022505, 'sigma': 9.916478804672261, 'x': 43.655900864365805}                             \n",
      "2.156446440260585                                                                                                      \n",
      "{'learning_rate': 1.655680272685967, 'sigma': 9.176323660667355, 'x': 49.3780143956196}                                \n",
      "2.178693667282519                                                                                                      \n",
      "{'learning_rate': 0.7814484554894778, 'sigma': 8.949172471808803, 'x': 48.39647142030664}                              \n",
      "2.153714448587325                                                                                                      \n",
      "{'learning_rate': 1.1984650085716246, 'sigma': 9.386660465639126, 'x': 46.5526761847303}                               \n",
      "2.132634359038519                                                                                                      \n",
      "{'learning_rate': 1.2882623567644302, 'sigma': 9.100637750419112, 'x': 45.12244690237609}                              \n",
      "2.1545352950525323                                                                                                     \n",
      "{'learning_rate': 1.038892066951581, 'sigma': 9.706708529320757, 'x': 44.14859717560326}                               \n",
      "2.1502704979889167                                                                                                     \n",
      "{'learning_rate': 0.5805560214739075, 'sigma': 9.50088049969561, 'x': 48.03355060066297}                               \n",
      "2.1536196582956                                                                                                        \n",
      "{'learning_rate': 1.7902156516144545, 'sigma': 8.305942009923289, 'x': 47.06519325598613}                              \n",
      "2.1398193365919678                                                                                                     \n",
      "{'learning_rate': 1.9302440798560216, 'sigma': 8.883245407697226, 'x': 49.98113467123605}                              \n",
      "2.1887613401221557                                                                                                     \n",
      "{'learning_rate': 0.8805245086383566, 'sigma': 9.23895389033211, 'x': 45.84435150015522}                               \n",
      "2.144209892465334                                                                                                      \n",
      "{'learning_rate': 0.7327825194612972, 'sigma': 5.535060951581533, 'x': 47.3738731324141}                               \n",
      "2.157522400261502                                                                                                      \n",
      "{'learning_rate': 0.3978713330165554, 'sigma': 9.599942723396557, 'x': 49.04040541090829}                              \n",
      "2.16484458153388                                                                                                       \n",
      "{'learning_rate': 2.170719808437571, 'sigma': 8.731604614206828, 'x': 43.007011098321044}                              \n",
      "2.13542050547436                                                                                                       \n",
      "{'learning_rate': 0.9844443633886648, 'sigma': 9.296377728629702, 'x': 44.499410289791335}                             \n",
      "2.142169136730145                                                                                                      \n",
      "{'learning_rate': 1.1290760457004028, 'sigma': 8.459090162724307, 'x': 45.340809017651615}                             \n",
      "2.155368446540977                                                                                                      \n",
      "{'learning_rate': 1.343374767821152, 'sigma': 9.040621916662063, 'x': 48.39449659427171}                               \n",
      "2.1036245487819483                                                                                                     \n",
      "{'learning_rate': 0.24391171172074488, 'sigma': 8.140505059351156, 'x': 46.695275246752935}                            \n",
      "2.1394155257853438                                                                                                     \n",
      "{'learning_rate': 1.4634419933851601, 'sigma': 7.806078596886674, 'x': 47.83426797403316}                              \n",
      "2.1857061393224524                                                                                                     \n",
      "{'learning_rate': 0.6170141076925363, 'sigma': 5.847569693036916, 'x': 43.79333026708003}                              \n",
      "2.1786471856051097                                                                                                     \n",
      "{'learning_rate': 0.4660076076984119, 'sigma': 9.991660082400442, 'x': 45.97279447827366}                              \n",
      "2.1372786585339316                                                                                                     \n",
      "{'learning_rate': 1.1684580556450102, 'sigma': 9.400413238712975, 'x': 49.98383711519613}                              \n",
      "2.1625528490671977                                                                                                     \n",
      "{'learning_rate': 1.563738548986188, 'sigma': 9.166096145241676, 'x': 44.740401600535584}                              \n",
      "2.1426170626799195                                                                                                     \n",
      "{'learning_rate': 0.7871177209707224, 'sigma': 9.7403210658501, 'x': 26.159995902588708}                               \n",
      "2.19843685732941                                                                                                       \n",
      "{'learning_rate': 0.8853932079489834, 'sigma': 8.822650508173535, 'x': 42.42520209192677}                              \n",
      "2.1823437029284407                                                                                                     \n",
      "{'learning_rate': 1.6998691672221524, 'sigma': 9.622392629860503, 'x': 48.731742421659014}                             \n",
      "2.1743785636220894                                                                                                     \n",
      "{'learning_rate': 0.15349356989371277, 'sigma': 8.640974741089286, 'x': 43.32711164721738}                             \n",
      "2.172924649714818                                                                                                      \n",
      "{'learning_rate': 0.3218767205541213, 'sigma': 9.829274171207173, 'x': 47.23542419318572}                              \n",
      "2.144335342407668                                                                                                      \n",
      "{'learning_rate': 1.2774475650075545, 'sigma': 7.159466510761805, 'x': 49.27267951843662}                              \n",
      "2.1627834751477293                                                                                                     \n",
      "{'learning_rate': 3.2690390351674408, 'sigma': 7.594123071816118, 'x': 46.460029833468084}                             \n",
      "2.164854374746258                                                                                                      \n",
      "{'learning_rate': 1.0616956582608514, 'sigma': 9.020271880384884, 'x': 45.48964782940412}                              \n",
      "2.1960495661524853                                                                                                     \n",
      "{'learning_rate': 2.0364191201520687, 'sigma': 9.264200733950167, 'x': 48.31600872371837}                              \n",
      "2.146983162533414                                                                                                      \n",
      "{'learning_rate': 0.7032017184311137, 'sigma': 6.714566657167565, 'x': 49.97858220456033}                              \n",
      "2.1604530893945206                                                                                                     \n",
      "{'learning_rate': 0.9479578071714665, 'sigma': 8.902308964383298, 'x': 44.219497628032165}                             \n",
      "2.1580898212657167                                                                                                     \n",
      "{'learning_rate': 0.5092586773899729, 'sigma': 9.495152372407352, 'x': 47.80271980113291}                              \n",
      "2.159251358640912                                                                                                      \n",
      "{'learning_rate': 1.4376697499754478, 'sigma': 8.58509745019463, 'x': 44.864436621803144}                              \n",
      "2.155142329996551                                                                                                      \n",
      "{'learning_rate': 1.8590819639855998, 'sigma': 9.131721326204028, 'x': 46.31428264029524}                              \n",
      "2.196515809353837                                                                                                      \n",
      "{'learning_rate': 0.05339471828493436, 'sigma': 5.237402059092655, 'x': 47.29413615488804}                             \n",
      "2.14105958783036                                                                                                       \n",
      "{'learning_rate': 1.1976136325697786, 'sigma': 9.3513202644396, 'x': 41.25191413838256}                                \n",
      "2.123714758813822                                                                                                      \n",
      "{'learning_rate': 0.6510942487871003, 'sigma': 9.663212677043905, 'x': 49.44037750280028}                              \n",
      "2.1454883994493232                                                                                                     \n",
      "{'learning_rate': 0.8466138232200402, 'sigma': 6.485016805150116, 'x': 45.56309997358698}                              \n",
      "2.1371317229238693                                                                                                     \n",
      "{'learning_rate': 1.642317657290895, 'sigma': 9.886178963846783, 'x': 42.88428008233786}                               \n",
      "2.132177959423119                                                                                                      \n",
      "{'learning_rate': 1.086966100519223, 'sigma': 9.466310290983868, 'x': 41.88169916794344}                               \n",
      "2.1845605111332103                                                                                                     \n",
      "{'learning_rate': 0.3849275419526902, 'sigma': 8.74552018718536, 'x': 30.778504307869866}                              \n",
      "2.1787637579958217                                                                                                     \n",
      "{'learning_rate': 0.9864696012178951, 'sigma': 8.994400052885096, 'x': 48.8446711640078}                               \n",
      "2.1227663409746658                                                                                                     \n",
      "{'learning_rate': 1.3287899159680112, 'sigma': 9.197141689794606, 'x': 43.628411621619165}                             \n",
      "2.162333825541854                                                                                                      \n",
      "{'learning_rate': 0.576294951112976, 'sigma': 8.22288705263354, 'x': 46.5400731386938}                                 \n",
      "2.1296424269502707                                                                                                     \n",
      "{'learning_rate': 0.7703019265153808, 'sigma': 8.369941795447902, 'x': 47.71122285493244}                              \n",
      "2.1284732393103636                                                                                                     \n",
      "{'learning_rate': 0.1837679530994083, 'sigma': 8.49259319526343, 'x': 45.20600911742061}                               \n",
      "2.1574968262992447                                                                                                     \n",
      "{'learning_rate': 1.5434865273262737, 'sigma': 5.9440633706385215, 'x': 45.87012130990024}                             \n",
      "2.186414967978044                                                                                                      \n",
      "{'learning_rate': 1.2314611992716822, 'sigma': 9.59951360418482, 'x': 46.985385143487875}                              \n",
      "2.1590637946966096                                                                                                     \n",
      "{'learning_rate': 1.3883095409585542, 'sigma': 8.88495128142728, 'x': 44.49607062217501}                               \n",
      "2.1606898403323487                                                                                                     \n",
      "{'learning_rate': 0.9382231981128968, 'sigma': 9.321623856434986, 'x': 48.503575588793744}                             \n",
      "2.1348995470714036                                                                                                     \n",
      "{'learning_rate': 2.29873917773555, 'sigma': 9.77045237551111, 'x': 48.16707550241576}                                 \n",
      "2.114398958817042                                                                                                      \n",
      "{'learning_rate': 0.3022686708597053, 'sigma': 9.09569939273552, 'x': 49.97487099541467}                               \n",
      "2.123955689669288                                                                                                      \n",
      "{'learning_rate': 1.7953113595506527, 'sigma': 7.300798959894936, 'x': 49.28219431973236}                              \n",
      "2.1618306170881723                                                                                                     \n"
     ]
    },
    {
     "name": "stdout",
     "output_type": "stream",
     "text": [
      "{'learning_rate': 1.1015663427308815, 'sigma': 9.564724635711315, 'x': 42.769948217887894}                             \n",
      "2.154239759558821                                                                                                      \n",
      "{'learning_rate': 0.44230540431392995, 'sigma': 9.43505288595516, 'x': 46.12916849514333}                              \n",
      "2.1275990098854454                                                                                                     \n",
      "{'learning_rate': 0.7117569514284944, 'sigma': 7.928290096783267, 'x': 43.85242763907265}                              \n",
      "2.1446119240544927                                                                                                     \n",
      "{'learning_rate': 2.4612864011339783, 'sigma': 8.668646597311879, 'x': 46.96788461032881}                              \n",
      "2.129036724580848                                                                                                      \n",
      "{'learning_rate': 1.9624067084320083, 'sigma': 6.831389325623178, 'x': 44.943265165197566}                             \n",
      "2.1183072816986153                                                                                                     \n",
      "{'learning_rate': 1.1829734271243761, 'sigma': 9.982380244511809, 'x': 47.95183234685473}                              \n",
      "2.166973629675754                                                                                                      \n",
      "{'learning_rate': 1.0348772025689004, 'sigma': 8.790928660883395, 'x': 45.605307039764654}                             \n",
      "2.1238167125439493                                                                                                     \n",
      "{'learning_rate': 1.5278902981880949, 'sigma': 9.18476961902591, 'x': 47.450909157331374}                              \n",
      "2.141301863464517                                                                                                      \n",
      "{'learning_rate': 0.8452515296515116, 'sigma': 9.041490694893703, 'x': 43.35313817978048}                              \n",
      "2.158834718272168                                                                                                      \n",
      "{'learning_rate': 0.5580922219921067, 'sigma': 8.951815199393488, 'x': 42.25007195444659}                              \n",
      "2.1673756614532396                                                                                                     \n",
      "{'learning_rate': 1.345043881679299, 'sigma': 9.69278283828079, 'x': 40.78058528555386}                                \n",
      "2.1717777347518514                                                                                                     \n",
      "{'learning_rate': 1.7089279513394746, 'sigma': 9.272084266990506, 'x': 48.92720714898103}                              \n",
      "2.0999436532214983                                                                                                     \n",
      "{'learning_rate': 0.6263649872830993, 'sigma': 9.830314357342715, 'x': 46.52806719941011}                              \n",
      "2.1062546075880366                                                                                                     \n",
      "{'learning_rate': 0.9403530380157469, 'sigma': 9.413570124657072, 'x': 46.017462635274434}                             \n",
      "2.167970591005886                                                                                                      \n",
      "{'learning_rate': 1.2660915488530649, 'sigma': 9.543388005320779, 'x': 44.289313742558704}                             \n",
      "2.146708783819445                                                                                                      \n",
      "{'learning_rate': 1.4671872701995983, 'sigma': 8.600876385278843, 'x': 49.60892061140036}                              \n",
      "2.1360896932461726                                                                                                     \n",
      "{'learning_rate': 0.7123288510315988, 'sigma': 9.356961737390359, 'x': 48.38699032217794}                              \n",
      "2.136907298783787                                                                                                      \n",
      "{'learning_rate': 0.2357261580930543, 'sigma': 8.093943678106017, 'x': 47.390149595215156}                             \n",
      "2.1498348322711673                                                                                                     \n",
      "{'learning_rate': 4.976545995546905, 'sigma': 8.850394445330384, 'x': 45.02966712903893}                               \n",
      "2.199583540949637                                                                                                      \n",
      "{'learning_rate': 0.46852938545831263, 'sigma': 9.120798127338603, 'x': 46.6883297499723}                              \n",
      "2.166965740463783                                                                                                      \n",
      "{'learning_rate': 0.8292666543422695, 'sigma': 9.912451488849916, 'x': 49.013403714411645}                             \n",
      "2.120309511724125                                                                                                      \n",
      "{'learning_rate': 1.0483161204862608, 'sigma': 9.491590176181765, 'x': 41.79925383957994}                              \n",
      "2.1531672846082506                                                                                                     \n",
      "{'learning_rate': 2.7291593210770664, 'sigma': 9.997240697526058, 'x': 45.41035715228431}                              \n",
      "2.148764911791323                                                                                                      \n",
      "{'learning_rate': 1.6384867767588815, 'sigma': 9.266971294963781, 'x': 44.14990049086252}                              \n",
      "2.1679771202902676                                                                                                     \n",
      "{'learning_rate': 0.05620153763101285, 'sigma': 9.684428505253551, 'x': 43.26309067726783}                             \n",
      "2.1519344042864184                                                                                                     \n",
      "{'learning_rate': 1.4129465424636118, 'sigma': 6.607562312627591, 'x': 47.938732513936955}                             \n",
      "2.161055532404778                                                                                                      \n",
      "{'learning_rate': 0.3754875727973772, 'sigma': 8.478586461333576, 'x': 49.99641872355773}                              \n",
      "2.1434267105535967                                                                                                     \n",
      "{'learning_rate': 1.1221572579309802, 'sigma': 8.985855372803682, 'x': 47.08861298315656}                              \n",
      "2.13341618181469                                                                                                       \n",
      "{'learning_rate': 0.901061392900481, 'sigma': 8.732035109696373, 'x': 46.09862834378664}                               \n",
      "2.1386820007103315                                                                                                     \n",
      "{'learning_rate': 2.1840417923471684, 'sigma': 9.177590584856882, 'x': 20.661967256022447}                             \n",
      "2.223234396274113                                                                                                      \n",
      "{'learning_rate': 0.7833641126184216, 'sigma': 9.766245897803595, 'x': 49.55395512787508}                              \n",
      "2.1636220379236524                                                                                                     \n",
      "{'learning_rate': 1.1757530195118255, 'sigma': 8.91915900677421, 'x': 44.92372242524044}                               \n",
      "2.1317414116441675                                                                                                     \n",
      "{'learning_rate': 1.2856890743024132, 'sigma': 9.39044413053177, 'x': 48.48592761840946}                               \n",
      "2.161669707575276                                                                                                      \n",
      "{'learning_rate': 0.6545594228673415, 'sigma': 8.343146420120924, 'x': 39.36926544875137}                              \n",
      "2.1574202403109193                                                                                                     \n",
      "{'learning_rate': 0.49057210488004716, 'sigma': 9.04243742049917, 'x': 42.364811872351474}                             \n",
      "2.1001032245427202                                                                                                     \n",
      "{'learning_rate': 0.13517438606957055, 'sigma': 5.597016346496935, 'x': 47.631053295532276}                            \n",
      "2.139633068430088                                                                                                      \n",
      "{'learning_rate': 0.9843059681096062, 'sigma': 9.58036009802848, 'x': 44.21600455029091}                               \n",
      "2.144850625810017                                                                                                      \n",
      "{'learning_rate': 1.791186940758416, 'sigma': 9.469334294692182, 'x': 46.71739380171677}                               \n",
      "2.15249282914631                                                                                                       \n",
      "{'learning_rate': 1.5261464320458364, 'sigma': 9.239267785225916, 'x': 41.5634191087057}                               \n",
      "2.1542660288183777                                                                                                     \n",
      "{'learning_rate': 0.8547307574784465, 'sigma': 9.841135960234023, 'x': 43.595874797985935}                             \n",
      "2.184375100804483                                                                                                      \n",
      "{'learning_rate': 0.6068279796021776, 'sigma': 9.091018266336308, 'x': 48.95848276561719}                              \n",
      "2.0980482522862482                                                                                                     \n",
      "{'learning_rate': 0.31006907890283236, 'sigma': 7.757945882901005, 'x': 22.40373098692397}                             \n",
      "2.1905768342668415                                                                                                     \n",
      "{'learning_rate': 1.3937968650069283, 'sigma': 7.376937377147175, 'x': 45.70182710338047}                              \n",
      "2.1435485238487333                                                                                                     \n",
      "{'learning_rate': 1.2018614388414617, 'sigma': 6.264069361994453, 'x': 47.99404835326098}                              \n",
      "2.1368039195833317                                                                                                     \n",
      "{'learning_rate': 3.1074653601489306, 'sigma': 9.329080311529813, 'x': 42.80501845650381}                              \n",
      "2.167765620176148                                                                                                      \n",
      "{'learning_rate': 1.0275900987893065, 'sigma': 8.817968582504765, 'x': 46.32168812257604}                              \n",
      "2.1370576099551823                                                                                                     \n",
      "{'learning_rate': 0.5197725139692445, 'sigma': 5.4386938971415715, 'x': 44.74714769060692}                             \n",
      "2.1542526048644093                                                                                                     \n",
      "{'learning_rate': 1.9026563156447494, 'sigma': 8.575397396174054, 'x': 47.301143088765244}                             \n",
      "2.140780142448248                                                                                                      \n",
      "{'learning_rate': 1.620841358663549, 'sigma': 9.71166438799005, 'x': 40.117115282271996}                               \n",
      "2.1789064626219408                                                                                                     \n",
      "{'learning_rate': 0.7753738341211242, 'sigma': 8.708607179780179, 'x': 49.42480632098128}                              \n",
      "2.1374165441817126                                                                                                     \n",
      "{'learning_rate': 1.2897884477952886, 'sigma': 9.614000219113043, 'x': 45.38478447043873}                              \n",
      "2.1575297246231866                                                                                                     \n",
      "{'learning_rate': 0.2184707494655531, 'sigma': 9.153901684044376, 'x': 40.97659445966843}                              \n",
      "2.1815694581916354                                                                                                     \n",
      "{'learning_rate': 1.1038285567647028, 'sigma': 8.92708082237927, 'x': 48.333966106074506}                              \n",
      "2.1581471754267296                                                                                                     \n",
      "{'learning_rate': 2.07870175639144, 'sigma': 8.228772159757968, 'x': 43.98054756757484}                                \n",
      "2.17172195580891                                                                                                       \n",
      "{'learning_rate': 0.9034001756323389, 'sigma': 7.042193516093456, 'x': 47.07296423596563}                              \n",
      "2.1528684123787594                                                                                                     \n",
      "{'learning_rate': 4.588110826885169, 'sigma': 9.464213393855914, 'x': 46.48433786755501}                               \n",
      "2.1419797812137733                                                                                                     \n",
      "{'learning_rate': 0.37097286874715607, 'sigma': 9.268427161889381, 'x': 45.794619493056544}                            \n",
      "2.1440604494693267                                                                                                     \n",
      "{'learning_rate': 0.7035796619201372, 'sigma': 9.918848122461624, 'x': 48.86363071596874}                              \n",
      "2.1595349830134545                                                                                                     \n",
      "{'learning_rate': 1.4606514148924212, 'sigma': 9.002830077014611, 'x': 44.68635992308948}                              \n",
      "2.1533865850023406                                                                                                     \n",
      "{'learning_rate': 0.9865771620826712, 'sigma': 7.9970955073528485, 'x': 47.663063534934075}                            \n",
      "2.120833318498667                                                                                                      \n",
      "{'learning_rate': 1.7320896713310994, 'sigma': 9.348352665736916, 'x': 43.45757068983959}                              \n",
      "2.1608372705679764                                                                                                     \n",
      "{'learning_rate': 1.300354310603331, 'sigma': 8.448052795968358, 'x': 49.96062748537443}                               \n",
      "2.1096338795537037                                                                                                     \n",
      "{'learning_rate': 0.5999479162225617, 'sigma': 9.64949067823199, 'x': 42.59071030655216}                               \n",
      "2.156945811212081                                                                                                      \n",
      "{'learning_rate': 0.7959068828787697, 'sigma': 8.82588866932262, 'x': 45.38018828210759}                               \n",
      "2.1612014103683705                                                                                                     \n",
      "{'learning_rate': 1.168406027168183, 'sigma': 9.530334273202813, 'x': 48.32741206019778}                               \n",
      "2.149049644099394                                                                                                      \n",
      "{'learning_rate': 1.0908655068597235, 'sigma': 9.783522617715743, 'x': 46.81455159652715}                              \n",
      "2.146863389661568                                                                                                      \n",
      "{'learning_rate': 0.4637052592736606, 'sigma': 8.633672753947183, 'x': 49.61797140163021}                              \n",
      "2.1206138284349385                                                                                                     \n",
      "{'learning_rate': 0.13055845729155144, 'sigma': 9.10527503980674, 'x': 46.155815799497525}                             \n",
      "2.149207454606802                                                                                                      \n"
     ]
    },
    {
     "name": "stdout",
     "output_type": "stream",
     "text": [
      "{'learning_rate': 0.05182624509153255, 'sigma': 9.396329999535453, 'x': 44.428869089784826}                            \n",
      "2.171891894196189                                                                                                      \n",
      "{'learning_rate': 1.576588099148825, 'sigma': 9.262815926222135, 'x': 49.95572417464239}                               \n",
      "2.15539499513053                                                                                                       \n",
      "{'learning_rate': 3.940087642485392, 'sigma': 6.088160896513939, 'x': 38.77705865052562}                               \n",
      "2.2112487752308683                                                                                                     \n",
      "{'learning_rate': 0.2778860824958087, 'sigma': 8.894619636947075, 'x': 47.642376358721165}                             \n",
      "2.1572852301160297                                                                                                     \n",
      "{'learning_rate': 2.896080681466484, 'sigma': 9.193543899718874, 'x': 41.484416879276615}                              \n",
      "2.1596838822856115                                                                                                     \n",
      "{'learning_rate': 1.3734156437354208, 'sigma': 7.5259943006383425, 'x': 43.11599118376165}                             \n",
      "2.144403416114792                                                                                                      \n",
      "{'learning_rate': 0.9350132340784314, 'sigma': 9.540495713767994, 'x': 48.935717582266925}                             \n",
      "2.1542475462418254                                                                                                     \n",
      "{'learning_rate': 0.6312546649082686, 'sigma': 7.677863805762035, 'x': 44.905914651184716}                             \n",
      "2.133996206089573                                                                                                      \n",
      "{'learning_rate': 0.7512244321841888, 'sigma': 9.03953503391643, 'x': 45.79831754032366}                               \n",
      "2.119339889644033                                                                                                      \n",
      "{'learning_rate': 1.9842264160249043, 'sigma': 8.730986728650162, 'x': 47.01219582802628}                              \n",
      "2.1712690197219597                                                                                                     \n",
      "{'learning_rate': 1.2065188924619683, 'sigma': 9.99891477431895, 'x': 43.85757942474083}                               \n",
      "2.131467198374109                                                                                                      \n",
      "{'learning_rate': 0.39372794004323175, 'sigma': 5.778813026436645, 'x': 47.64742996769582}                             \n",
      "2.1323179039343647                                                                                                     \n",
      "{'learning_rate': 1.5047699622134112, 'sigma': 9.692882822020922, 'x': 48.3085830786364}                               \n",
      "2.0977167980918483                                                                                                     \n",
      "{'learning_rate': 1.0417136632535404, 'sigma': 9.454407047153676, 'x': 46.46109481511479}                              \n",
      "2.176862050711079                                                                                                      \n",
      "{'learning_rate': 1.879338953003808, 'sigma': 8.53984008859293, 'x': 49.5090443285907}                                 \n",
      "2.152303951813815                                                                                                      \n",
      "{'learning_rate': 0.8779201414103095, 'sigma': 9.343928529649464, 'x': 45.16576068906496}                              \n",
      "2.1687137386608737                                                                                                     \n",
      "{'learning_rate': 1.6731051219154733, 'sigma': 8.78582701332814, 'x': 29.283640733311167}                              \n",
      "2.171164464537928                                                                                                      \n",
      "{'learning_rate': 0.5158318092703079, 'sigma': 9.170242320035882, 'x': 30.2268184338148}                               \n",
      "2.1613346920640684                                                                                                     \n",
      "{'learning_rate': 0.6746328891845215, 'sigma': 8.360621190658375, 'x': 42.381413574873335}                             \n",
      "2.1482450032260703                                                                                                     \n",
      "{'learning_rate': 1.3936780660512547, 'sigma': 8.960928948076928, 'x': 48.825377288282006}                             \n",
      "2.1346892109306466                                                                                                     \n",
      "{'learning_rate': 1.233989561056702, 'sigma': 9.857211453877794, 'x': 40.44177454219548}                               \n",
      "2.1535448432264856                                                                                                     \n",
      "{'learning_rate': 2.5836716566565414, 'sigma': 6.365121984062277, 'x': 49.96062292946818}                              \n",
      "2.1349525881010902                                                                                                     \n",
      "{'learning_rate': 1.0022270735785244, 'sigma': 9.635490848405992, 'x': 44.464801839270876}                             \n",
      "2.1307523604414156                                                                                                     \n",
      "{'learning_rate': 0.8475819217412666, 'sigma': 9.528343975362308, 'x': 49.99975306891323}                              \n",
      "2.1142325827403927                                                                                                     \n",
      "{'learning_rate': 1.1329759824995143, 'sigma': 8.676442647523345, 'x': 45.821878805633105}                             \n",
      "2.1559180250789884                                                                                                     \n",
      "{'learning_rate': 0.5728712084580001, 'sigma': 9.040955615799238, 'x': 47.44287839936004}                              \n",
      "2.112093053338414                                                                                                      \n",
      "{'learning_rate': 0.3121890915772167, 'sigma': 9.299278041719829, 'x': 43.13585002952488}                              \n",
      "2.1790319063552746                                                                                                     \n",
      "{'learning_rate': 1.3119599353055684, 'sigma': 5.315950126641213, 'x': 24.825988865183586}                             \n",
      "2.1762540774593995                                                                                                     \n",
      "{'learning_rate': 1.8030793021518123, 'sigma': 7.861099976380941, 'x': 46.78659556392041}                              \n",
      "2.1653408511444905                                                                                                     \n",
      "{'learning_rate': 0.1933715937358877, 'sigma': 8.10928213203916, 'x': 43.82769611096897}                               \n",
      "2.1456979921239365                                                                                                     \n",
      "{'learning_rate': 2.3715080760424354, 'sigma': 5.068317867019101, 'x': 48.23113341240956}                              \n",
      "2.1925420701514677                                                                                                     \n",
      "{'learning_rate': 1.6171047954034823, 'sigma': 9.7954792518887, 'x': 46.176022750912374}                               \n",
      "2.1449173990923627                                                                                                     \n",
      "{'learning_rate': 0.7530013593784062, 'sigma': 8.902354229869147, 'x': 27.010704422190443}                             \n",
      "2.2122327669095436                                                                                                     \n",
      "{'learning_rate': 1.4719055714193647, 'sigma': 9.99586781831269, 'x': 45.330408277732}                                 \n",
      "2.160530250378405                                                                                                      \n",
      "{'learning_rate': 0.9340481626710398, 'sigma': 9.130789313259221, 'x': 49.14876611327374}                              \n",
      "2.1824290090101597                                                                                                     \n",
      "{'learning_rate': 2.1087113790154115, 'sigma': 9.43598840538885, 'x': 47.270170848543955}                              \n",
      "2.173101890320103                                                                                                      \n",
      "{'learning_rate': 1.0729626001323909, 'sigma': 8.259770214275123, 'x': 47.94951109902427}                              \n",
      "2.1430010403846556                                                                                                     \n",
      "{'learning_rate': 0.39652258028482257, 'sigma': 9.63639997837909, 'x': 44.272477153023104}                             \n",
      "2.1284777314422505                                                                                                     \n",
      "{'learning_rate': 0.7015343514938747, 'sigma': 9.227898485449302, 'x': 41.865448321199516}                             \n",
      "2.112376577077248                                                                                                      \n",
      "{'learning_rate': 1.2243808742844462, 'sigma': 8.8414209956746, 'x': 48.59208087706944}                                \n",
      "2.1391225112850267                                                                                                     \n",
      "{'learning_rate': 0.48121898737132973, 'sigma': 8.552176827769664, 'x': 44.81826214649259}                             \n",
      "2.1020289425048673                                                                                                     \n",
      "{'learning_rate': 0.8495641385685682, 'sigma': 7.222794704682162, 'x': 46.553365019961376}                             \n",
      "2.149075435712802                                                                                                      \n",
      "{'learning_rate': 1.7223957594297525, 'sigma': 6.9377871173329035, 'x': 49.39051890398459}                             \n",
      "2.1609554893451706                                                                                                     \n",
      "{'learning_rate': 1.3339519916633937, 'sigma': 9.888655249149132, 'x': 41.149801297477985}                             \n",
      "2.1222066243420947                                                                                                     \n",
      "{'learning_rate': 1.5625026022938124, 'sigma': 9.37990082876678, 'x': 43.066602307230255}                              \n",
      "2.163939137244035                                                                                                      \n",
      "{'learning_rate': 1.0062722014599323, 'sigma': 9.752433034772412, 'x': 45.53881759099641}                              \n",
      "2.140738728480635                                                                                                      \n",
      "{'learning_rate': 0.5587622920253396, 'sigma': 9.091216947229405, 'x': 46.175041797300445}                             \n",
      "2.153023852863269                                                                                                      \n",
      "{'learning_rate': 1.1459013805833171, 'sigma': 9.553874526416292, 'x': 46.95596141832591}                              \n",
      "2.1695901478255464                                                                                                     \n",
      "{'learning_rate': 0.12824399174573686, 'sigma': 8.984128043806164, 'x': 48.00003214811442}                             \n",
      "2.14350532012442                                                                                                       \n",
      "{'learning_rate': 1.4625218875135615, 'sigma': 8.42192570482862, 'x': 43.7390656700089}                                \n",
      "2.1451815324472587                                                                                                     \n",
      "{'learning_rate': 1.9821109741565084, 'sigma': 9.2041279579817, 'x': 44.86635784606186}                                \n",
      "2.1319040194495695                                                                                                     \n",
      "{'learning_rate': 0.2872833332888899, 'sigma': 8.773162550133184, 'x': 39.5765754288015}                               \n",
      "2.1218532913232155                                                                                                     \n",
      "{'learning_rate': 0.688212226491257, 'sigma': 9.43870895685603, 'x': 42.15764595893441}                                \n",
      "2.107322773478292                                                                                                      \n",
      "{'learning_rate': 0.9315069817339494, 'sigma': 9.298118605490178, 'x': 48.82570264485869}                              \n",
      "2.1209976964955874                                                                                                     \n",
      "{'learning_rate': 0.7614031868844868, 'sigma': 6.509072438451807, 'x': 47.42143574663362}                              \n",
      "2.141378671986482                                                                                                      \n",
      "{'learning_rate': 2.242371350193747, 'sigma': 9.08371116224407, 'x': 45.97246555883566}                                \n",
      "2.1774140458201687                                                                                                     \n",
      "{'learning_rate': 1.2870899292732094, 'sigma': 8.643806619947103, 'x': 48.38876282334991}                              \n",
      "2.154395911937486                                                                                                      \n",
      "{'learning_rate': 1.0629055902041813, 'sigma': 9.597373514184707, 'x': 42.716058783588295}                             \n",
      "2.135132014488631                                                                                                      \n",
      "{'learning_rate': 0.8273804983371302, 'sigma': 9.729129729683097, 'x': 49.48857633430339}                              \n",
      "2.1573503921504407                                                                                                     \n",
      "{'learning_rate': 0.4373174449367847, 'sigma': 8.933625091517603, 'x': 45.36235229420916}                              \n",
      "2.1317176360329357                                                                                                     \n",
      "{'learning_rate': 0.5965552884554898, 'sigma': 9.921177650849808, 'x': 44.28715817719218}                              \n",
      "2.1943816868543817                                                                                                     \n",
      "{'learning_rate': 1.3945983834374553, 'sigma': 6.739393875046506, 'x': 28.497191274395405}                             \n",
      "2.175907556154002                                                                                                      \n",
      "{'learning_rate': 1.1881297578681393, 'sigma': 9.328032350756466, 'x': 47.06927963434753}                              \n",
      "2.1128530097726936                                                                                                     \n",
      "{'learning_rate': 1.8421359326847158, 'sigma': 9.475780927711392, 'x': 47.64338670305671}                              \n",
      "2.164711566641548                                                                                                      \n",
      "{'learning_rate': 1.5146693280342551, 'sigma': 9.21463201236756, 'x': 43.5380805651902}                                \n",
      "2.17612673112994                                                                                                       \n",
      "{'learning_rate': 0.9310657946721568, 'sigma': 9.99622965628716, 'x': 46.16134071753286}                               \n",
      "2.1687231951794437                                                                                                     \n",
      "{'learning_rate': 1.7108140505172251, 'sigma': 8.522137340135473, 'x': 40.67489044019288}                              \n",
      "2.181565261387652                                                                                                      \n",
      "{'learning_rate': 1.0875605285288192, 'sigma': 5.975171354260679, 'x': 44.97874701456674}                              \n",
      "2.149233156348287                                                                                                      \n"
     ]
    },
    {
     "name": "stdout",
     "output_type": "stream",
     "text": [
      "{'learning_rate': 0.05519482466554182, 'sigma': 8.814760009320302, 'x': 46.646971829110846}                            \n",
      "2.152253202232804                                                                                                      \n",
      "{'learning_rate': 0.3355431496190605, 'sigma': 9.05429513447022, 'x': 48.949161713998706}                              \n",
      "2.186801906581028                                                                                                      \n",
      "{'learning_rate': 0.5177646824387523, 'sigma': 6.157613239927115, 'x': 49.88603455296096}                              \n",
      "2.1593237732673067                                                                                                     \n",
      "{'learning_rate': 1.6150956018232785, 'sigma': 8.678713715096526, 'x': 48.17433123360687}                              \n",
      "2.1757599093895443                                                                                                     \n",
      "{'learning_rate': 0.6487166100198946, 'sigma': 9.382217813141956, 'x': 44.20070218974247}                              \n",
      "2.1391845875094573                                                                                                     \n",
      "{'learning_rate': 1.1881844591589987, 'sigma': 8.951336273433066, 'x': 38.81041154515287}                              \n",
      "2.1613279016961013                                                                                                     \n",
      "{'learning_rate': 1.2839222452994845, 'sigma': 8.888637888917248, 'x': 37.30304843916714}                              \n",
      "2.171747779076782                                                                                                      \n",
      "{'learning_rate': 1.3546026835752816, 'sigma': 9.132744577404809, 'x': 38.412780450384574}                             \n",
      "2.212713081468282                                                                                                      \n",
      "{'learning_rate': 1.252086363901775, 'sigma': 8.995098611126037, 'x': 41.104105973554894}                              \n",
      "2.1784822087904887                                                                                                     \n",
      "{'learning_rate': 1.4211558729873814, 'sigma': 9.242352205661296, 'x': 39.168687957542154}                             \n",
      "2.154410005720051                                                                                                      \n",
      "{'learning_rate': 0.9959849671667541, 'sigma': 8.722064889792374, 'x': 39.70764639162603}                              \n",
      "2.152292835685165                                                                                                      \n",
      "{'learning_rate': 1.1382155319705631, 'sigma': 8.83837814900366, 'x': 40.413442065209786}                              \n",
      "2.125739523661414                                                                                                      \n",
      "{'learning_rate': 1.5095012097082765, 'sigma': 9.124153058518537, 'x': 39.95194018657592}                              \n",
      "2.131200087926752                                                                                                      \n",
      "{'learning_rate': 1.0205485611674203, 'sigma': 8.992614300823334, 'x': 37.37970030639251}                              \n",
      "2.1271906197133332                                                                                                     \n",
      "{'learning_rate': 1.250682905473269, 'sigma': 9.200882692114781, 'x': 36.56007435075491}                               \n",
      "2.158127837116807                                                                                                      \n",
      "{'learning_rate': 1.3624738904387514, 'sigma': 9.306250014043517, 'x': 31.65160836744339}                              \n",
      "2.214983781775008                                                                                                      \n",
      "{'learning_rate': 0.8460148635147606, 'sigma': 8.58062098991716, 'x': 39.09993846273973}                               \n",
      "2.1509625676371966                                                                                                     \n",
      "{'learning_rate': 0.9289561966125026, 'sigma': 8.772149520854303, 'x': 32.49600691319078}                              \n",
      "2.180461809206944                                                                                                      \n",
      "{'learning_rate': 1.1204752972665444, 'sigma': 8.902744968894998, 'x': 35.430620962391565}                             \n",
      "2.1911282944092942                                                                                                     \n",
      "{'learning_rate': 1.440315844315508, 'sigma': 9.002148716330161, 'x': 41.844316888583315}                              \n",
      "2.189060570162922                                                                                                      \n",
      "{'learning_rate': 1.06457783594123, 'sigma': 9.464446133813887, 'x': 42.535217695042626}                               \n",
      "2.0827010523296905                                                                                                     \n",
      "{'learning_rate': 0.8687921341387346, 'sigma': 9.507307568099593, 'x': 42.38201346716778}                              \n",
      "2.1393300978229415                                                                                                     \n",
      "{'learning_rate': 0.756599537847535, 'sigma': 9.651476020578825, 'x': 43.451275164027585}                              \n",
      "2.1315781209706923                                                                                                     \n",
      "{'learning_rate': 0.9939114326878871, 'sigma': 9.568993289798733, 'x': 43.171848726580926}                             \n",
      "2.1712941763581632                                                                                                     \n",
      "{'learning_rate': 1.0647671794320215, 'sigma': 9.424209247193458, 'x': 44.53862329468938}                              \n",
      "2.1780141564653523                                                                                                     \n",
      "{'learning_rate': 0.8138522548620808, 'sigma': 9.747801469397778, 'x': 45.57274766397415}                              \n",
      "2.162844417944365                                                                                                      \n",
      "{'learning_rate': 0.7013300704498369, 'sigma': 9.375534984088603, 'x': 43.741231426918574}                             \n",
      "2.1323516831841385                                                                                                     \n",
      "{'learning_rate': 0.928022754326121, 'sigma': 9.552214741091715, 'x': 45.12116843978439}                               \n",
      "2.1899831989178455                                                                                                     \n",
      "{'learning_rate': 1.150552575805615, 'sigma': 9.658065940379046, 'x': 42.870426430594236}                              \n",
      "2.145344352940308                                                                                                      \n",
      "{'learning_rate': 0.7827683394053717, 'sigma': 9.831507243091028, 'x': 44.15982014633185}                              \n",
      "2.170653548984633                                                                                                      \n",
      "{'learning_rate': 0.6104928324034344, 'sigma': 9.492142576260592, 'x': 45.717867882823924}                             \n",
      "2.1398055310635793                                                                                                     \n",
      "{'learning_rate': 1.2364322554247318, 'sigma': 9.307655313307, 'x': 41.86628647055113}                                 \n",
      "2.1643710251115102                                                                                                     \n",
      "{'learning_rate': 1.0464217545993073, 'sigma': 9.44553380689997, 'x': 44.79200556122473}                               \n",
      "2.1764489243392884                                                                                                     \n",
      "{'learning_rate': 0.9436971682181057, 'sigma': 9.692670223155032, 'x': 42.658627245427574}                             \n",
      "2.162986869282102                                                                                                      \n",
      "{'learning_rate': 1.3216118659218468, 'sigma': 9.226485316276886, 'x': 46.71210253457088}                              \n",
      "2.1492911873582012                                                                                                     \n",
      "{'learning_rate': 0.6894419196922611, 'sigma': 9.373450314562737, 'x': 46.23699542469362}                              \n",
      "2.1516285841846683                                                                                                     \n",
      "{'learning_rate': 1.1560230405946907, 'sigma': 9.809946727094308, 'x': 43.71498468434534}                              \n",
      "2.176831146848377                                                                                                      \n",
      "{'learning_rate': 0.8370787702678667, 'sigma': 9.561708155154173, 'x': 44.47101985788301}                              \n",
      "2.1737259754734706                                                                                                     \n",
      "{'learning_rate': 0.550154688096497, 'sigma': 9.158647511578478, 'x': 45.49935858810199}                               \n",
      "2.1719696622190856                                                                                                     \n",
      "{'learning_rate': 1.0251099710807532, 'sigma': 9.277064193957468, 'x': 41.490948013604836}                             \n",
      "2.1841068756907474                                                                                                     \n",
      "{'learning_rate': 0.4090250291839279, 'sigma': 9.61012972229765, 'x': 47.184536538397275}                              \n",
      "2.16467846030223                                                                                                       \n",
      "{'learning_rate': 0.8960438536380759, 'sigma': 9.422836060244169, 'x': 45.92577397621255}                              \n",
      "2.174557969441114                                                                                                      \n",
      "{'learning_rate': 1.5778980085616718, 'sigma': 9.837579904685253, 'x': 42.41812516950645}                              \n",
      "2.1631577882068482                                                                                                     \n",
      "{'learning_rate': 1.1046067331352063, 'sigma': 9.725610410291463, 'x': 44.96363728993876}                              \n",
      "2.158854423508063                                                                                                      \n",
      "{'learning_rate': 1.227081133267039, 'sigma': 9.32797019926171, 'x': 46.55942097212725}                                \n",
      "2.1298912476666936                                                                                                     \n",
      "{'learning_rate': 0.7243913800768575, 'sigma': 9.48157724122176, 'x': 43.37675382315991}                               \n",
      "2.106156949500822                                                                                                      \n",
      "{'learning_rate': 1.3179910123936684, 'sigma': 9.109997274092065, 'x': 47.702899044012675}                             \n",
      "2.1154795392538635                                                                                                     \n",
      "{'learning_rate': 1.3933177034583328, 'sigma': 9.906713306736425, 'x': 44.272330405351944}                             \n",
      "2.142364411751226                                                                                                      \n",
      "{'learning_rate': 0.6230071390560712, 'sigma': 9.624044088624746, 'x': 45.19267434405924}                              \n",
      "2.1339128501057125                                                                                                     \n",
      "{'learning_rate': 0.9593707410313506, 'sigma': 9.235078867754538, 'x': 47.04068993927839}                              \n",
      "2.168752319721212                                                                                                      \n",
      "{'learning_rate': 0.784038077812418, 'sigma': 9.525269226956024, 'x': 45.881725696242896}                              \n",
      "2.1321352080614258                                                                                                     \n",
      "{'learning_rate': 0.46558047256235113, 'sigma': 9.376215722443469, 'x': 44.11329213187473}                             \n",
      "2.151146356556999                                                                                                      \n",
      "{'learning_rate': 1.514993441395905, 'sigma': 9.103616287457788, 'x': 42.97004544068024}                               \n",
      "2.184694833409833                                                                                                      \n",
      "{'learning_rate': 1.1361571910378332, 'sigma': 9.991423987847874, 'x': 46.25017502142618}                              \n",
      "2.1414791359409886                                                                                                     \n",
      "{'learning_rate': 1.6595517775266102, 'sigma': 9.201555931936266, 'x': 45.34578396608962}                              \n",
      "2.165582125037124                                                                                                      \n",
      "{'learning_rate': 0.550524804426795, 'sigma': 9.742765642186095, 'x': 47.50994977028161}                               \n",
      "2.128913260002846                                                                                                      \n",
      "{'learning_rate': 0.23349439430611968, 'sigma': 9.488565472259376, 'x': 48.18024923848082}                             \n",
      "2.1425516795008375                                                                                                     \n",
      "{'learning_rate': 0.8498498340291, 'sigma': 9.301974672968417, 'x': 46.71863603620461}                                 \n",
      "2.144672910457865                                                                                                      \n",
      "{'learning_rate': 1.0593071479281178, 'sigma': 9.65965631108675, 'x': 44.667888944493875}                              \n",
      "2.158447357636203                                                                                                      \n",
      "{'learning_rate': 1.2519715156703075, 'sigma': 9.032432155156338, 'x': 41.22247079669594}                              \n",
      "2.1363251356438453                                                                                                     \n",
      "{'learning_rate': 1.4372359138508315, 'sigma': 9.399796276398261, 'x': 43.16938584349157}                              \n",
      "2.1260859549691573                                                                                                     \n",
      "{'learning_rate': 0.6801002355863899, 'sigma': 9.564476101005933, 'x': 42.00049403648587}                              \n",
      "2.1606871217307297                                                                                                     \n",
      "{'learning_rate': 0.9381392081888319, 'sigma': 9.190365973458949, 'x': 43.72277302102416}                              \n",
      "2.1779197569066384                                                                                                     \n",
      "{'learning_rate': 1.1857884194517745, 'sigma': 9.848479984912418, 'x': 48.53279873057322}                              \n",
      "2.1122723290285146                                                                                                     \n",
      "{'learning_rate': 0.7774442263556065, 'sigma': 9.121954292399526, 'x': 47.26739146482703}                              \n",
      "2.119069317222865                                                                                                      \n",
      "{'learning_rate': 1.00732345904495, 'sigma': 9.299247475344435, 'x': 46.41654547086791}                                \n",
      "2.1428964950961724                                                                                                     \n",
      "{'learning_rate': 0.38349072076208124, 'sigma': 9.448604258021955, 'x': 45.508579176013946}                            \n",
      "2.1391235972770546                                                                                                     \n",
      "{'learning_rate': 1.334575380617125, 'sigma': 9.733642821059387, 'x': 47.8045105090293}                                \n",
      "2.1490712597240758                                                                                                     \n"
     ]
    },
    {
     "name": "stdout",
     "output_type": "stream",
     "text": [
      "{'learning_rate': 1.5582557779218527, 'sigma': 9.024023260070793, 'x': 44.69107235292861}                              \n",
      "2.1350823670106256                                                                                                     \n",
      "{'learning_rate': 0.8827725525225101, 'sigma': 9.91335636616129, 'x': 49.14840858794083}                               \n",
      "2.1389188796254364                                                                                                     \n",
      "{'learning_rate': 0.5045600412471247, 'sigma': 9.544672976844101, 'x': 42.52383107557235}                              \n",
      "2.1589569715248853                                                                                                     \n",
      "{'learning_rate': 1.727043572896735, 'sigma': 8.901986069710967, 'x': 45.89692294691283}                               \n",
      "2.077834211082024                                                                                                      \n",
      "{'learning_rate': 1.782126897561862, 'sigma': 8.458084990160676, 'x': 43.70559536157225}                               \n",
      "2.1302010609275848                                                                                                     \n",
      "{'learning_rate': 1.891012725697926, 'sigma': 8.8117121160231, 'x': 44.73538253390696}                                 \n",
      "2.1739064326807194                                                                                                     \n",
      "{'learning_rate': 2.0701662458975147, 'sigma': 8.698910350913174, 'x': 44.22282589126869}                              \n",
      "2.1447887827789494                                                                                                     \n",
      "{'learning_rate': 1.8518017626802927, 'sigma': 8.899458200816124, 'x': 43.05805635569182}                              \n",
      "2.1488194816557225                                                                                                     \n",
      "{'learning_rate': 2.149272914022652, 'sigma': 8.617263552600347, 'x': 42.04269743327236}                               \n",
      "2.0801487127761673                                                                                                     \n",
      "{'learning_rate': 2.1762763463648223, 'sigma': 8.278065045229319, 'x': 41.8442488962971}                               \n",
      "2.1707521226481243                                                                                                     \n",
      "{'learning_rate': 2.570869130432668, 'sigma': 8.556347205973044, 'x': 45.16616292783646}                               \n",
      "2.1500130468264977                                                                                                     \n",
      "{'learning_rate': 2.4139958720909624, 'sigma': 8.61720929488448, 'x': 40.829220822572715}                              \n",
      "2.1785182708091986                                                                                                     \n",
      "{'learning_rate': 2.3101374268344346, 'sigma': 8.501444229539638, 'x': 43.95088362973176}                              \n",
      "2.156964230034425                                                                                                      \n",
      "{'learning_rate': 1.8706073063002047, 'sigma': 8.699715185660978, 'x': 45.841989027238526}                             \n",
      "2.1227860626355137                                                                                                     \n",
      "{'learning_rate': 2.207891379077602, 'sigma': 8.337347080138358, 'x': 43.2495835628548}                                \n",
      "2.1588645278313776                                                                                                     \n",
      "{'learning_rate': 2.624980285619233, 'sigma': 8.897267484017425, 'x': 45.30267198145488}                               \n",
      "2.141679733793022                                                                                                      \n",
      "{'learning_rate': 2.5955900301591193, 'sigma': 8.76449886038821, 'x': 41.5272815987491}                                \n",
      "2.1307524004056835                                                                                                     \n",
      "{'learning_rate': 2.1003957721524573, 'sigma': 8.610279837462947, 'x': 44.52739863986565}                              \n",
      "2.1569041452964393                                                                                                     \n",
      "{'learning_rate': 2.0137129708132613, 'sigma': 8.324861406350804, 'x': 46.073722686552266}                             \n",
      "2.1426138139224813                                                                                                     \n",
      "{'learning_rate': 2.005949703778511, 'sigma': 8.449452837903294, 'x': 43.81382842565465}                               \n",
      "2.188070011438863                                                                                                      \n",
      "{'learning_rate': 2.385548059989031, 'sigma': 8.818402040971353, 'x': 40.29860232614917}                               \n",
      "2.1624927098738875                                                                                                     \n",
      "{'learning_rate': 1.8872100318945826, 'sigma': 8.158806403859444, 'x': 42.50273184868785}                              \n",
      "2.107080492822068                                                                                                      \n",
      "{'learning_rate': 2.2199763964176866, 'sigma': 8.637298144608021, 'x': 45.59148052205825}                              \n",
      "2.1581900154395033                                                                                                     \n",
      "{'learning_rate': 2.136526612626998, 'sigma': 8.37867623589906, 'x': 46.514441732644656}                               \n",
      "2.168308759923404                                                                                                      \n",
      "{'learning_rate': 2.4473314586279487, 'sigma': 8.945283077219212, 'x': 44.871387823197686}                             \n",
      "2.137485804132878                                                                                                      \n",
      "{'learning_rate': 2.5308063049854295, 'sigma': 8.721626648241426, 'x': 43.4098926099467}                               \n",
      "2.181276929844309                                                                                                      \n",
      "{'learning_rate': 2.0106804499909012, 'sigma': 8.765777333553661, 'x': 20.05857351957053}                              \n",
      "2.214563761735056                                                                                                      \n",
      "{'learning_rate': 2.140847222582155, 'sigma': 8.508145110455166, 'x': 44.08547993537114}                               \n",
      "2.1382548287093517                                                                                                     \n",
      "{'learning_rate': 2.2350014038205317, 'sigma': 8.898327271904181, 'x': 45.96787445504692}                              \n",
      "2.153536154333978                                                                                                      \n",
      "{'learning_rate': 1.9357849985026656, 'sigma': 8.044403863037287, 'x': 42.11775012684477}                              \n",
      "2.178556393936123                                                                                                      \n",
      "{'learning_rate': 2.2696333510924216, 'sigma': 8.22327737816037, 'x': 46.94485002157071}                               \n",
      "2.1590667577849936                                                                                                     \n",
      "{'learning_rate': 2.4955127532422248, 'sigma': 9.059204482218643, 'x': 45.2563485271294}                               \n",
      "2.1546726667467073                                                                                                     \n",
      "{'learning_rate': 2.088424770988423, 'sigma': 8.9884388494594, 'x': 42.918532804736614}                                \n",
      "2.169931981687406                                                                                                      \n",
      "{'learning_rate': 1.739796587212856, 'sigma': 8.65617526408525, 'x': 44.421811840365805}                               \n",
      "2.189699741709954                                                                                                      \n",
      "{'learning_rate': 1.9572338634291515, 'sigma': 8.79415066659558, 'x': 46.28487464905227}                               \n",
      "2.1402328554098515                                                                                                     \n",
      "{'learning_rate': 2.3320036715860173, 'sigma': 8.861375918817988, 'x': 41.43332547465562}                              \n",
      "2.1157484117114844                                                                                                     \n",
      "{'learning_rate': 2.331974720618163, 'sigma': 8.435638654561433, 'x': 43.53685119757346}                               \n",
      "2.120465505023972                                                                                                      \n",
      "{'learning_rate': 1.7958505948327728, 'sigma': 9.04718718785018, 'x': 44.86975644821707}                               \n",
      "2.193621556662312                                                                                                      \n",
      "{'learning_rate': 2.048915962138606, 'sigma': 8.560440586669667, 'x': 47.118244119555065}                              \n",
      "2.128808522240921                                                                                                      \n",
      "{'learning_rate': 1.7244535758736745, 'sigma': 8.893920062282792, 'x': 45.99641871162731}                              \n",
      "2.148005064605037                                                                                                      \n",
      "{'learning_rate': 1.66209673634329, 'sigma': 9.103528150963362, 'x': 45.485279149245464}                               \n",
      "2.197104672539402                                                                                                      \n",
      "{'learning_rate': 2.7472065241877477, 'sigma': 8.977087858385008, 'x': 46.84222858698976}                              \n",
      "2.1867147007920957                                                                                                     \n",
      "{'learning_rate': 1.9786152552345666, 'sigma': 8.641048648209871, 'x': 40.8233704647708}                               \n",
      "2.215309545294054                                                                                                      \n",
      "{'learning_rate': 2.161364025024854, 'sigma': 8.860240463621162, 'x': 44.05373911238899}                               \n",
      "2.1678076105502786                                                                                                     \n",
      "{'learning_rate': 2.6879427867936645, 'sigma': 9.158540092330549, 'x': 47.579272338071945}                             \n",
      "2.1688918640859516                                                                                                     \n",
      "{'learning_rate': 1.8026523464752437, 'sigma': 8.967087058749467, 'x': 42.761432100450605}                             \n",
      "2.135756581366057                                                                                                      \n",
      "{'learning_rate': 1.95183061983936, 'sigma': 8.7322695998454, 'x': 45.08507625912274}                                  \n",
      "2.1360862531694975                                                                                                     \n",
      "{'learning_rate': 1.8548069774599851, 'sigma': 8.426879491725467, 'x': 42.081509133572226}                             \n",
      "2.1129740624775035                                                                                                     \n",
      "{'learning_rate': 2.4920997637978637, 'sigma': 9.085167510235548, 'x': 46.62377344759335}                              \n",
      "2.1615694673231896                                                                                                     \n",
      "{'learning_rate': 2.332580769405296, 'sigma': 8.58927084674315, 'x': 44.3284785696559}                                 \n",
      "2.143430669997028                                                                                                      \n",
      "{'learning_rate': 1.693553211566836, 'sigma': 8.78496190286779, 'x': 45.77318821281112}                                \n",
      "2.1322242693748663                                                                                                     \n",
      "{'learning_rate': 1.7988881950670867, 'sigma': 9.240034731835816, 'x': 43.46336748920699}                              \n",
      "2.129974946113395                                                                                                      \n",
      "{'learning_rate': 2.2853770248125738, 'sigma': 9.165217202279925, 'x': 47.7173952019352}                               \n",
      "2.107342609859405                                                                                                      \n",
      "{'learning_rate': 1.6223169113937745, 'sigma': 8.17493239203841, 'x': 46.3972537690171}                                \n",
      "2.121604794152614                                                                                                      \n",
      "{'learning_rate': 2.0551246864607333, 'sigma': 8.977120513302625, 'x': 44.781865249602944}                             \n",
      "2.183107371148979                                                                                                      \n",
      "{'learning_rate': 2.851635186310642, 'sigma': 8.331927690135307, 'x': 45.59884425928116}                               \n",
      "2.161791723274849                                                                                                      \n",
      "{'learning_rate': 2.1337353674281734, 'sigma': 8.85612136838143, 'x': 47.31768009601785}                               \n",
      "2.168426166946352                                                                                                      \n",
      "{'learning_rate': 2.433545133860819, 'sigma': 8.709865510783555, 'x': 42.90372872389702}                               \n",
      "2.2013333855666333                                                                                                     \n",
      "{'learning_rate': 1.9255085406029953, 'sigma': 9.05124325860357, 'x': 48.32947825464636}                               \n",
      "2.148523965426089                                                                                                      \n",
      "{'learning_rate': 1.7601791028999083, 'sigma': 9.235231610253887, 'x': 43.9874089242934}                               \n",
      "2.1275474889766017                                                                                                     \n",
      "{'learning_rate': 1.709583727346796, 'sigma': 8.502619623433988, 'x': 40.27625274548427}                               \n",
      "2.185499243993669                                                                                                      \n",
      "{'learning_rate': 1.5738758479485955, 'sigma': 9.14249364448101, 'x': 41.47021045999868}                               \n",
      "2.134508978901377                                                                                                      \n",
      "{'learning_rate': 2.233920747780501, 'sigma': 8.890341491472151, 'x': 46.80525174462135}                               \n",
      "2.132968062676967                                                                                                      \n",
      "{'learning_rate': 1.9494277084535465, 'sigma': 8.613651014577977, 'x': 45.122450955051306}                             \n",
      "2.1460618886198706                                                                                                     \n",
      "{'learning_rate': 1.8418976421176163, 'sigma': 9.318179907448505, 'x': 48.02308985291213}                              \n",
      "2.1540686889864946                                                                                                     \n",
      "{'learning_rate': 2.042604125267297, 'sigma': 8.984819705333457, 'x': 45.976603570680425}                              \n",
      "2.1718939954090986                                                                                                     \n",
      "{'learning_rate': 1.6299501348343979, 'sigma': 8.772287098229716, 'x': 42.24533160421328}                              \n",
      "2.182040076177385                                                                                                      \n",
      "{'learning_rate': 1.5359205230779165, 'sigma': 9.052633504045529, 'x': 44.51841710437085}                              \n",
      "2.1523602106880255                                                                                                     \n"
     ]
    },
    {
     "name": "stdout",
     "output_type": "stream",
     "text": [
      "{'learning_rate': 2.1744522121854617, 'sigma': 7.997720318098253, 'x': 43.455478872273844}                             \n",
      "2.1523756723728864                                                                                                     \n",
      "{'learning_rate': 1.7139116158466587, 'sigma': 9.217336199448246, 'x': 37.89030858973081}                              \n",
      "2.2155407475186304                                                                                                     \n",
      "{'learning_rate': 1.9190099017319788, 'sigma': 8.288123660323278, 'x': 47.05754188620191}                              \n",
      "2.185204383300204                                                                                                      \n",
      "{'learning_rate': 1.6203058447109167, 'sigma': 9.134226548064866, 'x': 46.39057068249936}                              \n",
      "2.137849620375527                                                                                                      \n",
      "{'learning_rate': 1.8241843510896212, 'sigma': 8.653742267642794, 'x': 48.655208618630326}                             \n",
      "2.1460947742116026                                                                                                     \n",
      "{'learning_rate': 2.028988172745104, 'sigma': 9.326589075548156, 'x': 45.615608085072495}                              \n",
      "2.138906723828324                                                                                                      \n",
      "{'learning_rate': 1.5348815486745753, 'sigma': 8.813571631515382, 'x': 43.966796881626884}                             \n",
      "2.1727037076171785                                                                                                     \n",
      "{'learning_rate': 1.4514488190802926, 'sigma': 8.381121438314848, 'x': 47.79435705707207}                              \n",
      "2.180960193412953                                                                                                      \n",
      "{'learning_rate': 2.3586557651578666, 'sigma': 8.48674548446679, 'x': 44.56651304858651}                               \n",
      "2.179866272921574                                                                                                      \n",
      "{'learning_rate': 1.777138119118074, 'sigma': 9.237103530995721, 'x': 45.198902327779976}                              \n",
      "2.1584511974340135                                                                                                     \n",
      "{'learning_rate': 1.6616006687499754, 'sigma': 8.987524221577255, 'x': 40.90533177270781}                              \n",
      "2.138084165058704                                                                                                      \n",
      "{'learning_rate': 2.1362472817217317, 'sigma': 9.355438842720831, 'x': 42.8427299123238}                               \n",
      "2.1667890669360346                                                                                                     \n",
      "{'learning_rate': 1.508987885391008, 'sigma': 8.933191543741822, 'x': 47.14718960814385}                               \n",
      "2.161997310278297                                                                                                      \n",
      "{'learning_rate': 1.91693301934548, 'sigma': 8.702955786750284, 'x': 46.35472926058113}                                \n",
      "2.1439639095539373                                                                                                     \n",
      "{'learning_rate': 1.6651762957415517, 'sigma': 9.110552273486187, 'x': 39.64480038854303}                              \n",
      "2.155964622987921                                                                                                      \n",
      "{'learning_rate': 2.287816979519155, 'sigma': 8.873836630458822, 'x': 42.01390943647719}                               \n",
      "2.1361091395154035                                                                                                     \n",
      "{'learning_rate': 1.3962641940320533, 'sigma': 8.1065997641999, 'x': 43.499519749378805}                               \n",
      "2.189957791688727                                                                                                      \n",
      "{'learning_rate': 2.470920859085772, 'sigma': 8.53773539584645, 'x': 48.64226262219781}                                \n",
      "2.1479132956159543                                                                                                     \n",
      "{'learning_rate': 1.8280609453342724, 'sigma': 9.079076928692226, 'x': 47.84716661268781}                              \n",
      "2.142268033649969                                                                                                      \n",
      "{'learning_rate': 2.7010736927324226, 'sigma': 9.202079793511656, 'x': 45.74217157989543}                              \n",
      "2.146579767650556                                                                                                      \n",
      "{'learning_rate': 1.45887645446873, 'sigma': 9.365965843794728, 'x': 44.892117745195605}                               \n",
      "2.1675914040533923                                                                                                     \n",
      "{'learning_rate': 2.0815380243576205, 'sigma': 8.918340124728157, 'x': 46.631518774598476}                             \n",
      "2.173080223261855                                                                                                      \n",
      "{'learning_rate': 1.5749027767593067, 'sigma': 8.80784456373737, 'x': 43.969149862201}                                 \n",
      "2.1640937682419596                                                                                                     \n",
      "{'learning_rate': 1.7371431099910684, 'sigma': 9.27432925177341, 'x': 47.377716758027525}                              \n",
      "2.1611866396470223                                                                                                     \n",
      "{'learning_rate': 2.0077919684800727, 'sigma': 9.036775254205784, 'x': 48.97331213294547}                              \n",
      "2.136607407214748                                                                                                      \n",
      "{'learning_rate': 1.4451148007232155, 'sigma': 9.450454602247108, 'x': 42.97780334950592}                              \n",
      "2.1696842879617746                                                                                                     \n",
      "{'learning_rate': 2.205987181212524, 'sigma': 8.671945271159657, 'x': 48.107363002017365}                              \n",
      "2.16378160865318                                                                                                       \n",
      "{'learning_rate': 1.6369775908043385, 'sigma': 7.9233747131412455, 'x': 46.16445425316414}                             \n",
      "2.12890395641271                                                                                                       \n",
      "{'learning_rate': 1.8827523596718245, 'sigma': 9.154781500114112, 'x': 45.37025611616705}                              \n",
      "2.149148218634871                                                                                                      \n",
      "{'learning_rate': 1.5425884341807965, 'sigma': 8.23855495565932, 'x': 41.326570500639605}                              \n",
      "2.1683784154534034                                                                                                     \n",
      "{'learning_rate': 1.3419477364173518, 'sigma': 9.377168671581169, 'x': 47.181790036004486}                             \n",
      "2.132112060532781                                                                                                      \n",
      "{'learning_rate': 1.772689087193955, 'sigma': 8.786039634143513, 'x': 49.99191128992062}                               \n",
      "2.099144947186483                                                                                                      \n",
      "{'learning_rate': 2.532877027493341, 'sigma': 8.999681547121996, 'x': 44.61076433075513}                               \n",
      "2.1869403930248486                                                                                                     \n",
      "{'learning_rate': 2.3994041446528884, 'sigma': 9.24697023826394, 'x': 49.389723225979346}                              \n",
      "2.168302740881227                                                                                                      \n",
      "{'learning_rate': 1.9270701032276125, 'sigma': 8.572167645739247, 'x': 45.96215230545473}                              \n",
      "2.1928652510927553                                                                                                     \n",
      "{'learning_rate': 2.778182300716514, 'sigma': 8.403080405464767, 'x': 44.307455175986945}                              \n",
      "2.107055751008845                                                                                                      \n",
      "{'learning_rate': 1.3998306801775366, 'sigma': 9.606520133840831, 'x': 42.31737640215554}                              \n",
      "2.167773610101418                                                                                                      \n",
      "{'learning_rate': 1.7025287632965957, 'sigma': 8.929813842384325, 'x': 43.34441743384609}                              \n",
      "2.160291091601453                                                                                                      \n",
      "{'learning_rate': 2.1306091377582894, 'sigma': 8.734729437813375, 'x': 46.73326885512065}                              \n",
      "2.1534419515197807                                                                                                     \n",
      "{'learning_rate': 1.585599554838279, 'sigma': 9.164356648950834, 'x': 48.54175963942428}                               \n",
      "2.1367504653141807                                                                                                     \n",
      "{'learning_rate': 1.4949926704654046, 'sigma': 9.409852428362003, 'x': 45.0819223684687}                               \n",
      "2.1525652244575335                                                                                                     \n",
      "{'learning_rate': 1.300892905942754, 'sigma': 9.29519132073626, 'x': 43.874070994533525}                               \n",
      "2.1472757602631054                                                                                                     \n",
      "{'learning_rate': 4.456867926481202, 'sigma': 8.812124507955263, 'x': 47.90141489410624}                               \n",
      "2.134073140472741                                                                                                      \n",
      "{'learning_rate': 2.2364305250553493, 'sigma': 9.027423105473021, 'x': 34.59580676488314}                              \n",
      "2.2047631617544514                                                                                                     \n",
      "100%|███████████████████████████████████████████████| 1200/1200 [18:31<00:00,  1.08it/s, best loss: 2.0353487293363663]\n",
      "best: {'learning_rate': 0.8614948571756248, 'sigma': 8.889239561380208, 'x': 47.932882054379824}\n"
     ]
    }
   ],
   "source": [
    "#bayesian optimization aka hyperparameter tuning\n",
    "from hyperopt import Trials, STATUS_OK, fmin, tpe, hp\n",
    "import minisom \n",
    "\n",
    "# define search space\n",
    "\n",
    "space = { 'sigma' : hp.uniform('sigma', 5, 10), \n",
    "         'learning_rate': hp.uniform('learning_rate', 0.05, 5),\n",
    "         'x': hp.uniform('x', 20, 50)}\n",
    "\n",
    "# define an objective function, scoring points in the above space\n",
    "def som_fn(space):\n",
    "    sig = space['sigma']\n",
    "    learning_rate = space['learning_rate']\n",
    "    x = int(space['x'])\n",
    "    val = minisom.MiniSom(x=x, y=x, input_len=data_benign_new.shape[1], #generating a loss value\n",
    "                          sigma=sig, \n",
    "                          learning_rate=learning_rate\n",
    "                          ).quantization_error(data_benign_new[0:100, :])\n",
    "    print(space)\n",
    "    print(val)\n",
    "    return {'loss': val, 'status' : STATUS_OK} #function we want to optimize\n",
    "\n",
    "trials = Trials()\n",
    "best = fmin(fn=som_fn,\n",
    "            space=space,\n",
    "            algo=tpe.suggest,\n",
    "            max_evals=1200,\n",
    "            trials=trials)\n",
    "\n",
    "print('best: {}'.format(best))"
   ]
  },
  {
   "cell_type": "code",
   "execution_count": 21,
   "metadata": {},
   "outputs": [
    {
     "data": {
      "image/png": "[encoded data removed]",
      "text/plain": [
       "<Figure size 1152x864 with 2 Axes>"
      ]
     },
     "metadata": {
      "needs_background": "light"
     },
     "output_type": "display_data"
    },
    {
     "name": "stdout",
     "output_type": "stream",
     "text": [
      "52.819518089294434 seconds\n"
     ]
    }
   ],
   "source": [
    "start_timeprint = time.time()\n",
    "\n",
    "\n",
    "import minisom \n",
    "from pylab import bone, pcolor, colorbar, plot, show, axis\n",
    "\n",
    "som = minisom.MiniSom(x=43, y=43, input_len=data_benign_new.shape[1], \n",
    "                      sigma=8.164432071013474, \n",
    "                      learning_rate=1.95477168894887272)\n",
    "\n",
    "som.train_random(data_benign_new, 1000)\n",
    "\n",
    "n = 1000\n",
    "plot_som(som, data_new[0:n, :], target[0:n])\n",
    "\n",
    "\n",
    "elapsed_time = time.time() - start_timeprint\n",
    "print(elapsed_time, \"seconds\")"
   ]
  },
  {
   "cell_type": "code",
   "execution_count": 20,
   "metadata": {},
   "outputs": [],
   "source": [
    "\n",
    "\n",
    "def get_anomalies(benign_metrics, anomaly_metrics, alpha=3, return_outliers=True):\n",
    "    #gets anomalies from evaluation metric with standard deviation of 3\n",
    "    \n",
    "    limit = np.mean(benign_metrics) + np.std(benign_metrics) * alpha\n",
    "    outliers = np.argwhere(np.abs(anomaly_metrics) > limit)\n",
    "    print(\"Determined: \", len(outliers) / len(anomaly_metrics) * 100, \"% as anomaly\")\n",
    "    \n",
    "    if return_outliers:\n",
    "        return outliers\n",
    "   \n",
    "training = data_benign_new # Using KDDtrain+ benign class features for training\n",
    "#evaluation = data_new # Y Split     \n",
    "evaluation = dft_data_new # Using the KDDtest+ dataset for evaluating anomaly detector\n"
   ]
  },
  {
   "cell_type": "code",
   "execution_count": 31,
   "metadata": {},
   "outputs": [
    {
     "name": "stdout",
     "output_type": "stream",
     "text": [
      "\r",
      "  0%|                                                                            | 0/100 [00:00<?, ?it/s, best loss: ?]"
     ]
    },
    {
     "name": "stderr",
     "output_type": "stream",
     "text": [
      "C:\\Users\\Saad\\Desktop\\Hybrid SOM on NSL - MultiClass\\KohonenSom.py:113: FutureWarning: Using a non-tuple sequence for multidimensional indexing is deprecated; use `arr[tuple(seq)]` instead of `arr[seq]`. In the future this will be interpreted as an array index, `arr[np.array(seq)]`, which will result either in an error or a different result.\n",
      "  bmuDistance = bmuDistance[slc]\n",
      "\n"
     ]
    },
    {
     "name": "stdout",
     "output_type": "stream",
     "text": [
      "{'initial_radius': 2.9420585899280947, 'learning_decay': 0.011539949174298365, 'learning_rate': 9.819887538498168, 'minNumberPerBmu': 7.070453742893637, 'n_neighbors': 3.848806041917106, 'radius_decay': 0.06179310192947496, 'x': 41.2788264792772}\n",
      "0.7114975159687722                                                                                                     \n",
      "  1%|▍                                                | 1/100 [00:37<1:01:44, 37.42s/it, best loss: 0.7114975159687722]"
     ]
    },
    {
     "name": "stderr",
     "output_type": "stream",
     "text": [
      "C:\\Users\\Saad\\Desktop\\Hybrid SOM on NSL - MultiClass\\KohonenSom.py:113: FutureWarning: Using a non-tuple sequence for multidimensional indexing is deprecated; use `arr[tuple(seq)]` instead of `arr[seq]`. In the future this will be interpreted as an array index, `arr[np.array(seq)]`, which will result either in an error or a different result.\n",
      "  bmuDistance = bmuDistance[slc]\n",
      "\n"
     ]
    },
    {
     "name": "stdout",
     "output_type": "stream",
     "text": [
      "{'initial_radius': 9.314103762756941, 'learning_decay': 0.018020249844763997, 'learning_rate': 0.5360778341327002, 'minNumberPerBmu': 8.16797493398821, 'n_neighbors': 3.998296635628004, 'radius_decay': 0.02388268868642545, 'x': 24.195583001546083}\n",
      "0.7266234918381831                                                                                                     \n",
      "  2%|█                                                  | 2/100 [00:49<48:34, 29.74s/it, best loss: 0.7114975159687722]"
     ]
    },
    {
     "name": "stderr",
     "output_type": "stream",
     "text": [
      "C:\\Users\\Saad\\Desktop\\Hybrid SOM on NSL - MultiClass\\KohonenSom.py:113: FutureWarning: Using a non-tuple sequence for multidimensional indexing is deprecated; use `arr[tuple(seq)]` instead of `arr[seq]`. In the future this will be interpreted as an array index, `arr[np.array(seq)]`, which will result either in an error or a different result.\n",
      "  bmuDistance = bmuDistance[slc]\n",
      "\n"
     ]
    },
    {
     "name": "stdout",
     "output_type": "stream",
     "text": [
      "{'initial_radius': 6.368484825540816, 'learning_decay': 0.04977053258213053, 'learning_rate': 4.794927135229965, 'minNumberPerBmu': 0.8806079086659091, 'n_neighbors': 1.1336367037927184, 'radius_decay': 0.0796038205046227, 'x': 43.32724944375588}\n",
      "0.7434350603264727                                                                                                     \n",
      "  3%|█▍                                               | 3/100 [01:47<1:02:01, 38.37s/it, best loss: 0.7114975159687722]"
     ]
    },
    {
     "name": "stderr",
     "output_type": "stream",
     "text": [
      "C:\\Users\\Saad\\Desktop\\Hybrid SOM on NSL - MultiClass\\KohonenSom.py:113: FutureWarning: Using a non-tuple sequence for multidimensional indexing is deprecated; use `arr[tuple(seq)]` instead of `arr[seq]`. In the future this will be interpreted as an array index, `arr[np.array(seq)]`, which will result either in an error or a different result.\n",
      "  bmuDistance = bmuDistance[slc]\n",
      "\n"
     ]
    },
    {
     "name": "stdout",
     "output_type": "stream",
     "text": [
      "{'initial_radius': 5.784299512094988, 'learning_decay': 0.00440450402630205, 'learning_rate': 2.5298276329427756, 'minNumberPerBmu': 2.6558378412706, 'n_neighbors': 2.1862589245403625, 'radius_decay': 0.08525507923314096, 'x': 41.07556977772312}\n",
      "0.7159776437189496                                                                                                     \n",
      "  4%|█▉                                               | 4/100 [02:36<1:06:33, 41.60s/it, best loss: 0.7114975159687722]"
     ]
    },
    {
     "name": "stderr",
     "output_type": "stream",
     "text": [
      "C:\\Users\\Saad\\Desktop\\Hybrid SOM on NSL - MultiClass\\KohonenSom.py:113: FutureWarning: Using a non-tuple sequence for multidimensional indexing is deprecated; use `arr[tuple(seq)]` instead of `arr[seq]`. In the future this will be interpreted as an array index, `arr[np.array(seq)]`, which will result either in an error or a different result.\n",
      "  bmuDistance = bmuDistance[slc]\n",
      "\n"
     ]
    },
    {
     "name": "stdout",
     "output_type": "stream",
     "text": [
      "{'initial_radius': 5.511343928880845, 'learning_decay': 0.06554644677048567, 'learning_rate': 7.176621740716071, 'minNumberPerBmu': 6.134248618433004, 'n_neighbors': 3.89607197719781, 'radius_decay': 0.05488931591139228, 'x': 13.70271058180844}\n",
      "0.714292051100071                                                                                                      \n",
      "  5%|██▌                                                | 5/100 [02:41<48:16, 30.49s/it, best loss: 0.7114975159687722]"
     ]
    },
    {
     "name": "stderr",
     "output_type": "stream",
     "text": [
      "C:\\Users\\Saad\\Desktop\\Hybrid SOM on NSL - MultiClass\\KohonenSom.py:113: FutureWarning: Using a non-tuple sequence for multidimensional indexing is deprecated; use `arr[tuple(seq)]` instead of `arr[seq]`. In the future this will be interpreted as an array index, `arr[np.array(seq)]`, which will result either in an error or a different result.\n",
      "  bmuDistance = bmuDistance[slc]\n",
      "\n"
     ]
    },
    {
     "name": "stdout",
     "output_type": "stream",
     "text": [
      "{'initial_radius': 2.338607829469563, 'learning_decay': 0.04303022842188046, 'learning_rate': 2.3889491973964314, 'minNumberPerBmu': 3.438675423084442, 'n_neighbors': 2.3361196967689617, 'radius_decay': 0.07795719429500433, 'x': 11.406521922070247}\n",
      "0.7203690560681335                                                                                                     \n",
      "  6%|███                                                | 6/100 [02:46<35:56, 22.94s/it, best loss: 0.7114975159687722]"
     ]
    },
    {
     "name": "stderr",
     "output_type": "stream",
     "text": [
      "C:\\Users\\Saad\\Desktop\\Hybrid SOM on NSL - MultiClass\\KohonenSom.py:113: FutureWarning: Using a non-tuple sequence for multidimensional indexing is deprecated; use `arr[tuple(seq)]` instead of `arr[seq]`. In the future this will be interpreted as an array index, `arr[np.array(seq)]`, which will result either in an error or a different result.\n",
      "  bmuDistance = bmuDistance[slc]\n",
      "\n"
     ]
    },
    {
     "name": "stdout",
     "output_type": "stream",
     "text": [
      "{'initial_radius': 1.1826377168736335, 'learning_decay': 0.012403088827988478, 'learning_rate': 4.032673938149231, 'minNumberPerBmu': 7.266196936590577, 'n_neighbors': 1.3607702128665424, 'radius_decay': 0.01665678841938376, 'x': 12.246649167807874}\n",
      "0.6671841731724628                                                                                                     \n",
      "  7%|███▌                                               | 7/100 [02:52<27:31, 17.75s/it, best loss: 0.6671841731724628]"
     ]
    },
    {
     "name": "stderr",
     "output_type": "stream",
     "text": [
      "C:\\Users\\Saad\\Desktop\\Hybrid SOM on NSL - MultiClass\\KohonenSom.py:113: FutureWarning: Using a non-tuple sequence for multidimensional indexing is deprecated; use `arr[tuple(seq)]` instead of `arr[seq]`. In the future this will be interpreted as an array index, `arr[np.array(seq)]`, which will result either in an error or a different result.\n",
      "  bmuDistance = bmuDistance[slc]\n",
      "\n"
     ]
    },
    {
     "name": "stdout",
     "output_type": "stream",
     "text": [
      "{'initial_radius': 2.449425597334096, 'learning_decay': 0.0989808395116551, 'learning_rate': 7.944141980416302, 'minNumberPerBmu': 1.3114473611952115, 'n_neighbors': 5.545190356653979, 'radius_decay': 0.08111732989457783, 'x': 23.13057018263862}\n",
      "0.8814318665720369                                                                                                     \n",
      "  8%|████                                               | 8/100 [03:04<24:29, 15.97s/it, best loss: 0.6671841731724628]"
     ]
    },
    {
     "name": "stderr",
     "output_type": "stream",
     "text": [
      "C:\\Users\\Saad\\Desktop\\Hybrid SOM on NSL - MultiClass\\KohonenSom.py:113: FutureWarning: Using a non-tuple sequence for multidimensional indexing is deprecated; use `arr[tuple(seq)]` instead of `arr[seq]`. In the future this will be interpreted as an array index, `arr[np.array(seq)]`, which will result either in an error or a different result.\n",
      "  bmuDistance = bmuDistance[slc]\n",
      "\n"
     ]
    },
    {
     "name": "stdout",
     "output_type": "stream",
     "text": [
      "{'initial_radius': 7.795374153558027, 'learning_decay': 0.07876322260667086, 'learning_rate': 4.57239654607964, 'minNumberPerBmu': 0.9681776132652764, 'n_neighbors': 3.5600988020359825, 'radius_decay': 0.09833660132949892, 'x': 39.200977311237814}\n",
      "0.7249378992193045                                                                                                     \n",
      "  9%|████▌                                              | 9/100 [03:57<41:21, 27.27s/it, best loss: 0.6671841731724628]"
     ]
    },
    {
     "name": "stderr",
     "output_type": "stream",
     "text": [
      "C:\\Users\\Saad\\Desktop\\Hybrid SOM on NSL - MultiClass\\KohonenSom.py:113: FutureWarning: Using a non-tuple sequence for multidimensional indexing is deprecated; use `arr[tuple(seq)]` instead of `arr[seq]`. In the future this will be interpreted as an array index, `arr[np.array(seq)]`, which will result either in an error or a different result.\n",
      "  bmuDistance = bmuDistance[slc]\n",
      "\n"
     ]
    },
    {
     "name": "stdout",
     "output_type": "stream",
     "text": [
      "{'initial_radius': 5.585827214522167, 'learning_decay': 0.07122516279514497, 'learning_rate': 9.317217648997717, 'minNumberPerBmu': 3.7950920015664513, 'n_neighbors': 3.972484391440731, 'radius_decay': 0.013009244520356962, 'x': 19.352697822391484}\n",
      "0.7570528743789922                                                                                                     \n",
      " 10%|█████                                             | 10/100 [04:07<33:10, 22.11s/it, best loss: 0.6671841731724628]"
     ]
    },
    {
     "name": "stderr",
     "output_type": "stream",
     "text": [
      "C:\\Users\\Saad\\Desktop\\Hybrid SOM on NSL - MultiClass\\KohonenSom.py:113: FutureWarning: Using a non-tuple sequence for multidimensional indexing is deprecated; use `arr[tuple(seq)]` instead of `arr[seq]`. In the future this will be interpreted as an array index, `arr[np.array(seq)]`, which will result either in an error or a different result.\n",
      "  bmuDistance = bmuDistance[slc]\n",
      "\n"
     ]
    },
    {
     "name": "stdout",
     "output_type": "stream",
     "text": [
      "{'initial_radius': 4.785563462859958, 'learning_decay': 0.0788829604293269, 'learning_rate': 0.5515698956761611, 'minNumberPerBmu': 8.472708529806873, 'n_neighbors': 3.4268534761871003, 'radius_decay': 0.028619908155258195, 'x': 34.932621106332675}\n",
      "0.7205464868701206                                                                                                     \n",
      " 11%|█████▌                                            | 11/100 [04:50<41:48, 28.19s/it, best loss: 0.6671841731724628]"
     ]
    },
    {
     "name": "stderr",
     "output_type": "stream",
     "text": [
      "C:\\Users\\Saad\\Desktop\\Hybrid SOM on NSL - MultiClass\\KohonenSom.py:113: FutureWarning: Using a non-tuple sequence for multidimensional indexing is deprecated; use `arr[tuple(seq)]` instead of `arr[seq]`. In the future this will be interpreted as an array index, `arr[np.array(seq)]`, which will result either in an error or a different result.\n",
      "  bmuDistance = bmuDistance[slc]\n",
      "\n"
     ]
    },
    {
     "name": "stdout",
     "output_type": "stream",
     "text": [
      "{'initial_radius': 8.068265850023877, 'learning_decay': 0.057134610485914325, 'learning_rate': 3.285358606987477, 'minNumberPerBmu': 5.7082793482043925, 'n_neighbors': 1.6783640085700204, 'radius_decay': 0.055414847079022125, 'x': 19.887226917715005}\n",
      "0.7609563520227112                                                                                                     \n",
      " 12%|██████                                            | 12/100 [05:01<33:57, 23.15s/it, best loss: 0.6671841731724628]"
     ]
    },
    {
     "name": "stderr",
     "output_type": "stream",
     "text": [
      "C:\\Users\\Saad\\Desktop\\Hybrid SOM on NSL - MultiClass\\KohonenSom.py:113: FutureWarning: Using a non-tuple sequence for multidimensional indexing is deprecated; use `arr[tuple(seq)]` instead of `arr[seq]`. In the future this will be interpreted as an array index, `arr[np.array(seq)]`, which will result either in an error or a different result.\n",
      "  bmuDistance = bmuDistance[slc]\n",
      "\n"
     ]
    },
    {
     "name": "stdout",
     "output_type": "stream",
     "text": [
      "{'initial_radius': 6.930238577727339, 'learning_decay': 0.05232270441231917, 'learning_rate': 7.392802777894945, 'minNumberPerBmu': 5.923261268758973, 'n_neighbors': 2.5083300446389183, 'radius_decay': 0.02027209320893355, 'x': 17.993542566303717}\n",
      "0.6976579134137686                                                                                                     \n",
      " 13%|██████▌                                           | 13/100 [05:12<28:16, 19.50s/it, best loss: 0.6671841731724628]"
     ]
    },
    {
     "name": "stderr",
     "output_type": "stream",
     "text": [
      "C:\\Users\\Saad\\Desktop\\Hybrid SOM on NSL - MultiClass\\KohonenSom.py:113: FutureWarning: Using a non-tuple sequence for multidimensional indexing is deprecated; use `arr[tuple(seq)]` instead of `arr[seq]`. In the future this will be interpreted as an array index, `arr[np.array(seq)]`, which will result either in an error or a different result.\n",
      "  bmuDistance = bmuDistance[slc]\n",
      "\n"
     ]
    },
    {
     "name": "stdout",
     "output_type": "stream",
     "text": [
      "{'initial_radius': 5.48044307723371, 'learning_decay': 0.055486775630020725, 'learning_rate': 7.997034718693537, 'minNumberPerBmu': 5.893329496053148, 'n_neighbors': 5.986627600154035, 'radius_decay': 0.0019092257862279886, 'x': 46.03071448651968}\n",
      "0.7334545777146912                                                                                                     \n",
      " 14%|███████                                           | 14/100 [06:18<47:42, 33.28s/it, best loss: 0.6671841731724628]"
     ]
    },
    {
     "name": "stderr",
     "output_type": "stream",
     "text": [
      "C:\\Users\\Saad\\Desktop\\Hybrid SOM on NSL - MultiClass\\KohonenSom.py:113: FutureWarning: Using a non-tuple sequence for multidimensional indexing is deprecated; use `arr[tuple(seq)]` instead of `arr[seq]`. In the future this will be interpreted as an array index, `arr[np.array(seq)]`, which will result either in an error or a different result.\n",
      "  bmuDistance = bmuDistance[slc]\n",
      "\n"
     ]
    },
    {
     "name": "stdout",
     "output_type": "stream",
     "text": [
      "{'initial_radius': 6.186367748037526, 'learning_decay': 0.030010113244825845, 'learning_rate': 4.774535432466291, 'minNumberPerBmu': 2.7839080076703135, 'n_neighbors': 4.5878621096850445, 'radius_decay': 0.09005988185366273, 'x': 38.011320476363736}\n",
      "0.7224538679914834                                                                                                     \n",
      " 15%|███████▌                                          | 15/100 [07:05<53:03, 37.45s/it, best loss: 0.6671841731724628]"
     ]
    },
    {
     "name": "stderr",
     "output_type": "stream",
     "text": [
      "C:\\Users\\Saad\\Desktop\\Hybrid SOM on NSL - MultiClass\\KohonenSom.py:113: FutureWarning: Using a non-tuple sequence for multidimensional indexing is deprecated; use `arr[tuple(seq)]` instead of `arr[seq]`. In the future this will be interpreted as an array index, `arr[np.array(seq)]`, which will result either in an error or a different result.\n",
      "  bmuDistance = bmuDistance[slc]\n",
      "\n"
     ]
    },
    {
     "name": "stdout",
     "output_type": "stream",
     "text": [
      "{'initial_radius': 9.759629987565887, 'learning_decay': 0.060112923383814125, 'learning_rate': 6.652050984574576, 'minNumberPerBmu': 0.3059148652263022, 'n_neighbors': 1.811055272760624, 'radius_decay': 0.03857955365391757, 'x': 35.88798810180498}\n",
      "0.6354240596167495                                                                                                     \n",
      " 16%|████████                                          | 16/100 [07:51<55:59, 40.00s/it, best loss: 0.6354240596167495]"
     ]
    },
    {
     "name": "stderr",
     "output_type": "stream",
     "text": [
      "C:\\Users\\Saad\\Desktop\\Hybrid SOM on NSL - MultiClass\\KohonenSom.py:113: FutureWarning: Using a non-tuple sequence for multidimensional indexing is deprecated; use `arr[tuple(seq)]` instead of `arr[seq]`. In the future this will be interpreted as an array index, `arr[np.array(seq)]`, which will result either in an error or a different result.\n",
      "  bmuDistance = bmuDistance[slc]\n",
      "\n"
     ]
    },
    {
     "name": "stdout",
     "output_type": "stream",
     "text": [
      "{'initial_radius': 3.362242776127416, 'learning_decay': 0.05869752659342406, 'learning_rate': 6.6147308983149005, 'minNumberPerBmu': 7.651142074301331, 'n_neighbors': 1.6352831054877432, 'radius_decay': 0.058497986639267974, 'x': 34.61809164881655}\n",
      "0.6424769339957417                                                                                                     \n",
      " 17%|████████▌                                         | 17/100 [08:19<50:25, 36.45s/it, best loss: 0.6354240596167495]"
     ]
    },
    {
     "name": "stderr",
     "output_type": "stream",
     "text": [
      "C:\\Users\\Saad\\Desktop\\Hybrid SOM on NSL - MultiClass\\KohonenSom.py:113: FutureWarning: Using a non-tuple sequence for multidimensional indexing is deprecated; use `arr[tuple(seq)]` instead of `arr[seq]`. In the future this will be interpreted as an array index, `arr[np.array(seq)]`, which will result either in an error or a different result.\n",
      "  bmuDistance = bmuDistance[slc]\n",
      "\n"
     ]
    },
    {
     "name": "stdout",
     "output_type": "stream",
     "text": [
      "{'initial_radius': 8.632692143468983, 'learning_decay': 0.0795927264793912, 'learning_rate': 2.447272982917927, 'minNumberPerBmu': 4.561554026094074, 'n_neighbors': 3.0496245606136743, 'radius_decay': 0.037521433640284874, 'x': 27.965466992698943}\n",
      "0.9135468417317246                                                                                                     \n",
      " 18%|█████████                                         | 18/100 [08:33<40:34, 29.69s/it, best loss: 0.6354240596167495]"
     ]
    },
    {
     "name": "stderr",
     "output_type": "stream",
     "text": [
      "C:\\Users\\Saad\\Desktop\\Hybrid SOM on NSL - MultiClass\\KohonenSom.py:113: FutureWarning: Using a non-tuple sequence for multidimensional indexing is deprecated; use `arr[tuple(seq)]` instead of `arr[seq]`. In the future this will be interpreted as an array index, `arr[np.array(seq)]`, which will result either in an error or a different result.\n",
      "  bmuDistance = bmuDistance[slc]\n",
      "\n"
     ]
    },
    {
     "name": "stdout",
     "output_type": "stream",
     "text": [
      "{'initial_radius': 6.503279517428873, 'learning_decay': 0.07702612658862804, 'learning_rate': 4.015814006116732, 'minNumberPerBmu': 8.481391087522006, 'n_neighbors': 5.6112927597773625, 'radius_decay': 0.08634436990783087, 'x': 40.72485406962497}\n",
      "0.9941447835344216                                                                                                     \n",
      " 19%|█████████▌                                        | 19/100 [09:11<43:27, 32.20s/it, best loss: 0.6354240596167495]"
     ]
    },
    {
     "name": "stderr",
     "output_type": "stream",
     "text": [
      "C:\\Users\\Saad\\Desktop\\Hybrid SOM on NSL - MultiClass\\KohonenSom.py:113: FutureWarning: Using a non-tuple sequence for multidimensional indexing is deprecated; use `arr[tuple(seq)]` instead of `arr[seq]`. In the future this will be interpreted as an array index, `arr[np.array(seq)]`, which will result either in an error or a different result.\n",
      "  bmuDistance = bmuDistance[slc]\n",
      "\n"
     ]
    },
    {
     "name": "stdout",
     "output_type": "stream",
     "text": [
      "{'initial_radius': 7.06409314365923, 'learning_decay': 0.03738739038787223, 'learning_rate': 1.720533552427692, 'minNumberPerBmu': 4.272077674420438, 'n_neighbors': 5.488733453701101, 'radius_decay': 0.04676822652680781, 'x': 49.620518634956674}\n",
      "0.7024929027679205                                                                                                     \n",
      " 20%|██████████                                        | 20/100 [10:05<51:39, 38.75s/it, best loss: 0.6354240596167495]"
     ]
    },
    {
     "name": "stderr",
     "output_type": "stream",
     "text": [
      "C:\\Users\\Saad\\Desktop\\Hybrid SOM on NSL - MultiClass\\KohonenSom.py:113: FutureWarning: Using a non-tuple sequence for multidimensional indexing is deprecated; use `arr[tuple(seq)]` instead of `arr[seq]`. In the future this will be interpreted as an array index, `arr[np.array(seq)]`, which will result either in an error or a different result.\n",
      "  bmuDistance = bmuDistance[slc]\n",
      "\n"
     ]
    },
    {
     "name": "stdout",
     "output_type": "stream",
     "text": [
      "{'initial_radius': 3.9644241030435796, 'learning_decay': 0.09230838364852335, 'learning_rate': 6.295445298406369, 'minNumberPerBmu': 9.17866795608287, 'n_neighbors': 1.7764196149244438, 'radius_decay': 0.06669036801800235, 'x': 33.23763599099758}\n",
      "0.7610894251242015                                                                                                     \n",
      " 21%|██████████▌                                       | 21/100 [10:31<46:02, 34.97s/it, best loss: 0.6354240596167495]"
     ]
    },
    {
     "name": "stderr",
     "output_type": "stream",
     "text": [
      "C:\\Users\\Saad\\Desktop\\Hybrid SOM on NSL - MultiClass\\KohonenSom.py:113: FutureWarning: Using a non-tuple sequence for multidimensional indexing is deprecated; use `arr[tuple(seq)]` instead of `arr[seq]`. In the future this will be interpreted as an array index, `arr[np.array(seq)]`, which will result either in an error or a different result.\n",
      "  bmuDistance = bmuDistance[slc]\n",
      "\n"
     ]
    },
    {
     "name": "stdout",
     "output_type": "stream",
     "text": [
      "{'initial_radius': 9.843793560479634, 'learning_decay': 0.0652637076946376, 'learning_rate': 5.886053324454955, 'minNumberPerBmu': 9.79585182157006, 'n_neighbors': 2.775954843754283, 'radius_decay': 0.040939831791329456, 'x': 29.852968042903772}\n",
      "0.7232523066004258                                                                                                     \n",
      " 22%|███████████                                       | 22/100 [10:47<37:57, 29.20s/it, best loss: 0.6354240596167495]"
     ]
    },
    {
     "name": "stderr",
     "output_type": "stream",
     "text": [
      "C:\\Users\\Saad\\Desktop\\Hybrid SOM on NSL - MultiClass\\KohonenSom.py:113: FutureWarning: Using a non-tuple sequence for multidimensional indexing is deprecated; use `arr[tuple(seq)]` instead of `arr[seq]`. In the future this will be interpreted as an array index, `arr[np.array(seq)]`, which will result either in an error or a different result.\n",
      "  bmuDistance = bmuDistance[slc]\n",
      "\n"
     ]
    },
    {
     "name": "stdout",
     "output_type": "stream",
     "text": [
      "{'initial_radius': 1.035931932008162, 'learning_decay': 0.0302525696818294, 'learning_rate': 6.015525013633086, 'minNumberPerBmu': 0.02534524394913562, 'n_neighbors': 1.6755358741351576, 'radius_decay': 0.06925894041337852, 'x': 34.07641066523843}\n",
      "0.6613289567068843                                                                                                     \n",
      " 23%|███████████▌                                      | 23/100 [11:18<38:25, 29.94s/it, best loss: 0.6354240596167495]"
     ]
    },
    {
     "name": "stderr",
     "output_type": "stream",
     "text": [
      "C:\\Users\\Saad\\Desktop\\Hybrid SOM on NSL - MultiClass\\KohonenSom.py:113: FutureWarning: Using a non-tuple sequence for multidimensional indexing is deprecated; use `arr[tuple(seq)]` instead of `arr[seq]`. In the future this will be interpreted as an array index, `arr[np.array(seq)]`, which will result either in an error or a different result.\n",
      "  bmuDistance = bmuDistance[slc]\n",
      "\n"
     ]
    },
    {
     "name": "stdout",
     "output_type": "stream",
     "text": [
      "{'initial_radius': 4.485213148367988, 'learning_decay': 0.061429841085440216, 'learning_rate': 8.469707706714463, 'minNumberPerBmu': 7.415271754291845, 'n_neighbors': 1.1104711603080037, 'radius_decay': 0.03323890013046375, 'x': 49.66747336671922}\n",
      "0.7260468417317246                                                                                                                                                                                                \n",
      " 24%|█████████████████████████████████▊                                                                                                           | 24/100 [12:14<47:32, 37.53s/it, best loss: 0.6354240596167495]"
     ]
    },
    {
     "name": "stderr",
     "output_type": "stream",
     "text": [
      "C:\\Users\\Saad\\Desktop\\Hybrid SOM on NSL - MultiClass\\KohonenSom.py:113: FutureWarning: Using a non-tuple sequence for multidimensional indexing is deprecated; use `arr[tuple(seq)]` instead of `arr[seq]`. In the future this will be interpreted as an array index, `arr[np.array(seq)]`, which will result either in an error or a different result.\n",
      "  bmuDistance = bmuDistance[slc]\n",
      "\n"
     ]
    },
    {
     "name": "stdout",
     "output_type": "stream",
     "text": [
      "{'initial_radius': 3.428753903720852, 'learning_decay': 0.0904040816070202, 'learning_rate': 6.652583614248053, 'minNumberPerBmu': 1.875485836089306, 'n_neighbors': 2.0168728344353104, 'radius_decay': 0.046750771822067654, 'x': 36.014485179741136}\n",
      "0.7164212207239177                                                                                                     \n",
      " 25%|████████████▌                                     | 25/100 [12:44<44:18, 35.45s/it, best loss: 0.6354240596167495]"
     ]
    },
    {
     "name": "stderr",
     "output_type": "stream",
     "text": [
      "C:\\Users\\Saad\\Desktop\\Hybrid SOM on NSL - MultiClass\\KohonenSom.py:113: FutureWarning: Using a non-tuple sequence for multidimensional indexing is deprecated; use `arr[tuple(seq)]` instead of `arr[seq]`. In the future this will be interpreted as an array index, `arr[np.array(seq)]`, which will result either in an error or a different result.\n",
      "  bmuDistance = bmuDistance[slc]\n",
      "\n"
     ]
    },
    {
     "name": "stdout",
     "output_type": "stream",
     "text": [
      "{'initial_radius': 3.635184306521399, 'learning_decay': 0.04503952597889162, 'learning_rate': 8.940934681337895, 'minNumberPerBmu': 9.295928098822229, 'n_neighbors': 2.839723416625705, 'radius_decay': 0.01054370287779384, 'x': 31.515861354831124}\n",
      "0.7546132008516678                                                                                                     \n",
      " 26%|█████████████                                     | 26/100 [13:00<36:27, 29.56s/it, best loss: 0.6354240596167495]"
     ]
    },
    {
     "name": "stderr",
     "output_type": "stream",
     "text": [
      "C:\\Users\\Saad\\Desktop\\Hybrid SOM on NSL - MultiClass\\KohonenSom.py:113: FutureWarning: Using a non-tuple sequence for multidimensional indexing is deprecated; use `arr[tuple(seq)]` instead of `arr[seq]`. In the future this will be interpreted as an array index, `arr[np.array(seq)]`, which will result either in an error or a different result.\n",
      "  bmuDistance = bmuDistance[slc]\n",
      "\n"
     ]
    },
    {
     "name": "stdout",
     "output_type": "stream",
     "text": [
      "{'initial_radius': 1.9951768316874836, 'learning_decay': 0.036490532924721375, 'learning_rate': 5.230904897067117, 'minNumberPerBmu': 6.58353132500059, 'n_neighbors': 1.3881581644314118, 'radius_decay': 0.055314436811651005, 'x': 28.156651796096423}\n",
      "0.7529719659332861                                                                                                     \n",
      " 27%|█████████████▌                                    | 27/100 [13:15<30:26, 25.02s/it, best loss: 0.6354240596167495]"
     ]
    },
    {
     "name": "stderr",
     "output_type": "stream",
     "text": [
      "C:\\Users\\Saad\\Desktop\\Hybrid SOM on NSL - MultiClass\\KohonenSom.py:113: FutureWarning: Using a non-tuple sequence for multidimensional indexing is deprecated; use `arr[tuple(seq)]` instead of `arr[seq]`. In the future this will be interpreted as an array index, `arr[np.array(seq)]`, which will result either in an error or a different result.\n",
      "  bmuDistance = bmuDistance[slc]\n",
      "\n"
     ]
    },
    {
     "name": "stdout",
     "output_type": "stream",
     "text": [
      "{'initial_radius': 1.6327722642263753, 'learning_decay': 0.07212760149659908, 'learning_rate': 9.987903878901427, 'minNumberPerBmu': 7.950254699452142, 'n_neighbors': 4.5169549043007375, 'radius_decay': 0.0718191920155175, 'x': 25.109888026135614}\n",
      "0.7146912704045423                                                                                                     \n",
      " 28%|██████████████                                    | 28/100 [13:27<25:23, 21.16s/it, best loss: 0.6354240596167495]"
     ]
    },
    {
     "name": "stderr",
     "output_type": "stream",
     "text": [
      "C:\\Users\\Saad\\Desktop\\Hybrid SOM on NSL - MultiClass\\KohonenSom.py:113: FutureWarning: Using a non-tuple sequence for multidimensional indexing is deprecated; use `arr[tuple(seq)]` instead of `arr[seq]`. In the future this will be interpreted as an array index, `arr[np.array(seq)]`, which will result either in an error or a different result.\n",
      "  bmuDistance = bmuDistance[slc]\n",
      "\n"
     ]
    },
    {
     "name": "stdout",
     "output_type": "stream",
     "text": [
      "{'initial_radius': 2.7653635739281293, 'learning_decay': 0.0869505334631235, 'learning_rate': 7.113312208789844, 'minNumberPerBmu': 5.287802424412979, 'n_neighbors': 3.239199738142505, 'radius_decay': 0.06197859239625002, 'x': 47.141501760142155}\n",
      "0.8950496806245565                                                                                                     \n",
      " 29%|██████████████▍                                   | 29/100 [14:20<36:33, 30.90s/it, best loss: 0.6354240596167495]"
     ]
    },
    {
     "name": "stderr",
     "output_type": "stream",
     "text": [
      "C:\\Users\\Saad\\Desktop\\Hybrid SOM on NSL - MultiClass\\KohonenSom.py:113: FutureWarning: Using a non-tuple sequence for multidimensional indexing is deprecated; use `arr[tuple(seq)]` instead of `arr[seq]`. In the future this will be interpreted as an array index, `arr[np.array(seq)]`, which will result either in an error or a different result.\n",
      "  bmuDistance = bmuDistance[slc]\n",
      "\n"
     ]
    },
    {
     "name": "stdout",
     "output_type": "stream",
     "text": [
      "{'initial_radius': 4.70402144133983, 'learning_decay': 0.023805885250164173, 'learning_rate': 5.585959847365109, 'minNumberPerBmu': 0.2425595932085231, 'n_neighbors': 2.587226318449842, 'radius_decay': 0.040683305461439195, 'x': 36.26663123170723}\n",
      "0.6977022711142654                                                                                                     \n",
      " 30%|███████████████                                   | 30/100 [14:58<38:29, 32.99s/it, best loss: 0.6354240596167495]"
     ]
    },
    {
     "name": "stderr",
     "output_type": "stream",
     "text": [
      "C:\\Users\\Saad\\Desktop\\Hybrid SOM on NSL - MultiClass\\KohonenSom.py:113: FutureWarning: Using a non-tuple sequence for multidimensional indexing is deprecated; use `arr[tuple(seq)]` instead of `arr[seq]`. In the future this will be interpreted as an array index, `arr[np.array(seq)]`, which will result either in an error or a different result.\n",
      "  bmuDistance = bmuDistance[slc]\n",
      "\n"
     ]
    },
    {
     "name": "stdout",
     "output_type": "stream",
     "text": [
      "{'initial_radius': 3.060542990647192, 'learning_decay': 0.06113385509331538, 'learning_rate': 6.603443246953954, 'minNumberPerBmu': 6.755748628147257, 'n_neighbors': 1.9623117424696206, 'radius_decay': 0.0008377635871103795, 'x': 43.39441445605728}\n",
      "0.7182398864442867                                                                                                     \n",
      " 31%|███████████████▌                                  | 31/100 [15:41<41:12, 35.84s/it, best loss: 0.6354240596167495]"
     ]
    },
    {
     "name": "stderr",
     "output_type": "stream",
     "text": [
      "C:\\Users\\Saad\\Desktop\\Hybrid SOM on NSL - MultiClass\\KohonenSom.py:113: FutureWarning: Using a non-tuple sequence for multidimensional indexing is deprecated; use `arr[tuple(seq)]` instead of `arr[seq]`. In the future this will be interpreted as an array index, `arr[np.array(seq)]`, which will result either in an error or a different result.\n",
      "  bmuDistance = bmuDistance[slc]\n",
      "\n"
     ]
    },
    {
     "name": "stdout",
     "output_type": "stream",
     "text": [
      "{'initial_radius': 9.886042885016195, 'learning_decay': 0.0458665272388819, 'learning_rate': 9.200490211693454, 'minNumberPerBmu': 9.944874704051001, 'n_neighbors': 1.069841610041471, 'radius_decay': 0.060606590243921746, 'x': 43.958119935521836}\n",
      "0.8142743080198722                                                                                                     \n",
      " 32%|████████████████                                  | 32/100 [16:24<43:05, 38.03s/it, best loss: 0.6354240596167495]"
     ]
    },
    {
     "name": "stderr",
     "output_type": "stream",
     "text": [
      "C:\\Users\\Saad\\Desktop\\Hybrid SOM on NSL - MultiClass\\KohonenSom.py:113: FutureWarning: Using a non-tuple sequence for multidimensional indexing is deprecated; use `arr[tuple(seq)]` instead of `arr[seq]`. In the future this will be interpreted as an array index, `arr[np.array(seq)]`, which will result either in an error or a different result.\n",
      "  bmuDistance = bmuDistance[slc]\n",
      "\n"
     ]
    },
    {
     "name": "stdout",
     "output_type": "stream",
     "text": [
      "{'initial_radius': 8.858194818806876, 'learning_decay': 0.05033728988942654, 'learning_rate': 8.119498159969737, 'minNumberPerBmu': 5.020641500335142, 'n_neighbors': 1.411043877080817, 'radius_decay': 0.0313112696632855, 'x': 32.3738526005614}\n",
      "0.6462473385379701                                                                                                     \n",
      " 33%|████████████████▌                                 | 33/100 [16:48<37:43, 33.78s/it, best loss: 0.6354240596167495]"
     ]
    },
    {
     "name": "stderr",
     "output_type": "stream",
     "text": [
      "C:\\Users\\Saad\\Desktop\\Hybrid SOM on NSL - MultiClass\\KohonenSom.py:113: FutureWarning: Using a non-tuple sequence for multidimensional indexing is deprecated; use `arr[tuple(seq)]` instead of `arr[seq]`. In the future this will be interpreted as an array index, `arr[np.array(seq)]`, which will result either in an error or a different result.\n",
      "  bmuDistance = bmuDistance[slc]\n",
      "\n"
     ]
    },
    {
     "name": "stdout",
     "output_type": "stream",
     "text": [
      "{'initial_radius': 3.8716569810496546, 'learning_decay': 0.002881410072492374, 'learning_rate': 7.419787226895269, 'minNumberPerBmu': 7.754501441513685, 'n_neighbors': 4.499677588981735, 'radius_decay': 0.025323038181345597, 'x': 25.959530214265975}\n",
      "0.6359119943222143                                                                                                     \n",
      " 34%|█████████████████                                 | 34/100 [16:59<29:52, 27.16s/it, best loss: 0.6354240596167495]"
     ]
    },
    {
     "name": "stderr",
     "output_type": "stream",
     "text": [
      "C:\\Users\\Saad\\Desktop\\Hybrid SOM on NSL - MultiClass\\KohonenSom.py:113: FutureWarning: Using a non-tuple sequence for multidimensional indexing is deprecated; use `arr[tuple(seq)]` instead of `arr[seq]`. In the future this will be interpreted as an array index, `arr[np.array(seq)]`, which will result either in an error or a different result.\n",
      "  bmuDistance = bmuDistance[slc]\n",
      "\n"
     ]
    },
    {
     "name": "stdout",
     "output_type": "stream",
     "text": [
      "{'initial_radius': 5.072082737025729, 'learning_decay': 0.010792320580610134, 'learning_rate': 9.99607515305722, 'minNumberPerBmu': 2.43620700479179, 'n_neighbors': 4.4551725550460946, 'radius_decay': 0.024682402365483958, 'x': 22.84086209753146}\n",
      "0.6886976579134138                                                                                                     \n",
      " 35%|█████████████████▌                                | 35/100 [17:09<23:48, 21.97s/it, best loss: 0.6354240596167495]"
     ]
    },
    {
     "name": "stderr",
     "output_type": "stream",
     "text": [
      "C:\\Users\\Saad\\Desktop\\Hybrid SOM on NSL - MultiClass\\KohonenSom.py:113: FutureWarning: Using a non-tuple sequence for multidimensional indexing is deprecated; use `arr[tuple(seq)]` instead of `arr[seq]`. In the future this will be interpreted as an array index, `arr[np.array(seq)]`, which will result either in an error or a different result.\n",
      "  bmuDistance = bmuDistance[slc]\n",
      "\n"
     ]
    },
    {
     "name": "stdout",
     "output_type": "stream",
     "text": [
      "{'initial_radius': 7.574465380727405, 'learning_decay': 0.0015558071956693288, 'learning_rate': 7.43202641323446, 'minNumberPerBmu': 3.331648100838919, 'n_neighbors': 4.879658165468475, 'radius_decay': 0.005315000137628444, 'x': 25.62649243910565}\n",
      "0.6360894251242015                                                                                                     \n",
      " 36%|██████████████████                                | 36/100 [17:20<19:44, 18.50s/it, best loss: 0.6354240596167495]"
     ]
    },
    {
     "name": "stderr",
     "output_type": "stream",
     "text": [
      "C:\\Users\\Saad\\Desktop\\Hybrid SOM on NSL - MultiClass\\KohonenSom.py:113: FutureWarning: Using a non-tuple sequence for multidimensional indexing is deprecated; use `arr[tuple(seq)]` instead of `arr[seq]`. In the future this will be interpreted as an array index, `arr[np.array(seq)]`, which will result either in an error or a different result.\n",
      "  bmuDistance = bmuDistance[slc]\n",
      "\n"
     ]
    },
    {
     "name": "stdout",
     "output_type": "stream",
     "text": [
      "{'initial_radius': 4.272462961084835, 'learning_decay': 0.02155577119196668, 'learning_rate': 5.281141731546156, 'minNumberPerBmu': 8.860317775903123, 'n_neighbors': 4.883095049873404, 'radius_decay': 0.025167084841515277, 'x': 29.236274688624928}\n",
      "0.6770315826827538                                                                                                     \n",
      " 37%|██████████████████▌                               | 37/100 [17:33<17:53, 17.04s/it, best loss: 0.6354240596167495]"
     ]
    },
    {
     "name": "stderr",
     "output_type": "stream",
     "text": [
      "C:\\Users\\Saad\\Desktop\\Hybrid SOM on NSL - MultiClass\\KohonenSom.py:113: FutureWarning: Using a non-tuple sequence for multidimensional indexing is deprecated; use `arr[tuple(seq)]` instead of `arr[seq]`. In the future this will be interpreted as an array index, `arr[np.array(seq)]`, which will result either in an error or a different result.\n",
      "  bmuDistance = bmuDistance[slc]\n",
      "\n"
     ]
    },
    {
     "name": "stdout",
     "output_type": "stream",
     "text": [
      "{'initial_radius': 9.241891505765158, 'learning_decay': 0.00860803992153777, 'learning_rate': 4.105326749023933, 'minNumberPerBmu': 6.614050841359861, 'n_neighbors': 4.171283532759148, 'radius_decay': 0.017138469608437276, 'x': 16.853847032303104}\n",
      "0.6852377572746629                                                                                                     \n",
      " 38%|███████████████████                               | 38/100 [17:39<14:13, 13.76s/it, best loss: 0.6354240596167495]"
     ]
    },
    {
     "name": "stderr",
     "output_type": "stream",
     "text": [
      "C:\\Users\\Saad\\Desktop\\Hybrid SOM on NSL - MultiClass\\KohonenSom.py:113: FutureWarning: Using a non-tuple sequence for multidimensional indexing is deprecated; use `arr[tuple(seq)]` instead of `arr[seq]`. In the future this will be interpreted as an array index, `arr[np.array(seq)]`, which will result either in an error or a different result.\n",
      "  bmuDistance = bmuDistance[slc]\n",
      "\n"
     ]
    },
    {
     "name": "stdout",
     "output_type": "stream",
     "text": [
      "{'initial_radius': 1.6991192074409724, 'learning_decay': 0.03782629402132415, 'learning_rate': 8.816576188302092, 'minNumberPerBmu': 0.6746957856179872, 'n_neighbors': 3.6911020597496806, 'radius_decay': 0.049412378728535565, 'x': 21.770174061130398}\n",
      "0.6827980837473385                                                                                                     \n",
      " 39%|███████████████████▌                              | 39/100 [17:50<13:02, 12.82s/it, best loss: 0.6354240596167495]"
     ]
    },
    {
     "name": "stderr",
     "output_type": "stream",
     "text": [
      "C:\\Users\\Saad\\Desktop\\Hybrid SOM on NSL - MultiClass\\KohonenSom.py:113: FutureWarning: Using a non-tuple sequence for multidimensional indexing is deprecated; use `arr[tuple(seq)]` instead of `arr[seq]`. In the future this will be interpreted as an array index, `arr[np.array(seq)]`, which will result either in an error or a different result.\n",
      "  bmuDistance = bmuDistance[slc]\n",
      "\n"
     ]
    },
    {
     "name": "stdout",
     "output_type": "stream",
     "text": [
      "{'initial_radius': 5.143442062986154, 'learning_decay': 0.017199296804841117, 'learning_rate': 3.446084460588479, 'minNumberPerBmu': 2.0410749576242937, 'n_neighbors': 4.155670990180232, 'radius_decay': 0.00781434680662801, 'x': 26.80811226023614}\n",
      "0.6494410929737402                                                                                                     \n",
      " 40%|████████████████████                              | 40/100 [18:01<12:19, 12.33s/it, best loss: 0.6354240596167495]"
     ]
    },
    {
     "name": "stderr",
     "output_type": "stream",
     "text": [
      "C:\\Users\\Saad\\Desktop\\Hybrid SOM on NSL - MultiClass\\KohonenSom.py:113: FutureWarning: Using a non-tuple sequence for multidimensional indexing is deprecated; use `arr[tuple(seq)]` instead of `arr[seq]`. In the future this will be interpreted as an array index, `arr[np.array(seq)]`, which will result either in an error or a different result.\n",
      "  bmuDistance = bmuDistance[slc]\n",
      "\n"
     ]
    },
    {
     "name": "stdout",
     "output_type": "stream",
     "text": [
      "{'initial_radius': 3.8778640555641335, 'learning_decay': 0.09794712273197034, 'learning_rate': 7.679641017832301, 'minNumberPerBmu': 4.359293939874471, 'n_neighbors': 5.184937575073981, 'radius_decay': 0.03609324455848256, 'x': 14.656975411612084}\n",
      "0.8351224272533712                                                                                                     \n",
      " 41%|████████████████████▌                             | 41/100 [18:06<10:02, 10.21s/it, best loss: 0.6354240596167495]"
     ]
    },
    {
     "name": "stderr",
     "output_type": "stream",
     "text": [
      "C:\\Users\\Saad\\Desktop\\Hybrid SOM on NSL - MultiClass\\KohonenSom.py:113: FutureWarning: Using a non-tuple sequence for multidimensional indexing is deprecated; use `arr[tuple(seq)]` instead of `arr[seq]`. In the future this will be interpreted as an array index, `arr[np.array(seq)]`, which will result either in an error or a different result.\n",
      "  bmuDistance = bmuDistance[slc]\n",
      "\n"
     ]
    },
    {
     "name": "stdout",
     "output_type": "stream",
     "text": [
      "{'initial_radius': 6.067455144188099, 'learning_decay': 0.06899726270788857, 'learning_rate': 8.5407904521574, 'minNumberPerBmu': 5.36222197851731, 'n_neighbors': 3.781755647223757, 'radius_decay': 0.019532029292055192, 'x': 31.351835139176252}\n",
      "0.7166873669268985                                                                                                     \n",
      " 42%|█████████████████████                             | 42/100 [18:22<11:28, 11.86s/it, best loss: 0.6354240596167495]"
     ]
    },
    {
     "name": "stderr",
     "output_type": "stream",
     "text": [
      "C:\\Users\\Saad\\Desktop\\Hybrid SOM on NSL - MultiClass\\KohonenSom.py:113: FutureWarning: Using a non-tuple sequence for multidimensional indexing is deprecated; use `arr[tuple(seq)]` instead of `arr[seq]`. In the future this will be interpreted as an array index, `arr[np.array(seq)]`, which will result either in an error or a different result.\n",
      "  bmuDistance = bmuDistance[slc]\n",
      "\n"
     ]
    },
    {
     "name": "stdout",
     "output_type": "stream",
     "text": [
      "{'initial_radius': 2.4370417755460574, 'learning_decay': 0.0842147176037491, 'learning_rate': 1.5514578547823312, 'minNumberPerBmu': 1.3758004512513282, 'n_neighbors': 3.255993219637828, 'radius_decay': 0.04421305952832234, 'x': 39.04393260036511}\n",
      "0.7207682753726047                                                                                                     \n",
      " 43%|█████████████████████▌                            | 43/100 [18:52<16:29, 17.35s/it, best loss: 0.6354240596167495]"
     ]
    },
    {
     "name": "stderr",
     "output_type": "stream",
     "text": [
      "C:\\Users\\Saad\\Desktop\\Hybrid SOM on NSL - MultiClass\\KohonenSom.py:113: FutureWarning: Using a non-tuple sequence for multidimensional indexing is deprecated; use `arr[tuple(seq)]` instead of `arr[seq]`. In the future this will be interpreted as an array index, `arr[np.array(seq)]`, which will result either in an error or a different result.\n",
      "  bmuDistance = bmuDistance[slc]\n",
      "\n"
     ]
    },
    {
     "name": "stdout",
     "output_type": "stream",
     "text": [
      "{'initial_radius': 6.826806413327025, 'learning_decay': 0.00028688715965560167, 'learning_rate': 7.076810682530457, 'minNumberPerBmu': 3.3906856179512417, 'n_neighbors': 5.051342539931224, 'radius_decay': 0.028355252942619792, 'x': 10.207800673613018}\n",
      "0.696415897799858                                                                                                      \n",
      " 44%|██████████████████████                            | 44/100 [18:57<12:42, 13.61s/it, best loss: 0.6354240596167495]"
     ]
    },
    {
     "name": "stderr",
     "output_type": "stream",
     "text": [
      "C:\\Users\\Saad\\Desktop\\Hybrid SOM on NSL - MultiClass\\KohonenSom.py:113: FutureWarning: Using a non-tuple sequence for multidimensional indexing is deprecated; use `arr[tuple(seq)]` instead of `arr[seq]`. In the future this will be interpreted as an array index, `arr[np.array(seq)]`, which will result either in an error or a different result.\n",
      "  bmuDistance = bmuDistance[slc]\n",
      "\n"
     ]
    },
    {
     "name": "stdout",
     "output_type": "stream",
     "text": [
      "{'initial_radius': 8.185934511868743, 'learning_decay': 0.041489428087591096, 'learning_rate': 4.5676062413070735, 'minNumberPerBmu': 6.293952029417671, 'n_neighbors': 2.334239260832131, 'radius_decay': 0.052444367093573356, 'x': 21.850963712688138}\n",
      "0.677874378992193                                                                                                      \n",
      " 45%|██████████████████████▌                           | 45/100 [19:06<11:00, 12.02s/it, best loss: 0.6354240596167495]"
     ]
    },
    {
     "name": "stderr",
     "output_type": "stream",
     "text": [
      "C:\\Users\\Saad\\Desktop\\Hybrid SOM on NSL - MultiClass\\KohonenSom.py:113: FutureWarning: Using a non-tuple sequence for multidimensional indexing is deprecated; use `arr[tuple(seq)]` instead of `arr[seq]`. In the future this will be interpreted as an array index, `arr[np.array(seq)]`, which will result either in an error or a different result.\n",
      "  bmuDistance = bmuDistance[slc]\n",
      "\n"
     ]
    },
    {
     "name": "stdout",
     "output_type": "stream",
     "text": [
      "{'initial_radius': 7.411603273556376, 'learning_decay': 0.0663649122383965, 'learning_rate': 9.73968642603665, 'minNumberPerBmu': 3.8255114143567175, 'n_neighbors': 5.917932964161883, 'radius_decay': 0.013061104233941176, 'x': 16.01983191531111}\n",
      "0.7004524485450674                                                                                                     \n",
      " 46%|███████████████████████                           | 46/100 [19:12<09:21, 10.40s/it, best loss: 0.6354240596167495]"
     ]
    },
    {
     "name": "stderr",
     "output_type": "stream",
     "text": [
      "C:\\Users\\Saad\\Desktop\\Hybrid SOM on NSL - MultiClass\\KohonenSom.py:113: FutureWarning: Using a non-tuple sequence for multidimensional indexing is deprecated; use `arr[tuple(seq)]` instead of `arr[seq]`. In the future this will be interpreted as an array index, `arr[np.array(seq)]`, which will result either in an error or a different result.\n",
      "  bmuDistance = bmuDistance[slc]\n",
      "\n"
     ]
    },
    {
     "name": "stdout",
     "output_type": "stream",
     "text": [
      "{'initial_radius': 2.843521947014748, 'learning_decay': 0.03217530298625615, 'learning_rate': 9.525625603924698, 'minNumberPerBmu': 7.900430371267292, 'n_neighbors': 5.323564451715215, 'radius_decay': 0.09709023755506441, 'x': 41.69812916636426}\n",
      "0.7741305890702626                                                                                                     \n",
      " 47%|███████████████████████▌                          | 47/100 [19:46<15:22, 17.40s/it, best loss: 0.6354240596167495]"
     ]
    },
    {
     "name": "stderr",
     "output_type": "stream",
     "text": [
      "C:\\Users\\Saad\\Desktop\\Hybrid SOM on NSL - MultiClass\\KohonenSom.py:113: FutureWarning: Using a non-tuple sequence for multidimensional indexing is deprecated; use `arr[tuple(seq)]` instead of `arr[seq]`. In the future this will be interpreted as an array index, `arr[np.array(seq)]`, which will result either in an error or a different result.\n",
      "  bmuDistance = bmuDistance[slc]\n",
      "\n"
     ]
    },
    {
     "name": "stdout",
     "output_type": "stream",
     "text": [
      "{'initial_radius': 5.621192650831293, 'learning_decay': 0.05198190408467085, 'learning_rate': 5.666730272076147, 'minNumberPerBmu': 8.322956510295143, 'n_neighbors': 3.495376610955301, 'radius_decay': 0.07605135132591584, 'x': 19.557511956962728}\n",
      "0.8531316536550745                                                                                                     \n",
      " 48%|████████████████████████                          | 48/100 [19:54<12:43, 14.68s/it, best loss: 0.6354240596167495]"
     ]
    },
    {
     "name": "stderr",
     "output_type": "stream",
     "text": [
      "C:\\Users\\Saad\\Desktop\\Hybrid SOM on NSL - MultiClass\\KohonenSom.py:113: FutureWarning: Using a non-tuple sequence for multidimensional indexing is deprecated; use `arr[tuple(seq)]` instead of `arr[seq]`. In the future this will be interpreted as an array index, `arr[np.array(seq)]`, which will result either in an error or a different result.\n",
      "  bmuDistance = bmuDistance[slc]\n",
      "\n"
     ]
    },
    {
     "name": "stdout",
     "output_type": "stream",
     "text": [
      "{'initial_radius': 9.498563671235088, 'learning_decay': 0.02643694192424689, 'learning_rate': 8.21553191561727, 'minNumberPerBmu': 7.035291906966838, 'n_neighbors': 5.825985896263234, 'radius_decay': 0.022136482076763563, 'x': 36.67373812566007}\n",
      "0.6851046841731725                                                                                                     \n",
      " 49%|████████████████████████▌                         | 49/100 [20:23<16:00, 18.83s/it, best loss: 0.6354240596167495]"
     ]
    },
    {
     "name": "stderr",
     "output_type": "stream",
     "text": [
      "C:\\Users\\Saad\\Desktop\\Hybrid SOM on NSL - MultiClass\\KohonenSom.py:113: FutureWarning: Using a non-tuple sequence for multidimensional indexing is deprecated; use `arr[tuple(seq)]` instead of `arr[seq]`. In the future this will be interpreted as an array index, `arr[np.array(seq)]`, which will result either in an error or a different result.\n",
      "  bmuDistance = bmuDistance[slc]\n",
      "\n"
     ]
    },
    {
     "name": "stdout",
     "output_type": "stream",
     "text": [
      "{'initial_radius': 4.202726115584696, 'learning_decay': 0.07401402567025583, 'learning_rate': 3.0043118799448627, 'minNumberPerBmu': 8.84582089900691, 'n_neighbors': 4.711810253707842, 'radius_decay': 0.03579307973496665, 'x': 46.72690524914912}\n",
      "0.6847941802696949                                                                                                     \n",
      " 50%|█████████████████████████                         | 50/100 [21:14<23:40, 28.42s/it, best loss: 0.6354240596167495]"
     ]
    },
    {
     "name": "stderr",
     "output_type": "stream",
     "text": [
      "C:\\Users\\Saad\\Desktop\\Hybrid SOM on NSL - MultiClass\\KohonenSom.py:113: FutureWarning: Using a non-tuple sequence for multidimensional indexing is deprecated; use `arr[tuple(seq)]` instead of `arr[seq]`. In the future this will be interpreted as an array index, `arr[np.array(seq)]`, which will result either in an error or a different result.\n",
      "  bmuDistance = bmuDistance[slc]\n",
      "\n"
     ]
    },
    {
     "name": "stdout",
     "output_type": "stream",
     "text": [
      "{'initial_radius': 5.898646022623611, 'learning_decay': 0.016547445836045935, 'learning_rate': 0.1442238682456125, 'minNumberPerBmu': 7.0929035450487685, 'n_neighbors': 4.21528985250168, 'radius_decay': 0.027210180400111156, 'x': 37.57881426890188}\n",
      "0.7967530163236338                                                                                                     \n",
      " 51%|█████████████████████████▌                        | 51/100 [21:48<24:39, 30.19s/it, best loss: 0.6354240596167495]"
     ]
    },
    {
     "name": "stderr",
     "output_type": "stream",
     "text": [
      "C:\\Users\\Saad\\Desktop\\Hybrid SOM on NSL - MultiClass\\KohonenSom.py:113: FutureWarning: Using a non-tuple sequence for multidimensional indexing is deprecated; use `arr[tuple(seq)]` instead of `arr[seq]`. In the future this will be interpreted as an array index, `arr[np.array(seq)]`, which will result either in an error or a different result.\n",
      "  bmuDistance = bmuDistance[slc]\n",
      "\n"
     ]
    },
    {
     "name": "stdout",
     "output_type": "stream",
     "text": [
      "{'initial_radius': 5.248157755158405, 'learning_decay': 0.006812780502835996, 'learning_rate': 7.686667707942395, 'minNumberPerBmu': 4.783442856030665, 'n_neighbors': 3.016876404656129, 'radius_decay': 0.04093431715541547, 'x': 12.647473838900243}\n",
      "0.6772533711852378                                                                                                     \n",
      " 52%|██████████████████████████                        | 52/100 [21:53<18:11, 22.74s/it, best loss: 0.6354240596167495]"
     ]
    },
    {
     "name": "stderr",
     "output_type": "stream",
     "text": [
      "C:\\Users\\Saad\\Desktop\\Hybrid SOM on NSL - MultiClass\\KohonenSom.py:113: FutureWarning: Using a non-tuple sequence for multidimensional indexing is deprecated; use `arr[tuple(seq)]` instead of `arr[seq]`. In the future this will be interpreted as an array index, `arr[np.array(seq)]`, which will result either in an error or a different result.\n",
      "  bmuDistance = bmuDistance[slc]\n",
      "\n"
     ]
    },
    {
     "name": "stdout",
     "output_type": "stream",
     "text": [
      "{'initial_radius': 6.431258106065372, 'learning_decay': 0.056070076240405914, 'learning_rate': 6.735684881728837, 'minNumberPerBmu': 2.9878181876218073, 'n_neighbors': 3.997928581280343, 'radius_decay': 0.015660035348962133, 'x': 26.586459301621115}\n",
      "0.705331795599716                                                                                                      \n",
      " 53%|██████████████████████████▌                       | 53/100 [22:06<15:23, 19.66s/it, best loss: 0.6354240596167495]"
     ]
    },
    {
     "name": "stderr",
     "output_type": "stream",
     "text": [
      "C:\\Users\\Saad\\Desktop\\Hybrid SOM on NSL - MultiClass\\KohonenSom.py:113: FutureWarning: Using a non-tuple sequence for multidimensional indexing is deprecated; use `arr[tuple(seq)]` instead of `arr[seq]`. In the future this will be interpreted as an array index, `arr[np.array(seq)]`, which will result either in an error or a different result.\n",
      "  bmuDistance = bmuDistance[slc]\n",
      "\n"
     ]
    },
    {
     "name": "stdout",
     "output_type": "stream",
     "text": [
      "{'initial_radius': 1.4182623187857302, 'learning_decay': 0.04800866980536012, 'learning_rate': 6.041721243212475, 'minNumberPerBmu': 9.70632769150443, 'n_neighbors': 4.323325751577755, 'radius_decay': 0.06390256974377392, 'x': 23.85213119780701}\n",
      "0.8953158268275373                                                                                                     \n",
      " 54%|███████████████████████████                       | 54/100 [22:17<13:06, 17.10s/it, best loss: 0.6354240596167495]"
     ]
    },
    {
     "name": "stderr",
     "output_type": "stream",
     "text": [
      "C:\\Users\\Saad\\Desktop\\Hybrid SOM on NSL - MultiClass\\KohonenSom.py:113: FutureWarning: Using a non-tuple sequence for multidimensional indexing is deprecated; use `arr[tuple(seq)]` instead of `arr[seq]`. In the future this will be interpreted as an array index, `arr[np.array(seq)]`, which will result either in an error or a different result.\n",
      "  bmuDistance = bmuDistance[slc]\n",
      "\n"
     ]
    },
    {
     "name": "stdout",
     "output_type": "stream",
     "text": [
      "{'initial_radius': 8.18354331125662, 'learning_decay': 0.08329247754484125, 'learning_rate': 4.538091615912183, 'minNumberPerBmu': 5.784277623586963, 'n_neighbors': 2.1159824163609535, 'radius_decay': 0.030728538592304483, 'x': 40.88679353931219}\n",
      "0.950541163946061                                                                                                      \n",
      " 55%|███████████████████████████▌                      | 55/100 [23:00<18:41, 24.91s/it, best loss: 0.6354240596167495]"
     ]
    },
    {
     "name": "stderr",
     "output_type": "stream",
     "text": [
      "C:\\Users\\Saad\\Desktop\\Hybrid SOM on NSL - MultiClass\\KohonenSom.py:113: FutureWarning: Using a non-tuple sequence for multidimensional indexing is deprecated; use `arr[tuple(seq)]` instead of `arr[seq]`. In the future this will be interpreted as an array index, `arr[np.array(seq)]`, which will result either in an error or a different result.\n",
      "  bmuDistance = bmuDistance[slc]\n",
      "\n"
     ]
    },
    {
     "name": "stdout",
     "output_type": "stream",
     "text": [
      "{'initial_radius': 2.1099981198072175, 'learning_decay': 0.014019880393616839, 'learning_rate': 6.307529882625387, 'minNumberPerBmu': 4.049734879735165, 'n_neighbors': 2.4345598073222092, 'radius_decay': 0.00462041169389487, 'x': 30.741594251363903}\n",
      "0.6448278921220724                                                                                                     \n",
      " 56%|████████████████████████████                      | 56/100 [23:18<16:40, 22.75s/it, best loss: 0.6354240596167495]"
     ]
    },
    {
     "name": "stderr",
     "output_type": "stream",
     "text": [
      "C:\\Users\\Saad\\Desktop\\Hybrid SOM on NSL - MultiClass\\KohonenSom.py:113: FutureWarning: Using a non-tuple sequence for multidimensional indexing is deprecated; use `arr[tuple(seq)]` instead of `arr[seq]`. In the future this will be interpreted as an array index, `arr[np.array(seq)]`, which will result either in an error or a different result.\n",
      "  bmuDistance = bmuDistance[slc]\n",
      "\n"
     ]
    },
    {
     "name": "stdout",
     "output_type": "stream",
     "text": [
      "{'initial_radius': 3.1403644990074158, 'learning_decay': 0.09368232386443805, 'learning_rate': 5.1417587219619305, 'minNumberPerBmu': 0.6336753179557151, 'n_neighbors': 5.721044718582407, 'radius_decay': 0.048704656772143175, 'x': 33.91134199015761}\n",
      "0.9094659332860184                                                                                                     \n",
      " 57%|████████████████████████████▍                     | 57/100 [23:56<19:34, 27.31s/it, best loss: 0.6354240596167495]"
     ]
    },
    {
     "name": "stderr",
     "output_type": "stream",
     "text": [
      "C:\\Users\\Saad\\Desktop\\Hybrid SOM on NSL - MultiClass\\KohonenSom.py:113: FutureWarning: Using a non-tuple sequence for multidimensional indexing is deprecated; use `arr[tuple(seq)]` instead of `arr[seq]`. In the future this will be interpreted as an array index, `arr[np.array(seq)]`, which will result either in an error or a different result.\n",
      "  bmuDistance = bmuDistance[slc]\n",
      "\n"
     ]
    },
    {
     "name": "stdout",
     "output_type": "stream",
     "text": [
      "{'initial_radius': 4.7940679423338395, 'learning_decay': 0.06308030823291194, 'learning_rate': 3.9208861840869296, 'minNumberPerBmu': 7.629256294614013, 'n_neighbors': 2.704120941978843, 'radius_decay': 0.04382793842773307, 'x': 28.69794946652045}\n",
      "0.6862136266855926                                                                                                     \n",
      " 58%|████████████████████████████▉                     | 58/100 [24:12<16:48, 24.01s/it, best loss: 0.6354240596167495]"
     ]
    },
    {
     "name": "stderr",
     "output_type": "stream",
     "text": [
      "C:\\Users\\Saad\\Desktop\\Hybrid SOM on NSL - MultiClass\\KohonenSom.py:113: FutureWarning: Using a non-tuple sequence for multidimensional indexing is deprecated; use `arr[tuple(seq)]` instead of `arr[seq]`. In the future this will be interpreted as an array index, `arr[np.array(seq)]`, which will result either in an error or a different result.\n",
      "  bmuDistance = bmuDistance[slc]\n",
      "\n"
     ]
    },
    {
     "name": "stdout",
     "output_type": "stream",
     "text": [
      "{'initial_radius': 3.5668016330765155, 'learning_decay': 0.05399915066065856, 'learning_rate': 1.300756118062869, 'minNumberPerBmu': 5.492979358223416, 'n_neighbors': 3.336069892164077, 'radius_decay': 0.05353345794669631, 'x': 45.11191516054184}\n",
      "0.7359386089425124                                                                                                     \n",
      " 59%|█████████████████████████████▌                    | 59/100 [25:05<22:25, 32.82s/it, best loss: 0.6354240596167495]"
     ]
    },
    {
     "name": "stderr",
     "output_type": "stream",
     "text": [
      "C:\\Users\\Saad\\Desktop\\Hybrid SOM on NSL - MultiClass\\KohonenSom.py:113: FutureWarning: Using a non-tuple sequence for multidimensional indexing is deprecated; use `arr[tuple(seq)]` instead of `arr[seq]`. In the future this will be interpreted as an array index, `arr[np.array(seq)]`, which will result either in an error or a different result.\n",
      "  bmuDistance = bmuDistance[slc]\n",
      "\n"
     ]
    },
    {
     "name": "stdout",
     "output_type": "stream",
     "text": [
      "{'initial_radius': 6.678756888180283, 'learning_decay': 0.04104511115213901, 'learning_rate': 6.997317574248553, 'minNumberPerBmu': 9.384216534317686, 'n_neighbors': 3.707749162556371, 'radius_decay': 0.05846647720334098, 'x': 39.803811829873965}\n",
      "0.7645493257629524                                                                                                     \n",
      " 60%|██████████████████████████████                    | 60/100 [25:46<23:26, 35.15s/it, best loss: 0.6354240596167495]"
     ]
    },
    {
     "name": "stderr",
     "output_type": "stream",
     "text": [
      "C:\\Users\\Saad\\Desktop\\Hybrid SOM on NSL - MultiClass\\KohonenSom.py:113: FutureWarning: Using a non-tuple sequence for multidimensional indexing is deprecated; use `arr[tuple(seq)]` instead of `arr[seq]`. In the future this will be interpreted as an array index, `arr[np.array(seq)]`, which will result either in an error or a different result.\n",
      "  bmuDistance = bmuDistance[slc]\n",
      "\n"
     ]
    },
    {
     "name": "stdout",
     "output_type": "stream",
     "text": [
      "{'initial_radius': 7.061706843079588, 'learning_decay': 0.0334232757754328, 'learning_rate': 9.03945644895497, 'minNumberPerBmu': 1.4240625517137289, 'n_neighbors': 2.98025851284109, 'radius_decay': 0.03435767009208717, 'x': 47.80321553366842}\n",
      "0.7282203690560681                                                                                                     \n",
      " 61%|██████████████████████████████▌                   | 61/100 [26:43<27:11, 41.82s/it, best loss: 0.6354240596167495]"
     ]
    },
    {
     "name": "stderr",
     "output_type": "stream",
     "text": [
      "C:\\Users\\Saad\\Desktop\\Hybrid SOM on NSL - MultiClass\\KohonenSom.py:113: FutureWarning: Using a non-tuple sequence for multidimensional indexing is deprecated; use `arr[tuple(seq)]` instead of `arr[seq]`. In the future this will be interpreted as an array index, `arr[np.array(seq)]`, which will result either in an error or a different result.\n",
      "  bmuDistance = bmuDistance[slc]\n",
      "\n"
     ]
    },
    {
     "name": "stdout",
     "output_type": "stream",
     "text": [
      "{'initial_radius': 4.036503163329502, 'learning_decay': 0.07565750330720142, 'learning_rate': 7.671394829923936, 'minNumberPerBmu': 6.257803577861475, 'n_neighbors': 4.690361644961404, 'radius_decay': 0.03882318875609283, 'x': 41.94438445158169}\n",
      "0.6206973030518098                                                                                                     \n",
      " 62%|███████████████████████████████                   | 62/100 [27:21<25:41, 40.57s/it, best loss: 0.6206973030518098]"
     ]
    },
    {
     "name": "stderr",
     "output_type": "stream",
     "text": [
      "C:\\Users\\Saad\\Desktop\\Hybrid SOM on NSL - MultiClass\\KohonenSom.py:113: FutureWarning: Using a non-tuple sequence for multidimensional indexing is deprecated; use `arr[tuple(seq)]` instead of `arr[seq]`. In the future this will be interpreted as an array index, `arr[np.array(seq)]`, which will result either in an error or a different result.\n",
      "  bmuDistance = bmuDistance[slc]\n",
      "\n"
     ]
    },
    {
     "name": "stdout",
     "output_type": "stream",
     "text": [
      "{'initial_radius': 8.795168542431453, 'learning_decay': 0.09720308435711544, 'learning_rate': 8.48495859352461, 'minNumberPerBmu': 6.210722793028316, 'n_neighbors': 5.332292894426623, 'radius_decay': 0.07474451023360242, 'x': 49.994380531591226}\n",
      "0.731680269694819                                                                                                      \n",
      " 63%|███████████████████████████████▌                  | 63/100 [28:09<26:25, 42.86s/it, best loss: 0.6206973030518098]"
     ]
    },
    {
     "name": "stderr",
     "output_type": "stream",
     "text": [
      "C:\\Users\\Saad\\Desktop\\Hybrid SOM on NSL - MultiClass\\KohonenSom.py:113: FutureWarning: Using a non-tuple sequence for multidimensional indexing is deprecated; use `arr[tuple(seq)]` instead of `arr[seq]`. In the future this will be interpreted as an array index, `arr[np.array(seq)]`, which will result either in an error or a different result.\n",
      "  bmuDistance = bmuDistance[slc]\n",
      "\n"
     ]
    },
    {
     "name": "stdout",
     "output_type": "stream",
     "text": [
      "{'initial_radius': 7.292368283272696, 'learning_decay': 0.07783302996661208, 'learning_rate': 9.463583624204873, 'minNumberPerBmu': 2.3608621741594344, 'n_neighbors': 1.2520746297823777, 'radius_decay': 0.0835561440088301, 'x': 42.135480271094096}\n",
      "0.7260911994322214                                                                                                     \n",
      " 64%|████████████████████████████████                  | 64/100 [28:46<24:38, 41.08s/it, best loss: 0.6206973030518098]"
     ]
    },
    {
     "name": "stderr",
     "output_type": "stream",
     "text": [
      "C:\\Users\\Saad\\Desktop\\Hybrid SOM on NSL - MultiClass\\KohonenSom.py:113: FutureWarning: Using a non-tuple sequence for multidimensional indexing is deprecated; use `arr[tuple(seq)]` instead of `arr[seq]`. In the future this will be interpreted as an array index, `arr[np.array(seq)]`, which will result either in an error or a different result.\n",
      "  bmuDistance = bmuDistance[slc]\n",
      "\n"
     ]
    },
    {
     "name": "stdout",
     "output_type": "stream",
     "text": [
      "{'initial_radius': 1.012467347137239, 'learning_decay': 0.06797361175892096, 'learning_rate': 7.763834087208651, 'minNumberPerBmu': 5.059611371459742, 'n_neighbors': 1.8026453144008905, 'radius_decay': 0.09282982615197197, 'x': 48.29193288713311}\n",
      "0.7032469836763662                                                                                                     \n",
      " 65%|████████████████████████████████▌                 | 65/100 [29:32<24:46, 42.47s/it, best loss: 0.6206973030518098]"
     ]
    },
    {
     "name": "stderr",
     "output_type": "stream",
     "text": [
      "C:\\Users\\Saad\\Desktop\\Hybrid SOM on NSL - MultiClass\\KohonenSom.py:113: FutureWarning: Using a non-tuple sequence for multidimensional indexing is deprecated; use `arr[tuple(seq)]` instead of `arr[seq]`. In the future this will be interpreted as an array index, `arr[np.array(seq)]`, which will result either in an error or a different result.\n",
      "  bmuDistance = bmuDistance[slc]\n",
      "\n"
     ]
    },
    {
     "name": "stdout",
     "output_type": "stream",
     "text": [
      "{'initial_radius': 4.536202607672015, 'learning_decay': 0.07502381865878452, 'learning_rate': 6.884629044379191, 'minNumberPerBmu': 8.733523020581314, 'n_neighbors': 4.79497229679462, 'radius_decay': 0.03807845595588023, 'x': 44.79982267850196}\n",
      "0.926055713271824                                                                                                      \n",
      " 66%|█████████████████████████████████                 | 66/100 [30:11<23:26, 41.36s/it, best loss: 0.6206973030518098]"
     ]
    },
    {
     "name": "stderr",
     "output_type": "stream",
     "text": [
      "C:\\Users\\Saad\\Desktop\\Hybrid SOM on NSL - MultiClass\\KohonenSom.py:113: FutureWarning: Using a non-tuple sequence for multidimensional indexing is deprecated; use `arr[tuple(seq)]` instead of `arr[seq]`. In the future this will be interpreted as an array index, `arr[np.array(seq)]`, which will result either in an error or a different result.\n",
      "  bmuDistance = bmuDistance[slc]\n",
      "\n"
     ]
    },
    {
     "name": "stdout",
     "output_type": "stream",
     "text": [
      "{'initial_radius': 4.895135076743246, 'learning_decay': 0.059384253608546725, 'learning_rate': 7.436094570930987, 'minNumberPerBmu': 7.452569824668817, 'n_neighbors': 5.049814624641883, 'radius_decay': 0.030906939788929503, 'x': 35.210967940423785}\n",
      "0.7224982256919801                                                                                                     \n",
      " 67%|█████████████████████████████████▌                | 67/100 [30:38<20:28, 37.23s/it, best loss: 0.6206973030518098]"
     ]
    },
    {
     "name": "stderr",
     "output_type": "stream",
     "text": [
      "C:\\Users\\Saad\\Desktop\\Hybrid SOM on NSL - MultiClass\\KohonenSom.py:113: FutureWarning: Using a non-tuple sequence for multidimensional indexing is deprecated; use `arr[tuple(seq)]` instead of `arr[seq]`. In the future this will be interpreted as an array index, `arr[np.array(seq)]`, which will result either in an error or a different result.\n",
      "  bmuDistance = bmuDistance[slc]\n",
      "\n"
     ]
    },
    {
     "name": "stdout",
     "output_type": "stream",
     "text": [
      "{'initial_radius': 2.692709100717979, 'learning_decay': 0.0723597880726908, 'learning_rate': 6.315293697091831, 'minNumberPerBmu': 7.981627135654739, 'n_neighbors': 4.618800394650092, 'radius_decay': 0.04432812617436553, 'x': 32.867669127899525}\n",
      "0.7127838892831795                                                                                                     \n",
      " 68%|██████████████████████████████████                | 68/100 [31:00<17:19, 32.50s/it, best loss: 0.6206973030518098]"
     ]
    },
    {
     "name": "stderr",
     "output_type": "stream",
     "text": [
      "C:\\Users\\Saad\\Desktop\\Hybrid SOM on NSL - MultiClass\\KohonenSom.py:113: FutureWarning: Using a non-tuple sequence for multidimensional indexing is deprecated; use `arr[tuple(seq)]` instead of `arr[seq]`. In the future this will be interpreted as an array index, `arr[np.array(seq)]`, which will result either in an error or a different result.\n",
      "  bmuDistance = bmuDistance[slc]\n",
      "\n"
     ]
    },
    {
     "name": "stdout",
     "output_type": "stream",
     "text": [
      "{'initial_radius': 3.9585983424594913, 'learning_decay': 0.08313566446379933, 'learning_rate': 5.675816888637213, 'minNumberPerBmu': 6.852536417203208, 'n_neighbors': 4.382349985962867, 'radius_decay': 0.020457306575745186, 'x': 38.61221993844021}\n",
      "0.8735805535841021                                                                                                     \n",
      " 69%|██████████████████████████████████▌               | 69/100 [31:30<16:29, 31.91s/it, best loss: 0.6206973030518098]"
     ]
    },
    {
     "name": "stderr",
     "output_type": "stream",
     "text": [
      "C:\\Users\\Saad\\Desktop\\Hybrid SOM on NSL - MultiClass\\KohonenSom.py:113: FutureWarning: Using a non-tuple sequence for multidimensional indexing is deprecated; use `arr[tuple(seq)]` instead of `arr[seq]`. In the future this will be interpreted as an array index, `arr[np.array(seq)]`, which will result either in an error or a different result.\n",
      "  bmuDistance = bmuDistance[slc]\n",
      "\n"
     ]
    },
    {
     "name": "stdout",
     "output_type": "stream",
     "text": [
      "{'initial_radius': 5.369674841033751, 'learning_decay': 0.08640975537920013, 'learning_rate': 8.294529702102258, 'minNumberPerBmu': 6.073619158236105, 'n_neighbors': 5.443403566756702, 'radius_decay': 0.03918005304431763, 'x': 42.44763069951262}\n",
      "0.9945883605393896                                                                                                     \n",
      " 70%|███████████████████████████████████               | 70/100 [32:06<16:30, 33.02s/it, best loss: 0.6206973030518098]"
     ]
    },
    {
     "name": "stderr",
     "output_type": "stream",
     "text": [
      "C:\\Users\\Saad\\Desktop\\Hybrid SOM on NSL - MultiClass\\KohonenSom.py:113: FutureWarning: Using a non-tuple sequence for multidimensional indexing is deprecated; use `arr[tuple(seq)]` instead of `arr[seq]`. In the future this will be interpreted as an array index, `arr[np.array(seq)]`, which will result either in an error or a different result.\n",
      "  bmuDistance = bmuDistance[slc]\n",
      "\n"
     ]
    },
    {
     "name": "stdout",
     "output_type": "stream",
     "text": [
      "{'initial_radius': 3.3436081542694542, 'learning_decay': 0.09006870108238467, 'learning_rate': 8.650045394570107, 'minNumberPerBmu': 6.47596220292945, 'n_neighbors': 3.588597384893724, 'radius_decay': 0.051539461342560246, 'x': 37.41740874654024}\n",
      "0.8311745919091554                                                                                                     \n",
      " 71%|███████████████████████████████████▌              | 71/100 [32:35<15:27, 31.97s/it, best loss: 0.6206973030518098]"
     ]
    },
    {
     "name": "stderr",
     "output_type": "stream",
     "text": [
      "C:\\Users\\Saad\\Desktop\\Hybrid SOM on NSL - MultiClass\\KohonenSom.py:113: FutureWarning: Using a non-tuple sequence for multidimensional indexing is deprecated; use `arr[tuple(seq)]` instead of `arr[seq]`. In the future this will be interpreted as an array index, `arr[np.array(seq)]`, which will result either in an error or a different result.\n",
      "  bmuDistance = bmuDistance[slc]\n",
      "\n"
     ]
    },
    {
     "name": "stdout",
     "output_type": "stream",
     "text": [
      "{'initial_radius': 4.276952265433864, 'learning_decay': 0.0812066568776185, 'learning_rate': 7.419457803198741, 'minNumberPerBmu': 5.674530038238986, 'n_neighbors': 3.839510196368062, 'radius_decay': 0.009480738591642678, 'x': 40.10205949920591}\n",
      "0.6984563520227112                                                                                                     \n",
      " 72%|████████████████████████████████████              | 72/100 [33:07<14:52, 31.89s/it, best loss: 0.6206973030518098]"
     ]
    },
    {
     "name": "stderr",
     "output_type": "stream",
     "text": [
      "C:\\Users\\Saad\\Desktop\\Hybrid SOM on NSL - MultiClass\\KohonenSom.py:113: FutureWarning: Using a non-tuple sequence for multidimensional indexing is deprecated; use `arr[tuple(seq)]` instead of `arr[seq]`. In the future this will be interpreted as an array index, `arr[np.array(seq)]`, which will result either in an error or a different result.\n",
      "  bmuDistance = bmuDistance[slc]\n",
      "\n"
     ]
    },
    {
     "name": "stdout",
     "output_type": "stream",
     "text": [
      "{'initial_radius': 3.7279661791587473, 'learning_decay': 0.06380091107022685, 'learning_rate': 4.817588024570244, 'minNumberPerBmu': 7.184225478180627, 'n_neighbors': 4.081215737691111, 'radius_decay': 0.02454355222770909, 'x': 27.133023161186358}\n",
      "0.71930447125621                                                                                                       \n",
      " 73%|████████████████████████████████████▌             | 73/100 [33:19<11:36, 25.81s/it, best loss: 0.6206973030518098]"
     ]
    },
    {
     "name": "stderr",
     "output_type": "stream",
     "text": [
      "C:\\Users\\Saad\\Desktop\\Hybrid SOM on NSL - MultiClass\\KohonenSom.py:113: FutureWarning: Using a non-tuple sequence for multidimensional indexing is deprecated; use `arr[tuple(seq)]` instead of `arr[seq]`. In the future this will be interpreted as an array index, `arr[np.array(seq)]`, which will result either in an error or a different result.\n",
      "  bmuDistance = bmuDistance[slc]\n",
      "\n"
     ]
    },
    {
     "name": "stdout",
     "output_type": "stream",
     "text": [
      "{'initial_radius': 2.203243719450951, 'learning_decay': 0.04840668830042163, 'learning_rate': 7.914326067209254, 'minNumberPerBmu': 8.465787844174729, 'n_neighbors': 5.066981642991316, 'radius_decay': 0.05822485649261952, 'x': 25.48941074437436}\n",
      "0.6950408090844571                                                                                                     \n",
      " 74%|█████████████████████████████████████             | 74/100 [33:30<09:15, 21.38s/it, best loss: 0.6206973030518098]"
     ]
    },
    {
     "name": "stderr",
     "output_type": "stream",
     "text": [
      "C:\\Users\\Saad\\Desktop\\Hybrid SOM on NSL - MultiClass\\KohonenSom.py:113: FutureWarning: Using a non-tuple sequence for multidimensional indexing is deprecated; use `arr[tuple(seq)]` instead of `arr[seq]`. In the future this will be interpreted as an array index, `arr[np.array(seq)]`, which will result either in an error or a different result.\n",
      "  bmuDistance = bmuDistance[slc]\n",
      "\n"
     ]
    },
    {
     "name": "stdout",
     "output_type": "stream",
     "text": [
      "{'initial_radius': 2.6481277483257637, 'learning_decay': 0.07022293294576935, 'learning_rate': 5.457358507947448, 'minNumberPerBmu': 4.679480097234061, 'n_neighbors': 3.9359604597268527, 'radius_decay': 0.013154427144105673, 'x': 29.981572014978482}\n",
      "0.714957416607523                                                                                                      \n",
      " 75%|█████████████████████████████████████▌            | 75/100 [33:43<07:51, 18.84s/it, best loss: 0.6206973030518098]"
     ]
    },
    {
     "name": "stderr",
     "output_type": "stream",
     "text": [
      "C:\\Users\\Saad\\Desktop\\Hybrid SOM on NSL - MultiClass\\KohonenSom.py:113: FutureWarning: Using a non-tuple sequence for multidimensional indexing is deprecated; use `arr[tuple(seq)]` instead of `arr[seq]`. In the future this will be interpreted as an array index, `arr[np.array(seq)]`, which will result either in an error or a different result.\n",
      "  bmuDistance = bmuDistance[slc]\n",
      "\n"
     ]
    },
    {
     "name": "stdout",
     "output_type": "stream",
     "text": [
      "{'initial_radius': 3.143724074576626, 'learning_decay': 0.05892428788241816, 'learning_rate': 6.43443252771012, 'minNumberPerBmu': 9.582158331064383, 'n_neighbors': 5.653912559817119, 'radius_decay': 0.032670938870525926, 'x': 32.20391913428224}\n",
      "0.8902590489709014                                                                                                     \n",
      " 76%|██████████████████████████████████████            | 76/100 [34:05<07:55, 19.82s/it, best loss: 0.6206973030518098]"
     ]
    },
    {
     "name": "stderr",
     "output_type": "stream",
     "text": [
      "C:\\Users\\Saad\\Desktop\\Hybrid SOM on NSL - MultiClass\\KohonenSom.py:113: FutureWarning: Using a non-tuple sequence for multidimensional indexing is deprecated; use `arr[tuple(seq)]` instead of `arr[seq]`. In the future this will be interpreted as an array index, `arr[np.array(seq)]`, which will result either in an error or a different result.\n",
      "  bmuDistance = bmuDistance[slc]\n",
      "\n"
     ]
    },
    {
     "name": "stdout",
     "output_type": "stream",
     "text": [
      "{'initial_radius': 6.202210910505089, 'learning_decay': 0.043799219290239, 'learning_rate': 7.193501635180402, 'minNumberPerBmu': 9.07323141560036, 'n_neighbors': 4.616506785144472, 'radius_decay': 0.0476306284661258, 'x': 20.704682970664415}\n",
      "0.7108765081618169                                                                                                     \n",
      " 77%|██████████████████████████████████████▌           | 77/100 [34:13<06:18, 16.45s/it, best loss: 0.6206973030518098]"
     ]
    },
    {
     "name": "stderr",
     "output_type": "stream",
     "text": [
      "C:\\Users\\Saad\\Desktop\\Hybrid SOM on NSL - MultiClass\\KohonenSom.py:113: FutureWarning: Using a non-tuple sequence for multidimensional indexing is deprecated; use `arr[tuple(seq)]` instead of `arr[seq]`. In the future this will be interpreted as an array index, `arr[np.array(seq)]`, which will result either in an error or a different result.\n",
      "  bmuDistance = bmuDistance[slc]\n",
      "\n"
     ]
    },
    {
     "name": "stdout",
     "output_type": "stream",
     "text": [
      "{'initial_radius': 5.594896461372273, 'learning_decay': 0.02112977918111434, 'learning_rate': 5.852538165112447, 'minNumberPerBmu': 8.138817216547507, 'n_neighbors': 1.5245264900031088, 'radius_decay': 0.016857875698368788, 'x': 35.010035086894405}\n",
      "0.6894960965223562                                                                                                     \n",
      " 78%|███████████████████████████████████████           | 78/100 [34:39<07:02, 19.19s/it, best loss: 0.6206973030518098]"
     ]
    },
    {
     "name": "stderr",
     "output_type": "stream",
     "text": [
      "C:\\Users\\Saad\\Desktop\\Hybrid SOM on NSL - MultiClass\\KohonenSom.py:113: FutureWarning: Using a non-tuple sequence for multidimensional indexing is deprecated; use `arr[tuple(seq)]` instead of `arr[seq]`. In the future this will be interpreted as an array index, `arr[np.array(seq)]`, which will result either in an error or a different result.\n",
      "  bmuDistance = bmuDistance[slc]\n",
      "\n"
     ]
    },
    {
     "name": "stdout",
     "output_type": "stream",
     "text": [
      "{'initial_radius': 5.842286853289465, 'learning_decay': 0.053452402006286724, 'learning_rate': 9.23185653812309, 'minNumberPerBmu': 7.747879223414758, 'n_neighbors': 4.890400053160844, 'radius_decay': 0.0657891870788665, 'x': 33.895932078283785}\n",
      "0.9245031937544358                                                                                                     \n",
      " 79%|███████████████████████████████████████▌          | 79/100 [35:02<07:07, 20.36s/it, best loss: 0.6206973030518098]"
     ]
    },
    {
     "name": "stderr",
     "output_type": "stream",
     "text": [
      "C:\\Users\\Saad\\Desktop\\Hybrid SOM on NSL - MultiClass\\KohonenSom.py:113: FutureWarning: Using a non-tuple sequence for multidimensional indexing is deprecated; use `arr[tuple(seq)]` instead of `arr[seq]`. In the future this will be interpreted as an array index, `arr[np.array(seq)]`, which will result either in an error or a different result.\n",
      "  bmuDistance = bmuDistance[slc]\n",
      "\n"
     ]
    },
    {
     "name": "stdout",
     "output_type": "stream",
     "text": [
      "{'initial_radius': 4.161554479396752, 'learning_decay': 0.07565445027101288, 'learning_rate': 6.047664767645147, 'minNumberPerBmu': 9.979277709394115, 'n_neighbors': 4.307223622961839, 'radius_decay': 0.04276219045198839, 'x': 18.582701298338208}\n",
      "0.7251153300212917                                                                                                     \n",
      " 80%|████████████████████████████████████████          | 80/100 [35:09<05:28, 16.42s/it, best loss: 0.6206973030518098]"
     ]
    },
    {
     "name": "stderr",
     "output_type": "stream",
     "text": [
      "C:\\Users\\Saad\\Desktop\\Hybrid SOM on NSL - MultiClass\\KohonenSom.py:113: FutureWarning: Using a non-tuple sequence for multidimensional indexing is deprecated; use `arr[tuple(seq)]` instead of `arr[seq]`. In the future this will be interpreted as an array index, `arr[np.array(seq)]`, which will result either in an error or a different result.\n",
      "  bmuDistance = bmuDistance[slc]\n",
      "\n"
     ]
    },
    {
     "name": "stdout",
     "output_type": "stream",
     "text": [
      "{'initial_radius': 1.814235208365294, 'learning_decay': 0.06649251469947565, 'learning_rate': 8.851635450928526, 'minNumberPerBmu': 3.591295465274652, 'n_neighbors': 4.458142862332226, 'radius_decay': 0.02230986794408467, 'x': 24.37910488021462}\n",
      "0.818443931866572                                                                                                      \n",
      " 81%|████████████████████████████████████████▌         | 81/100 [35:20<04:37, 14.62s/it, best loss: 0.6206973030518098]"
     ]
    },
    {
     "name": "stderr",
     "output_type": "stream",
     "text": [
      "C:\\Users\\Saad\\Desktop\\Hybrid SOM on NSL - MultiClass\\KohonenSom.py:113: FutureWarning: Using a non-tuple sequence for multidimensional indexing is deprecated; use `arr[tuple(seq)]` instead of `arr[seq]`. In the future this will be interpreted as an array index, `arr[np.array(seq)]`, which will result either in an error or a different result.\n",
      "  bmuDistance = bmuDistance[slc]\n",
      "\n"
     ]
    },
    {
     "name": "stdout",
     "output_type": "stream",
     "text": [
      "{'initial_radius': 4.646409326469018, 'learning_decay': 0.0800702551391308, 'learning_rate': 7.9674962048711215, 'minNumberPerBmu': 4.303205859547401, 'n_neighbors': 3.604223288527658, 'radius_decay': 0.0278864168785617, 'x': 35.88591162824348}\n",
      "0.7628637331440739                                                                                                     \n",
      " 82%|█████████████████████████████████████████         | 82/100 [35:44<05:18, 17.69s/it, best loss: 0.6206973030518098]"
     ]
    },
    {
     "name": "stderr",
     "output_type": "stream",
     "text": [
      "C:\\Users\\Saad\\Desktop\\Hybrid SOM on NSL - MultiClass\\KohonenSom.py:113: FutureWarning: Using a non-tuple sequence for multidimensional indexing is deprecated; use `arr[tuple(seq)]` instead of `arr[seq]`. In the future this will be interpreted as an array index, `arr[np.array(seq)]`, which will result either in an error or a different result.\n",
      "  bmuDistance = bmuDistance[slc]\n",
      "\n"
     ]
    },
    {
     "name": "stdout",
     "output_type": "stream",
     "text": [
      "{'initial_radius': 3.656157979419392, 'learning_decay': 0.08727752679338964, 'learning_rate': 9.662167755656291, 'minNumberPerBmu': 3.047610259157825, 'n_neighbors': 3.1918875220733547, 'radius_decay': 0.07032086736072551, 'x': 45.5457885283338}\n",
      "0.9315117104329311                                                                                                     \n",
      " 83%|█████████████████████████████████████████▌        | 83/100 [36:24<06:52, 24.27s/it, best loss: 0.6206973030518098]"
     ]
    },
    {
     "name": "stderr",
     "output_type": "stream",
     "text": [
      "C:\\Users\\Saad\\Desktop\\Hybrid SOM on NSL - MultiClass\\KohonenSom.py:113: FutureWarning: Using a non-tuple sequence for multidimensional indexing is deprecated; use `arr[tuple(seq)]` instead of `arr[seq]`. In the future this will be interpreted as an array index, `arr[np.array(seq)]`, which will result either in an error or a different result.\n",
      "  bmuDistance = bmuDistance[slc]\n",
      "\n"
     ]
    },
    {
     "name": "stdout",
     "output_type": "stream",
     "text": [
      "{'initial_radius': 4.947936795581423, 'learning_decay': 0.028177707961492632, 'learning_rate': 3.706627359666493, 'minNumberPerBmu': 6.428821370183167, 'n_neighbors': 5.335010011712729, 'radius_decay': 0.046105218324939135, 'x': 43.02117924479146}\n",
      "0.697125621007807                                                                                                      \n",
      " 84%|██████████████████████████████████████████        | 84/100 [37:00<07:24, 27.77s/it, best loss: 0.6206973030518098]"
     ]
    },
    {
     "name": "stderr",
     "output_type": "stream",
     "text": [
      "C:\\Users\\Saad\\Desktop\\Hybrid SOM on NSL - MultiClass\\KohonenSom.py:113: FutureWarning: Using a non-tuple sequence for multidimensional indexing is deprecated; use `arr[tuple(seq)]` instead of `arr[seq]`. In the future this will be interpreted as an array index, `arr[np.array(seq)]`, which will result either in an error or a different result.\n",
      "  bmuDistance = bmuDistance[slc]\n",
      "\n"
     ]
    },
    {
     "name": "stdout",
     "output_type": "stream",
     "text": [
      "{'initial_radius': 1.2872877049293234, 'learning_decay': 0.0033192386225233406, 'learning_rate': 4.336056696863125, 'minNumberPerBmu': 6.835339381278311, 'n_neighbors': 4.787205393004761, 'radius_decay': 0.03546741470053046, 'x': 30.889954380019407}\n",
      "0.7015613910574876                                                                                                     \n",
      " 85%|██████████████████████████████████████████▌       | 85/100 [37:13<05:51, 23.45s/it, best loss: 0.6206973030518098]"
     ]
    },
    {
     "name": "stderr",
     "output_type": "stream",
     "text": [
      "C:\\Users\\Saad\\Desktop\\Hybrid SOM on NSL - MultiClass\\KohonenSom.py:113: FutureWarning: Using a non-tuple sequence for multidimensional indexing is deprecated; use `arr[tuple(seq)]` instead of `arr[seq]`. In the future this will be interpreted as an array index, `arr[np.array(seq)]`, which will result either in an error or a different result.\n",
      "  bmuDistance = bmuDistance[slc]\n",
      "\n"
     ]
    },
    {
     "name": "stdout",
     "output_type": "stream",
     "text": [
      "{'initial_radius': 3.338791535094391, 'learning_decay': 0.09517635680564218, 'learning_rate': 6.793802220743979, 'minNumberPerBmu': 5.136591179773498, 'n_neighbors': 2.8523265911693576, 'radius_decay': 0.055844943312638604, 'x': 28.068169389905087}\n",
      "0.7012065294535131                                                                                                     \n",
      " 86%|███████████████████████████████████████████       | 86/100 [37:26<04:44, 20.36s/it, best loss: 0.6206973030518098]"
     ]
    },
    {
     "name": "stderr",
     "output_type": "stream",
     "text": [
      "C:\\Users\\Saad\\Desktop\\Hybrid SOM on NSL - MultiClass\\KohonenSom.py:113: FutureWarning: Using a non-tuple sequence for multidimensional indexing is deprecated; use `arr[tuple(seq)]` instead of `arr[seq]`. In the future this will be interpreted as an array index, `arr[np.array(seq)]`, which will result either in an error or a different result.\n",
      "  bmuDistance = bmuDistance[slc]\n",
      "\n"
     ]
    },
    {
     "name": "stdout",
     "output_type": "stream",
     "text": [
      "{'initial_radius': 2.4239953681241206, 'learning_decay': 0.06150298025501207, 'learning_rate': 9.982602970951838, 'minNumberPerBmu': 7.45248841283845, 'n_neighbors': 5.177862119460524, 'radius_decay': 0.003716463862207052, 'x': 44.12043440142013}\n",
      "0.6828867991483322                                                                                                     \n",
      " 87%|███████████████████████████████████████████▌      | 87/100 [38:03<05:26, 25.11s/it, best loss: 0.6206973030518098]"
     ]
    },
    {
     "name": "stderr",
     "output_type": "stream",
     "text": [
      "C:\\Users\\Saad\\Desktop\\Hybrid SOM on NSL - MultiClass\\KohonenSom.py:113: FutureWarning: Using a non-tuple sequence for multidimensional indexing is deprecated; use `arr[tuple(seq)]` instead of `arr[seq]`. In the future this will be interpreted as an array index, `arr[np.array(seq)]`, which will result either in an error or a different result.\n",
      "  bmuDistance = bmuDistance[slc]\n",
      "\n"
     ]
    },
    {
     "name": "stdout",
     "output_type": "stream",
     "text": [
      "{'initial_radius': 4.397146660263724, 'learning_decay': 0.039151556589037774, 'learning_rate': 7.225369597391341, 'minNumberPerBmu': 0.23361320043422307, 'n_neighbors': 2.5925381303988786, 'radius_decay': 0.02614651740007179, 'x': 37.315438698950985}\n",
      "0.7416607523066004                                                                                                     \n",
      " 88%|████████████████████████████████████████████      | 88/100 [38:35<05:27, 27.26s/it, best loss: 0.6206973030518098]"
     ]
    },
    {
     "name": "stderr",
     "output_type": "stream",
     "text": [
      "C:\\Users\\Saad\\Desktop\\Hybrid SOM on NSL - MultiClass\\KohonenSom.py:113: FutureWarning: Using a non-tuple sequence for multidimensional indexing is deprecated; use `arr[tuple(seq)]` instead of `arr[seq]`. In the future this will be interpreted as an array index, `arr[np.array(seq)]`, which will result either in an error or a different result.\n",
      "  bmuDistance = bmuDistance[slc]\n",
      "\n"
     ]
    },
    {
     "name": "stdout",
     "output_type": "stream",
     "text": [
      "{'initial_radius': 2.977483469161431, 'learning_decay': 0.046116332874663574, 'learning_rate': 2.807761042731996, 'minNumberPerBmu': 8.66411358783594, 'n_neighbors': 3.4662644614900846, 'radius_decay': 0.029902076751497933, 'x': 22.897426696814563}\n",
      "0.7169535131298794                                                                                                     \n",
      " 89%|████████████████████████████████████████████▌     | 89/100 [38:43<03:57, 21.63s/it, best loss: 0.6206973030518098]"
     ]
    },
    {
     "name": "stderr",
     "output_type": "stream",
     "text": [
      "C:\\Users\\Saad\\Desktop\\Hybrid SOM on NSL - MultiClass\\KohonenSom.py:113: FutureWarning: Using a non-tuple sequence for multidimensional indexing is deprecated; use `arr[tuple(seq)]` instead of `arr[seq]`. In the future this will be interpreted as an array index, `arr[np.array(seq)]`, which will result either in an error or a different result.\n",
      "  bmuDistance = bmuDistance[slc]\n",
      "\n"
     ]
    },
    {
     "name": "stdout",
     "output_type": "stream",
     "text": [
      "{'initial_radius': 9.678003934412615, 'learning_decay': 0.056409133957019464, 'learning_rate': 5.014856838796355, 'minNumberPerBmu': 5.547138008914916, 'n_neighbors': 4.0710557458454, 'radius_decay': 0.019085945043349782, 'x': 48.45493222099972}\n",
      "0.6929559971611072                                                                                                     \n",
      " 90%|█████████████████████████████████████████████     | 90/100 [39:30<04:51, 29.14s/it, best loss: 0.6206973030518098]"
     ]
    },
    {
     "name": "stderr",
     "output_type": "stream",
     "text": [
      "C:\\Users\\Saad\\Desktop\\Hybrid SOM on NSL - MultiClass\\KohonenSom.py:113: FutureWarning: Using a non-tuple sequence for multidimensional indexing is deprecated; use `arr[tuple(seq)]` instead of `arr[seq]`. In the future this will be interpreted as an array index, `arr[np.array(seq)]`, which will result either in an error or a different result.\n",
      "  bmuDistance = bmuDistance[slc]\n",
      "\n"
     ]
    },
    {
     "name": "stdout",
     "output_type": "stream",
     "text": [
      "{'initial_radius': 7.780009413053586, 'learning_decay': 0.07163231653109603, 'learning_rate': 6.5123497327860695, 'minNumberPerBmu': 6.082638297239838, 'n_neighbors': 1.0157506350432688, 'radius_decay': 0.0077342578819987115, 'x': 38.43546863486073}\n",
      "0.6686479772888574                                                                                                     \n",
      " 91%|█████████████████████████████████████████████▌    | 91/100 [40:00<04:24, 29.33s/it, best loss: 0.6206973030518098]"
     ]
    },
    {
     "name": "stderr",
     "output_type": "stream",
     "text": [
      "C:\\Users\\Saad\\Desktop\\Hybrid SOM on NSL - MultiClass\\KohonenSom.py:113: FutureWarning: Using a non-tuple sequence for multidimensional indexing is deprecated; use `arr[tuple(seq)]` instead of `arr[seq]`. In the future this will be interpreted as an array index, `arr[np.array(seq)]`, which will result either in an error or a different result.\n",
      "  bmuDistance = bmuDistance[slc]\n",
      "\n"
     ]
    },
    {
     "name": "stdout",
     "output_type": "stream",
     "text": [
      "{'initial_radius': 5.30922438069269, 'learning_decay': 0.09967992089502738, 'learning_rate': 8.187979197529915, 'minNumberPerBmu': 1.8150098841875968, 'n_neighbors': 4.244783372134613, 'radius_decay': 0.051174721481928157, 'x': 16.82493505325195}\n",
      "0.7183286018452804                                                                                                     \n",
      " 92%|██████████████████████████████████████████████    | 92/100 [40:06<02:59, 22.42s/it, best loss: 0.6206973030518098]"
     ]
    },
    {
     "name": "stderr",
     "output_type": "stream",
     "text": [
      "C:\\Users\\Saad\\Desktop\\Hybrid SOM on NSL - MultiClass\\KohonenSom.py:113: FutureWarning: Using a non-tuple sequence for multidimensional indexing is deprecated; use `arr[tuple(seq)]` instead of `arr[seq]`. In the future this will be interpreted as an array index, `arr[np.array(seq)]`, which will result either in an error or a different result.\n",
      "  bmuDistance = bmuDistance[slc]\n",
      "\n"
     ]
    },
    {
     "name": "stdout",
     "output_type": "stream",
     "text": [
      "{'initial_radius': 4.091858186056186, 'learning_decay': 0.03468893411919176, 'learning_rate': 6.0656170149378745, 'minNumberPerBmu': 3.956017212539074, 'n_neighbors': 3.374716504288906, 'radius_decay': 0.0003458504739196344, 'x': 20.829387933405254}\n",
      "0.7540365507452094                                                                                                     \n",
      " 93%|██████████████████████████████████████████████▌   | 93/100 [40:15<02:09, 18.47s/it, best loss: 0.6206973030518098]"
     ]
    },
    {
     "name": "stderr",
     "output_type": "stream",
     "text": [
      "C:\\Users\\Saad\\Desktop\\Hybrid SOM on NSL - MultiClass\\KohonenSom.py:113: FutureWarning: Using a non-tuple sequence for multidimensional indexing is deprecated; use `arr[tuple(seq)]` instead of `arr[seq]`. In the future this will be interpreted as an array index, `arr[np.array(seq)]`, which will result either in an error or a different result.\n",
      "  bmuDistance = bmuDistance[slc]\n",
      "\n"
     ]
    },
    {
     "name": "stdout",
     "output_type": "stream",
     "text": [
      "{'initial_radius': 6.620907212006751, 'learning_decay': 0.05067198503916595, 'learning_rate': 7.716755458135755, 'minNumberPerBmu': 1.0919080440553675, 'n_neighbors': 3.129028173877237, 'radius_decay': 0.014856396616192395, 'x': 39.829349332950414}\n",
      "0.6664744499645139                                                                                                     \n",
      " 94%|███████████████████████████████████████████████   | 94/100 [40:46<02:12, 22.04s/it, best loss: 0.6206973030518098]"
     ]
    },
    {
     "name": "stderr",
     "output_type": "stream",
     "text": [
      "C:\\Users\\Saad\\Desktop\\Hybrid SOM on NSL - MultiClass\\KohonenSom.py:113: FutureWarning: Using a non-tuple sequence for multidimensional indexing is deprecated; use `arr[tuple(seq)]` instead of `arr[seq]`. In the future this will be interpreted as an array index, `arr[np.array(seq)]`, which will result either in an error or a different result.\n",
      "  bmuDistance = bmuDistance[slc]\n",
      "\n"
     ]
    },
    {
     "name": "stdout",
     "output_type": "stream",
     "text": [
      "{'initial_radius': 8.446107729434805, 'learning_decay': 0.06924478539350115, 'learning_rate': 8.350345584059948, 'minNumberPerBmu': 4.541988537722803, 'n_neighbors': 5.976309557322471, 'radius_decay': 0.03920449787638747, 'x': 28.87275185483585}\n",
      "0.6985894251242015                                                                                                     \n",
      " 95%|███████████████████████████████████████████████▌  | 95/100 [40:57<01:34, 18.90s/it, best loss: 0.6206973030518098]"
     ]
    },
    {
     "name": "stderr",
     "output_type": "stream",
     "text": [
      "C:\\Users\\Saad\\Desktop\\Hybrid SOM on NSL - MultiClass\\KohonenSom.py:113: FutureWarning: Using a non-tuple sequence for multidimensional indexing is deprecated; use `arr[tuple(seq)]` instead of `arr[seq]`. In the future this will be interpreted as an array index, `arr[np.array(seq)]`, which will result either in an error or a different result.\n",
      "  bmuDistance = bmuDistance[slc]\n",
      "\n"
     ]
    },
    {
     "name": "stdout",
     "output_type": "stream",
     "text": [
      "{'initial_radius': 1.9264564536578503, 'learning_decay': 0.0776224482781166, 'learning_rate': 5.443550736931823, 'minNumberPerBmu': 5.884566428446913, 'n_neighbors': 2.337841330776376, 'radius_decay': 0.033716059686644345, 'x': 40.99446627922628}\n",
      "0.6684261887863734                                                                                                     \n",
      " 96%|████████████████████████████████████████████████  | 96/100 [41:30<01:32, 23.08s/it, best loss: 0.6206973030518098]"
     ]
    },
    {
     "name": "stderr",
     "output_type": "stream",
     "text": [
      "C:\\Users\\Saad\\Desktop\\Hybrid SOM on NSL - MultiClass\\KohonenSom.py:113: FutureWarning: Using a non-tuple sequence for multidimensional indexing is deprecated; use `arr[tuple(seq)]` instead of `arr[seq]`. In the future this will be interpreted as an array index, `arr[np.array(seq)]`, which will result either in an error or a different result.\n",
      "  bmuDistance = bmuDistance[slc]\n",
      "\n"
     ]
    },
    {
     "name": "stdout",
     "output_type": "stream",
     "text": [
      "{'initial_radius': 9.098549391904807, 'learning_decay': 0.08989009826308512, 'learning_rate': 8.654591676972958, 'minNumberPerBmu': 4.836560917639119, 'n_neighbors': 1.8582545445008445, 'radius_decay': 0.06220834348768994, 'x': 46.71953605319499}\n",
      "0.6997870830376154                                                                                                     \n",
      " 97%|████████████████████████████████████████████████▌ | 97/100 [42:13<01:26, 28.97s/it, best loss: 0.6206973030518098]"
     ]
    },
    {
     "name": "stderr",
     "output_type": "stream",
     "text": [
      "C:\\Users\\Saad\\Desktop\\Hybrid SOM on NSL - MultiClass\\KohonenSom.py:113: FutureWarning: Using a non-tuple sequence for multidimensional indexing is deprecated; use `arr[tuple(seq)]` instead of `arr[seq]`. In the future this will be interpreted as an array index, `arr[np.array(seq)]`, which will result either in an error or a different result.\n",
      "  bmuDistance = bmuDistance[slc]\n",
      "\n"
     ]
    },
    {
     "name": "stdout",
     "output_type": "stream",
     "text": [
      "{'initial_radius': 1.499499052813722, 'learning_decay': 0.06320181460548656, 'learning_rate': 5.811335129279141, 'minNumberPerBmu': 5.29195707917377, 'n_neighbors': 2.1280275024249917, 'radius_decay': 0.02247918487825636, 'x': 32.21221768383988}\n",
      "0.6850159687721789                                                                                                     \n",
      " 98%|█████████████████████████████████████████████████ | 98/100 [42:34<00:53, 26.72s/it, best loss: 0.6206973030518098]"
     ]
    },
    {
     "name": "stderr",
     "output_type": "stream",
     "text": [
      "C:\\Users\\Saad\\Desktop\\Hybrid SOM on NSL - MultiClass\\KohonenSom.py:113: FutureWarning: Using a non-tuple sequence for multidimensional indexing is deprecated; use `arr[tuple(seq)]` instead of `arr[seq]`. In the future this will be interpreted as an array index, `arr[np.array(seq)]`, which will result either in an error or a different result.\n",
      "  bmuDistance = bmuDistance[slc]\n",
      "\n"
     ]
    },
    {
     "name": "stdout",
     "output_type": "stream",
     "text": [
      "{'initial_radius': 5.0463154570432645, 'learning_decay': 0.0240137739596562, 'learning_rate': 1.9680391485952762, 'minNumberPerBmu': 9.075144791518905, 'n_neighbors': 4.951744553603586, 'radius_decay': 0.041749164153543294, 'x': 26.974335872829336}\n",
      "0.7358498935415188                                                                                                     \n",
      " 99%|█████████████████████████████████████████████████▌| 99/100 [42:45<00:21, 21.97s/it, best loss: 0.6206973030518098]"
     ]
    },
    {
     "name": "stderr",
     "output_type": "stream",
     "text": [
      "C:\\Users\\Saad\\Desktop\\Hybrid SOM on NSL - MultiClass\\KohonenSom.py:113: FutureWarning: Using a non-tuple sequence for multidimensional indexing is deprecated; use `arr[tuple(seq)]` instead of `arr[seq]`. In the future this will be interpreted as an array index, `arr[np.array(seq)]`, which will result either in an error or a different result.\n",
      "  bmuDistance = bmuDistance[slc]\n",
      "\n"
     ]
    },
    {
     "name": "stdout",
     "output_type": "stream",
     "text": [
      "{'initial_radius': 3.817153569391558, 'learning_decay': 0.057665637586308244, 'learning_rate': 7.526072895793383, 'minNumberPerBmu': 8.280083876225536, 'n_neighbors': 1.243828352222075, 'radius_decay': 0.04522603166970472, 'x': 35.649728839505656}\n",
      "0.6760113555713272                                                                                                     \n",
      "100%|█████████████████████████████████████████████████| 100/100 [43:11<00:00, 25.91s/it, best loss: 0.6206973030518098]\n",
      "best: {'initial_radius': 4.036503163329502, 'learning_decay': 0.07565750330720142, 'learning_rate': 7.671394829923936, 'minNumberPerBmu': 6.257803577861475, 'n_neighbors': 4.690361644961404, 'radius_decay': 0.03882318875609283, 'x': 41.94438445158169}\n"
     ]
    }
   ],
   "source": [
    "\n",
    "def minimize_anomaly(benign_metrics, anomaly_metrics, alpha=3):\n",
    "    #HYPERPARAMETER TUNING\n",
    "    #objective function to be minimized during tuning calculates \n",
    "    #percent error in classifying anomalies based on steady state metrics\n",
    "    \n",
    "    limit =  np.mean(benign_metrics) + np.std(benign_metrics) * alpha\n",
    "    outliers = np.argwhere(np.abs(anomaly_metrics) > limit)\n",
    "    pct_anomaly = len(outliers) / len(anomaly_metrics)\n",
    "    return 1 - pct_anomaly\n",
    "\n",
    "print(minimize_anomaly(benign_metrics, anomaly_metrics))\n",
    "    \n",
    "from hyperopt import Trials, STATUS_OK, fmin, tpe, hp\n",
    "# Hyperparameter Tuning for anomaly detector \n",
    "space = {\n",
    "        'n_neighbors': hp.uniform('n_neighbors', 1, 6),\n",
    "        'learning_rate': hp.uniform('learning_rate', 0.005, 10),\n",
    "        'learning_decay': hp.uniform('learning_decay', 0.00001, 0.1),\n",
    "        'initial_radius': hp.uniform('initial_radius', 1, 10),\n",
    "        'radius_decay' : hp.uniform('radius_decay', 0.00001, 0.1),\n",
    "        'x': hp.uniform('x', 10, 50),\n",
    "        'minNumberPerBmu': hp.uniform('minNumberPerBmu', 0, 10)\n",
    "        }\n",
    "\n",
    "def anomaly_fn(space):\n",
    "    n_neighbors = int(space['n_neighbors'])\n",
    "    learning_rate = space['learning_rate']\n",
    "    learning_decay = space['learning_decay']\n",
    "    initial_radius = int(space['initial_radius'])\n",
    "    radius_decay = space['radius_decay']\n",
    "    x = int(space['x'])\n",
    "    minNumberPerBmu = int(space['minNumberPerBmu'])\n",
    "    \n",
    "    anomaly_detector = AnomalyDetection(shape=(x, x),\n",
    "                                        input_size=training.shape[1],\n",
    "                                        learning_rate=learning_rate,\n",
    "                                        learning_decay=learning_decay,\n",
    "                                        initial_radius=initial_radius,\n",
    "                                        radius_decay=radius_decay,\n",
    "                                        minNumberPerBmu=minNumberPerBmu,\n",
    "                                        numberOfNeighbors=n_neighbors)\n",
    "    anomaly_detector.fit(training, 5000)\n",
    "    a_metrics = anomaly_detector.evaluate(evaluation)\n",
    "    b_metrics = anomaly_detector.evaluate(training)\n",
    "    val = minimize_anomaly(b_metrics, a_metrics, alpha=3) #generating a value\n",
    "    \n",
    "    print(space)\n",
    "    print(val)\n",
    "    return {'loss': val, 'status': STATUS_OK}\n",
    "\n",
    "\n",
    "trials = Trials()\n",
    "best = fmin(fn=anomaly_fn,\n",
    "            space=space,\n",
    "            algo=tpe.suggest,\n",
    "            max_evals=100,\n",
    "            trials=trials)\n",
    "print('best: {}'.format(best))"
   ]
  },
  {
   "cell_type": "code",
   "execution_count": 24,
   "metadata": {},
   "outputs": [
    {
     "name": "stdout",
     "output_type": "stream",
     "text": [
      "11.995786666870117 seconds\n"
     ]
    }
   ],
   "source": [
    "\n",
    "#from KohonenSom import KohonenSom\n",
    "from som_anomaly_detector.AnomalyDetection import AnomalyDetection\n",
    "\n",
    "\n",
    "start_timeprint = time.time()\n",
    "\n",
    "anomaly_detector = AnomalyDetection(shape=(20,20), input_size=training.shape[1],\n",
    "                                    learning_rate=9.800275263995829,\n",
    "                                    learning_decay=0.0029030131893884627,\n",
    "                                    initial_radius=4.13960012604465,\n",
    "                                    radius_decay=0.0012626284950839894,\n",
    "                                    minNumberPerBmu=7.304609930044314,\n",
    "                                    numberOfNeighbors=2)\n",
    "\n",
    "#Fit the anomaly detector and apply to the evaluation data\n",
    "anomaly_detector.fit(training,10000); \n",
    "elapsed_time = time.time() - start_timeprint\n",
    "print(elapsed_time, \"seconds\")\n",
    "\n"
   ]
  },
  {
   "cell_type": "code",
   "execution_count": 28,
   "metadata": {},
   "outputs": [
    {
     "data": {
      "image/png": "[encoded data removed]",
      "text/plain": [
       "<Figure size 432x288 with 2 Axes>"
      ]
     },
     "metadata": {
      "needs_background": "light"
     },
     "output_type": "display_data"
    },
    {
     "name": "stdout",
     "output_type": "stream",
     "text": [
      "0.13570499420166016 seconds\n"
     ]
    },
    {
     "data": {
      "image/png": "[encoded data removed]",
      "text/plain": [
       "<Figure size 432x288 with 2 Axes>"
      ]
     },
     "metadata": {
      "needs_background": "light"
     },
     "output_type": "display_data"
    },
    {
     "data": {
      "image/png": "[encoded data removed]",
      "text/plain": [
       "<Figure size 432x288 with 2 Axes>"
      ]
     },
     "metadata": {
      "needs_background": "light"
     },
     "output_type": "display_data"
    },
    {
     "data": {
      "image/png": "[encoded data removed]",
      "text/plain": [
       "<Figure size 432x288 with 2 Axes>"
      ]
     },
     "metadata": {
      "needs_background": "light"
     },
     "output_type": "display_data"
    },
    {
     "data": {
      "image/png": "[encoded data removed]",
      "text/plain": [
       "<Figure size 432x288 with 2 Axes>"
      ]
     },
     "metadata": {
      "needs_background": "light"
     },
     "output_type": "display_data"
    },
    {
     "data": {
      "image/png": "[encoded data removed]",
      "text/plain": [
       "<Figure size 432x288 with 2 Axes>"
      ]
     },
     "metadata": {
      "needs_background": "light"
     },
     "output_type": "display_data"
    }
   ],
   "source": [
    "\n",
    "#set limits\n",
    "\n",
    "benign_metrics = anomaly_detector.evaluate(data_benign_new) #this\n",
    "alpha = 3\n",
    "sd_benign = np.std(benign_metrics)\n",
    "mean_benign = np.mean(benign_metrics)\n",
    "lim_benign = mean_benign + alpha * sd_benign \n",
    "pct_benign = np.percentile(benign_metrics, 99.7) \n",
    "\n",
    "\n",
    "#visualizing benign\n",
    "density = gaussian_kde(benign_metrics)\n",
    "plt.subplot(121)\n",
    "plt.axvline(x=pct_benign, color='red')\n",
    "xs = np.linspace(0,1,200)\n",
    "plt.plot(xs,density(xs))\n",
    "plt.title(\"Beign Metrics Percentile\")\n",
    "plt.subplot(122)\n",
    "plt.axvline(x=lim_benign, color='red')\n",
    "xs= np.linspace(0,1,200)\n",
    "plt.plot(xs,density(xs))\n",
    "plt.title(\"Benign Metrics S.D.\")\n",
    "plt.show()          \n",
    "\n",
    "\n",
    "#visualizing all anomalies\n",
    "\n",
    "start_timeprint = time.time()\n",
    "anomaly_metrics = anomaly_detector.evaluate(evaluation) #this\n",
    "elapsed_time = time.time() - start_timeprint\n",
    "print(elapsed_time, \"seconds\")\n",
    "\n",
    "\n",
    "density = gaussian_kde(anomaly_metrics)\n",
    "plt.subplot(121)\n",
    "plt.axvline(x=pct_benign, color='red')\n",
    "xs = np.linspace(0,1,200)\n",
    "plt.plot(xs,density(xs))\n",
    "plt.title(\"Anomaly Metrics Percentile\")\n",
    "plt.subplot(122)\n",
    "plt.axvline(x=lim_benign, color='red')\n",
    "xs = np.linspace(0,1,200)\n",
    "plt.plot(xs,density(xs))\n",
    "plt.title(\"Anomaly Metrics S.D.\")\n",
    "plt.show()\n",
    "\n",
    "#visualizing each anomaly\n",
    "probe_metrics = anomaly_detector.evaluate(dft_data_probe_new) #this\n",
    "\n",
    "density = gaussian_kde(probe_metrics)\n",
    "plt.subplot(121)\n",
    "plt.axvline(x=pct_benign, color='red')\n",
    "xs = np.linspace(0,1,200)\n",
    "plt.plot(xs,density(xs))\n",
    "plt.title(\"Probe Metrics Percentile\")\n",
    "plt.subplot(122)\n",
    "plt.axvline(x=lim_benign, color='red')\n",
    "xs = np.linspace(0,1,200)\n",
    "plt.plot(xs,density(xs))\n",
    "plt.title(\"Probe Metrics S.D.\")\n",
    "plt.show()\n",
    "\n",
    "\n",
    "r2l_metrics = anomaly_detector.evaluate(dft_data_r2l_new) #this\n",
    "\n",
    "density = gaussian_kde(r2l_metrics)\n",
    "plt.subplot(121)\n",
    "plt.axvline(x=pct_benign, color='red')\n",
    "xs = np.linspace(0,1,200)\n",
    "plt.plot(xs,density(xs))\n",
    "plt.title(\"R2l Metrics\")\n",
    "plt.subplot(122)\n",
    "plt.axvline(x=lim_benign, color='red')\n",
    "xs = np.linspace(0,1,200)\n",
    "plt.plot(xs,density(xs))\n",
    "plt.title(\"R2l Metrics S.D.\")\n",
    "plt.show()\n",
    "\n",
    "dos_metrics = anomaly_detector.evaluate(dft_data_dos_new) #this\n",
    "\n",
    "density = gaussian_kde(dos_metrics)\n",
    "plt.subplot(121)\n",
    "plt.axvline(x=pct_benign, color='red')\n",
    "xs = np.linspace(0,1,200)\n",
    "plt.plot(xs,density(xs))\n",
    "plt.title(\"dos Metrics\")\n",
    "plt.subplot(122)\n",
    "plt.axvline(x=lim_benign, color='red')\n",
    "xs = np.linspace(0,1,200)\n",
    "plt.plot(xs,density(xs))\n",
    "plt.title(\"dos Metrics S.D.\")\n",
    "plt.show()\n",
    "\n",
    "u2r_metrics = anomaly_detector.evaluate(dft_data_u2r_new) #this\n",
    "\n",
    "density = gaussian_kde(u2r_metrics)\n",
    "plt.subplot(121)\n",
    "plt.axvline(x=pct_benign, color='red')\n",
    "xs = np.linspace(0,1,200)\n",
    "plt.plot(xs,density(xs))\n",
    "plt.title(\"u2r Metrics\")\n",
    "plt.subplot(122)\n",
    "plt.axvline(x=lim_benign, color='red')\n",
    "xs = np.linspace(0,1,200)\n",
    "plt.plot(xs,density(xs))\n",
    "plt.title(\"u2r Metrics S.D.\")\n",
    "plt.show()"
   ]
  },
  {
   "cell_type": "code",
   "execution_count": 29,
   "metadata": {},
   "outputs": [
    {
     "name": "stdout",
     "output_type": "stream",
     "text": [
      "benign\n",
      "Determined:  1.7151003073816136 % as anomaly\n",
      "all anomalies\n",
      "Determined:  39.7444996451384 % as anomaly\n",
      "probe\n",
      "Determined:  90.12804626187526 % as anomaly\n",
      "r2l\n",
      "Determined:  5.407279029462738 % as anomaly\n",
      "dos\n",
      "Determined:  85.69705093833781 % as anomaly\n",
      "u2r\n",
      "Determined:  100.0 % as anomaly\n"
     ]
    }
   ],
   "source": [
    "\n",
    "metrics = [benign_metrics, anomaly_metrics, probe_metrics, r2l_metrics, dos_metrics, u2r_metrics]\n",
    "metric_names = [\"benign\", \"all anomalies\", \"probe\", \"r2l\", \"dos\", \"u2r\"]\n",
    "alpha = 3\n",
    "for metric, name in zip(metrics, metric_names):\n",
    "    print(name)\n",
    "    get_anomalies(benign_metrics, metric, alpha, False)\n",
    "    "
   ]
  }
 ],
 "metadata": {
  "kernelspec": {
   "display_name": "Python 3",
   "language": "python",
   "name": "python3"
  },
  "language_info": {
   "codemirror_mode": {
    "name": "ipython",
    "version": 3
   },
   "file_extension": ".py",
   "mimetype": "text/x-python",
   "name": "python",
   "nbconvert_exporter": "python",
   "pygments_lexer": "ipython3",
   "version": "3.7.5"
  }
 },
 "nbformat": 4,
 "nbformat_minor": 2
}
